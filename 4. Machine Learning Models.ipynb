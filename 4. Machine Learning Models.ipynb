{
 "cells": [
  {
   "cell_type": "code",
   "execution_count": 1,
   "id": "53c92ece",
   "metadata": {},
   "outputs": [
    {
     "name": "stdout",
     "output_type": "stream",
     "text": [
      "C:\\Users\\tania\\Desktop\\Minor project\\Coding\n"
     ]
    }
   ],
   "source": [
    "cd C:\\Users\\tania\\Desktop\\Minor project\\Coding"
   ]
  },
  {
   "cell_type": "code",
   "execution_count": 2,
   "id": "37ed9858",
   "metadata": {},
   "outputs": [
    {
     "data": {
      "text/plain": [
       "'C:\\\\Users\\\\tania\\\\Desktop\\\\Minor project\\\\Coding'"
      ]
     },
     "execution_count": 2,
     "metadata": {},
     "output_type": "execute_result"
    }
   ],
   "source": [
    "pwd"
   ]
  },
  {
   "cell_type": "code",
   "execution_count": 3,
   "id": "054638db",
   "metadata": {},
   "outputs": [],
   "source": [
    "file_path = \"./final_ipynb_1\""
   ]
  },
  {
   "cell_type": "markdown",
   "id": "03ada099",
   "metadata": {},
   "source": [
    "### Importing libraries"
   ]
  },
  {
   "cell_type": "code",
   "execution_count": 4,
   "id": "e43ca4e5",
   "metadata": {},
   "outputs": [],
   "source": [
    "import numpy as np  # for array\n",
    "import pandas as pd  # for csv files and dataframe\n",
    "import matplotlib.pyplot as plt  # for plotting\n",
    "import seaborn as sns  # plotting\n",
    "from scipy import stats\n",
    "from tqdm import tqdm  # Progress bar\n",
    "\n",
    "import pickle  # To load data int disk\n",
    "from prettytable import PrettyTable  # To print in tabular format\n",
    "\n",
    "import warnings\n",
    "warnings.filterwarnings(\"ignore\")\n",
    "\n",
    "from sklearn.preprocessing import StandardScaler  # Standardizer\n",
    "from sklearn.preprocessing import LabelEncoder, OneHotEncoder  # One hot Encoder\n",
    "from scipy.sparse import csr_matrix  # For sparse matrix\n",
    "\n",
    "from sklearn.model_selection import train_test_split\n",
    "# Different Models\n",
    "from sklearn.linear_model import LogisticRegression, SGDClassifier  # LR\n",
    "from sklearn.svm import LinearSVC  # SVM\n",
    "from sklearn.tree import DecisionTreeClassifier  #DT\n",
    "from sklearn.ensemble import RandomForestClassifier  # RF\n",
    "import xgboost as xgb  #XGB\n",
    "\n",
    "from sklearn.metrics import accuracy_score, confusion_matrix, make_scorer  # Scoring functions\n",
    "from sklearn.metrics import auc, f1_score, roc_curve, roc_auc_score  # Scoring fns\n",
    "from sklearn.model_selection import GridSearchCV, RandomizedSearchCV  # Cross validation\n",
    "\n",
    "%matplotlib inline"
   ]
  },
  {
   "cell_type": "markdown",
   "id": "89381884",
   "metadata": {},
   "source": [
    "### Loading files"
   ]
  },
  {
   "cell_type": "code",
   "execution_count": 5,
   "id": "a169cc65",
   "metadata": {},
   "outputs": [],
   "source": [
    "# Train and Test data\n",
    "x_train, y_train = pickle.load(open(file_path+'/final_train.pkl', 'rb'))\n",
    "x_test, y_test = pickle.load(open(file_path+'/final_test.pkl', 'rb'))\n",
    "\n",
    "# Dictionaries\n",
    "saved_dict = pickle.load(open(file_path+'/saved_dict.pkl', 'rb'))\n",
    "mode_dict = pickle.load(open(file_path+'/mode_dict.pkl', 'rb'))\n",
    "\n",
    "# Standard scaler\n",
    "scaler = pickle.load(open(file_path+'/scaler.pkl', 'rb'))\n",
    "\n",
    "# Onehot encoders\n",
    "ohe_proto = pickle.load(open(file_path+'/ohe_proto.pkl', 'rb'))\n",
    "ohe_service = pickle.load(open(file_path+'/ohe_service.pkl', 'rb'))\n",
    "ohe_state = pickle.load(open(file_path+'/ohe_state.pkl', 'rb'))"
   ]
  },
  {
   "cell_type": "code",
   "execution_count": 6,
   "id": "29970422",
   "metadata": {},
   "outputs": [],
   "source": [
    "# Making the train data sparse matrix\n",
    "x_train_csr = csr_matrix(x_train.values)\n",
    "\n",
    "col = x_train.columns\n",
    "\n",
    "# Creating sparse dataframe with x_train sparse matrix\n",
    "x_train = pd.DataFrame.sparse.from_spmatrix(x_train_csr, columns=col) "
   ]
  },
  {
   "cell_type": "code",
   "execution_count": 7,
   "id": "752b00fc",
   "metadata": {},
   "outputs": [],
   "source": [
    "# Saving it to disk to use later\n",
    "pickle.dump((x_train, y_train), open(file_path+'/train_sparse.pkl', 'wb'))\n",
    "\n",
    "# Loading sparse data\n",
    "x_train, y_train = pickle.load(open(file_path+'/train_sparse.pkl', 'rb'))"
   ]
  },
  {
   "cell_type": "code",
   "execution_count": 8,
   "id": "60cfb3dc",
   "metadata": {},
   "outputs": [
    {
     "data": {
      "text/html": [
       "<div>\n",
       "<style scoped>\n",
       "    .dataframe tbody tr th:only-of-type {\n",
       "        vertical-align: middle;\n",
       "    }\n",
       "\n",
       "    .dataframe tbody tr th {\n",
       "        vertical-align: top;\n",
       "    }\n",
       "\n",
       "    .dataframe thead th {\n",
       "        text-align: right;\n",
       "    }\n",
       "</style>\n",
       "<table border=\"1\" class=\"dataframe\">\n",
       "  <thead>\n",
       "    <tr style=\"text-align: right;\">\n",
       "      <th></th>\n",
       "      <th>sttl</th>\n",
       "      <th>dttl</th>\n",
       "      <th>swin</th>\n",
       "      <th>trans_depth</th>\n",
       "      <th>res_bdy_len</th>\n",
       "      <th>stime</th>\n",
       "      <th>sintpkt</th>\n",
       "      <th>dintpkt</th>\n",
       "      <th>tcprtt</th>\n",
       "      <th>synack</th>\n",
       "      <th>...</th>\n",
       "      <th>state_INT</th>\n",
       "      <th>state_MAS</th>\n",
       "      <th>state_PAR</th>\n",
       "      <th>state_REQ</th>\n",
       "      <th>state_RST</th>\n",
       "      <th>state_TST</th>\n",
       "      <th>state_TXD</th>\n",
       "      <th>state_URH</th>\n",
       "      <th>state_URN</th>\n",
       "      <th>state_no</th>\n",
       "    </tr>\n",
       "  </thead>\n",
       "  <tbody>\n",
       "    <tr>\n",
       "      <th>0</th>\n",
       "      <td>2.561444</td>\n",
       "      <td>-0.717760</td>\n",
       "      <td>-1.196045</td>\n",
       "      <td>-0.225343</td>\n",
       "      <td>-0.089113</td>\n",
       "      <td>-1.172764</td>\n",
       "      <td>-0.057567</td>\n",
       "      <td>-0.055099</td>\n",
       "      <td>-0.136439</td>\n",
       "      <td>-0.128893</td>\n",
       "      <td>...</td>\n",
       "      <td>1.0</td>\n",
       "      <td>0.0</td>\n",
       "      <td>0.0</td>\n",
       "      <td>0.0</td>\n",
       "      <td>0.0</td>\n",
       "      <td>0.0</td>\n",
       "      <td>0.0</td>\n",
       "      <td>0.0</td>\n",
       "      <td>0.0</td>\n",
       "      <td>0.0</td>\n",
       "    </tr>\n",
       "    <tr>\n",
       "      <th>1</th>\n",
       "      <td>-0.037542</td>\n",
       "      <td>-0.717760</td>\n",
       "      <td>-1.196045</td>\n",
       "      <td>-0.225343</td>\n",
       "      <td>-0.089113</td>\n",
       "      <td>0.868469</td>\n",
       "      <td>-0.069616</td>\n",
       "      <td>-0.055099</td>\n",
       "      <td>-0.136439</td>\n",
       "      <td>-0.128893</td>\n",
       "      <td>...</td>\n",
       "      <td>1.0</td>\n",
       "      <td>0.0</td>\n",
       "      <td>0.0</td>\n",
       "      <td>0.0</td>\n",
       "      <td>0.0</td>\n",
       "      <td>0.0</td>\n",
       "      <td>0.0</td>\n",
       "      <td>0.0</td>\n",
       "      <td>0.0</td>\n",
       "      <td>0.0</td>\n",
       "    </tr>\n",
       "    <tr>\n",
       "      <th>2</th>\n",
       "      <td>-0.426051</td>\n",
       "      <td>-0.041365</td>\n",
       "      <td>0.836096</td>\n",
       "      <td>-0.225343</td>\n",
       "      <td>-0.089113</td>\n",
       "      <td>-1.157401</td>\n",
       "      <td>-0.069485</td>\n",
       "      <td>-0.054857</td>\n",
       "      <td>-0.121383</td>\n",
       "      <td>-0.107394</td>\n",
       "      <td>...</td>\n",
       "      <td>0.0</td>\n",
       "      <td>0.0</td>\n",
       "      <td>0.0</td>\n",
       "      <td>0.0</td>\n",
       "      <td>0.0</td>\n",
       "      <td>0.0</td>\n",
       "      <td>0.0</td>\n",
       "      <td>0.0</td>\n",
       "      <td>0.0</td>\n",
       "      <td>0.0</td>\n",
       "    </tr>\n",
       "    <tr>\n",
       "      <th>3</th>\n",
       "      <td>-0.426051</td>\n",
       "      <td>-0.041365</td>\n",
       "      <td>0.836096</td>\n",
       "      <td>-0.225343</td>\n",
       "      <td>-0.089113</td>\n",
       "      <td>-1.136357</td>\n",
       "      <td>-0.063807</td>\n",
       "      <td>-0.044512</td>\n",
       "      <td>-0.120830</td>\n",
       "      <td>-0.107159</td>\n",
       "      <td>...</td>\n",
       "      <td>0.0</td>\n",
       "      <td>0.0</td>\n",
       "      <td>0.0</td>\n",
       "      <td>0.0</td>\n",
       "      <td>0.0</td>\n",
       "      <td>0.0</td>\n",
       "      <td>0.0</td>\n",
       "      <td>0.0</td>\n",
       "      <td>0.0</td>\n",
       "      <td>0.0</td>\n",
       "    </tr>\n",
       "    <tr>\n",
       "      <th>4</th>\n",
       "      <td>-0.426051</td>\n",
       "      <td>-0.041365</td>\n",
       "      <td>0.836096</td>\n",
       "      <td>-0.225343</td>\n",
       "      <td>-0.089113</td>\n",
       "      <td>-1.144197</td>\n",
       "      <td>-0.069180</td>\n",
       "      <td>-0.054358</td>\n",
       "      <td>-0.123351</td>\n",
       "      <td>-0.110421</td>\n",
       "      <td>...</td>\n",
       "      <td>0.0</td>\n",
       "      <td>0.0</td>\n",
       "      <td>0.0</td>\n",
       "      <td>0.0</td>\n",
       "      <td>0.0</td>\n",
       "      <td>0.0</td>\n",
       "      <td>0.0</td>\n",
       "      <td>0.0</td>\n",
       "      <td>0.0</td>\n",
       "      <td>0.0</td>\n",
       "    </tr>\n",
       "  </tbody>\n",
       "</table>\n",
       "<p>5 rows × 197 columns</p>\n",
       "</div>"
      ],
      "text/plain": [
       "       sttl      dttl      swin  trans_depth  res_bdy_len     stime   sintpkt  \\\n",
       "0  2.561444 -0.717760 -1.196045    -0.225343    -0.089113 -1.172764 -0.057567   \n",
       "1 -0.037542 -0.717760 -1.196045    -0.225343    -0.089113  0.868469 -0.069616   \n",
       "2 -0.426051 -0.041365  0.836096    -0.225343    -0.089113 -1.157401 -0.069485   \n",
       "3 -0.426051 -0.041365  0.836096    -0.225343    -0.089113 -1.136357 -0.063807   \n",
       "4 -0.426051 -0.041365  0.836096    -0.225343    -0.089113 -1.144197 -0.069180   \n",
       "\n",
       "    dintpkt    tcprtt    synack  ...  state_INT  state_MAS  state_PAR  \\\n",
       "0 -0.055099 -0.136439 -0.128893  ...        1.0        0.0        0.0   \n",
       "1 -0.055099 -0.136439 -0.128893  ...        1.0        0.0        0.0   \n",
       "2 -0.054857 -0.121383 -0.107394  ...        0.0        0.0        0.0   \n",
       "3 -0.044512 -0.120830 -0.107159  ...        0.0        0.0        0.0   \n",
       "4 -0.054358 -0.123351 -0.110421  ...        0.0        0.0        0.0   \n",
       "\n",
       "   state_REQ  state_RST  state_TST  state_TXD  state_URH  state_URN  state_no  \n",
       "0        0.0        0.0        0.0        0.0        0.0        0.0       0.0  \n",
       "1        0.0        0.0        0.0        0.0        0.0        0.0       0.0  \n",
       "2        0.0        0.0        0.0        0.0        0.0        0.0       0.0  \n",
       "3        0.0        0.0        0.0        0.0        0.0        0.0       0.0  \n",
       "4        0.0        0.0        0.0        0.0        0.0        0.0       0.0  \n",
       "\n",
       "[5 rows x 197 columns]"
      ]
     },
     "execution_count": 8,
     "metadata": {},
     "output_type": "execute_result"
    }
   ],
   "source": [
    "x_train.sparse.to_dense().head()"
   ]
  },
  {
   "cell_type": "code",
   "execution_count": 9,
   "id": "b0f716ff",
   "metadata": {},
   "outputs": [
    {
     "data": {
      "text/plain": [
       "((1778032, 197), (1778032,))"
      ]
     },
     "execution_count": 9,
     "metadata": {},
     "output_type": "execute_result"
    }
   ],
   "source": [
    "x_train.shape, y_train.shape"
   ]
  },
  {
   "cell_type": "markdown",
   "id": "905a272c",
   "metadata": {},
   "source": [
    "### Pipeline functions"
   ]
  },
  {
   "cell_type": "code",
   "execution_count": 10,
   "id": "cfd4919d",
   "metadata": {},
   "outputs": [],
   "source": [
    "#------------------------------------------------------------------------------------------\n",
    "# Data Cleaning\n",
    "#------------------------------------------------------------------------------------------\n",
    "def clean_data(data):\n",
    "    '''\n",
    "    Cleans given raw data. Performs various cleaning, removes Null and wrong values.\n",
    "    Check for columns datatype and fix them.\n",
    "    '''\n",
    "    numerical_col = data.select_dtypes(include=np.number).columns  # All the numerical columns list\n",
    "    categorical_col = data.select_dtypes(exclude=np.number).columns  # All the categorical columns list\n",
    "    \n",
    "    # Cleaning the data\n",
    "    for col in data.columns:\n",
    "        val = mode_dict[col]  # Mode value of the column in train data\n",
    "        data[col] = data[col].fillna(value=val)\n",
    "        data[col] = data[col].replace(' ', value=val)\n",
    "        data[col] = data[col].apply(lambda x:\"None\" if x==\"-\" else x)\n",
    "\n",
    "        # Fixing binary columns\n",
    "        if col in saved_dict['binary_col']:\n",
    "            data[col] = np.where(data[col]>1, val, data[col])\n",
    "\n",
    "    # Fixing datatype of columns\n",
    "    bad_dtypes = list(set(categorical_col) - set(saved_dict['cat_col']))\n",
    "    for bad_col in bad_dtypes:\n",
    "        data[col] = data[col].astype(float)\n",
    "    \n",
    "    return data\n",
    "\n",
    "#------------------------------------------------------------------------------------------\n",
    "# Feature Engineering: Apply log1p\n",
    "#------------------------------------------------------------------------------------------\n",
    "def apply_log1p(data):\n",
    "    '''\n",
    "    Performs FE on the data. Apply log1p on the specified columns create new column and remove those original columns.\n",
    "    '''\n",
    "    for col in saved_dict['log1p_col']:\n",
    "        new_col = col + '_log1p'  # New col name\n",
    "        data[new_col] = data[col].apply(np.log1p)  # Creating new column on transformed data\n",
    "        data.drop(col, axis=1, inplace=True)  # Removing old columns\n",
    "    return data\n",
    "\n",
    "#------------------------------------------------------------------------------------------\n",
    "# Standardizing: Mean centering an d varience scaling\n",
    "#------------------------------------------------------------------------------------------\n",
    "def standardize(data):\n",
    "    '''\n",
    "    Stanardize the given data. Performs mean centering and varience scaling.\n",
    "    Using stanardscaler object trained on train data.\n",
    "    '''\n",
    "    data[saved_dict['num_col']] = scaler.transform(data[saved_dict['num_col']])\n",
    "    return data\n",
    "\n",
    "#------------------------------------------------------------------------------------------\n",
    "# Onehot encoding of categorical columns\n",
    "#------------------------------------------------------------------------------------------\n",
    "def ohencoding(data):\n",
    "    '''\n",
    "    Onehot encoding the categoricla columns.\n",
    "    Add the ohe columns with the data and removes categorical columns.\n",
    "    Using Onehotencoder objects trained on train data.\n",
    "    '''\n",
    "    # Onehot encoding cat col using onehotencoder objects\n",
    "    X = ohe_service.transform(data['service'].values.reshape(-1, 1))\n",
    "    Xm = ohe_proto.transform(data['proto'].values.reshape(-1, 1))\n",
    "    Xmm = ohe_state.transform(data['state'].values.reshape(-1, 1))\n",
    "    \n",
    "    # Adding encoding data to original data\n",
    "    data = pd.concat([data,\n",
    "                      pd.DataFrame(Xm.toarray(), columns=['proto_'+i for i in ohe_proto.categories_[0]]),\n",
    "                      pd.DataFrame(X.toarray(), columns=['service_'+i for i in ohe_service.categories_[0]]),\n",
    "                      pd.DataFrame(Xmm.toarray(), columns=['state_'+i for i in ohe_state.categories_[0]])],\n",
    "                      axis=1)\n",
    "    \n",
    "    # Removing cat columns\n",
    "    data.drop(['proto', 'service', 'state'], axis=1, inplace=True)\n",
    "    return data"
   ]
  },
  {
   "cell_type": "code",
   "execution_count": 11,
   "id": "0b7b073c",
   "metadata": {},
   "outputs": [],
   "source": [
    "def get_final_data(data, saved_dict=saved_dict, mode_dict=mode_dict):\n",
    "    '''\n",
    "    This functions takes raw input and convert that to model required output.\n",
    "    '''\n",
    "    data.reset_index(drop=True, inplace=True)\n",
    "    data.columns = saved_dict['columns']\n",
    "    \n",
    "    data['network_bytes'] = data['dbytes'] + data['sbytes']\n",
    "    \n",
    "    dropable_col = saved_dict['to_drop'] + saved_dict['corr_col']\n",
    "    data.drop(columns=dropable_col, inplace=True)\n",
    "    \n",
    "    data = clean_data(data)\n",
    "    data = apply_log1p(data)\n",
    "    data = standardize(data)\n",
    "    data = ohencoding(data)\n",
    "    \n",
    "    return data"
   ]
  },
  {
   "cell_type": "code",
   "execution_count": 22,
   "id": "64ea456e",
   "metadata": {},
   "outputs": [
    {
     "data": {
      "text/html": [
       "<div>\n",
       "<style scoped>\n",
       "    .dataframe tbody tr th:only-of-type {\n",
       "        vertical-align: middle;\n",
       "    }\n",
       "\n",
       "    .dataframe tbody tr th {\n",
       "        vertical-align: top;\n",
       "    }\n",
       "\n",
       "    .dataframe thead th {\n",
       "        text-align: right;\n",
       "    }\n",
       "</style>\n",
       "<table border=\"1\" class=\"dataframe\">\n",
       "  <thead>\n",
       "    <tr style=\"text-align: right;\">\n",
       "      <th></th>\n",
       "      <th>sttl</th>\n",
       "      <th>dttl</th>\n",
       "      <th>swin</th>\n",
       "      <th>trans_depth</th>\n",
       "      <th>res_bdy_len</th>\n",
       "      <th>stime</th>\n",
       "      <th>sintpkt</th>\n",
       "      <th>dintpkt</th>\n",
       "      <th>tcprtt</th>\n",
       "      <th>synack</th>\n",
       "      <th>...</th>\n",
       "      <th>state_INT</th>\n",
       "      <th>state_MAS</th>\n",
       "      <th>state_PAR</th>\n",
       "      <th>state_REQ</th>\n",
       "      <th>state_RST</th>\n",
       "      <th>state_TST</th>\n",
       "      <th>state_TXD</th>\n",
       "      <th>state_URH</th>\n",
       "      <th>state_URN</th>\n",
       "      <th>state_no</th>\n",
       "    </tr>\n",
       "  </thead>\n",
       "  <tbody>\n",
       "    <tr>\n",
       "      <th>0</th>\n",
       "      <td>-0.426051</td>\n",
       "      <td>-0.041365</td>\n",
       "      <td>-1.196045</td>\n",
       "      <td>-0.225343</td>\n",
       "      <td>-0.089113</td>\n",
       "      <td>-1.148407</td>\n",
       "      <td>-0.069615</td>\n",
       "      <td>-0.055095</td>\n",
       "      <td>-0.136439</td>\n",
       "      <td>-0.128893</td>\n",
       "      <td>...</td>\n",
       "      <td>0.0</td>\n",
       "      <td>0.0</td>\n",
       "      <td>0.0</td>\n",
       "      <td>0.0</td>\n",
       "      <td>0.0</td>\n",
       "      <td>0.0</td>\n",
       "      <td>0.0</td>\n",
       "      <td>0.0</td>\n",
       "      <td>0.0</td>\n",
       "      <td>0.0</td>\n",
       "    </tr>\n",
       "    <tr>\n",
       "      <th>1</th>\n",
       "      <td>-0.426051</td>\n",
       "      <td>-0.041365</td>\n",
       "      <td>-1.196045</td>\n",
       "      <td>-0.225343</td>\n",
       "      <td>-0.089113</td>\n",
       "      <td>-1.163715</td>\n",
       "      <td>-0.069617</td>\n",
       "      <td>-0.055093</td>\n",
       "      <td>-0.136439</td>\n",
       "      <td>-0.128893</td>\n",
       "      <td>...</td>\n",
       "      <td>0.0</td>\n",
       "      <td>0.0</td>\n",
       "      <td>0.0</td>\n",
       "      <td>0.0</td>\n",
       "      <td>0.0</td>\n",
       "      <td>0.0</td>\n",
       "      <td>0.0</td>\n",
       "      <td>0.0</td>\n",
       "      <td>0.0</td>\n",
       "      <td>0.0</td>\n",
       "    </tr>\n",
       "    <tr>\n",
       "      <th>2</th>\n",
       "      <td>-0.037542</td>\n",
       "      <td>-0.717760</td>\n",
       "      <td>-1.196045</td>\n",
       "      <td>-0.225343</td>\n",
       "      <td>-0.089113</td>\n",
       "      <td>0.855736</td>\n",
       "      <td>-0.069616</td>\n",
       "      <td>-0.055099</td>\n",
       "      <td>-0.136439</td>\n",
       "      <td>-0.128893</td>\n",
       "      <td>...</td>\n",
       "      <td>1.0</td>\n",
       "      <td>0.0</td>\n",
       "      <td>0.0</td>\n",
       "      <td>0.0</td>\n",
       "      <td>0.0</td>\n",
       "      <td>0.0</td>\n",
       "      <td>0.0</td>\n",
       "      <td>0.0</td>\n",
       "      <td>0.0</td>\n",
       "      <td>0.0</td>\n",
       "    </tr>\n",
       "    <tr>\n",
       "      <th>3</th>\n",
       "      <td>-0.426051</td>\n",
       "      <td>-0.041365</td>\n",
       "      <td>0.836096</td>\n",
       "      <td>-0.225343</td>\n",
       "      <td>-0.089113</td>\n",
       "      <td>-1.157963</td>\n",
       "      <td>-0.069518</td>\n",
       "      <td>-0.054912</td>\n",
       "      <td>-0.121029</td>\n",
       "      <td>-0.107473</td>\n",
       "      <td>...</td>\n",
       "      <td>0.0</td>\n",
       "      <td>0.0</td>\n",
       "      <td>0.0</td>\n",
       "      <td>0.0</td>\n",
       "      <td>0.0</td>\n",
       "      <td>0.0</td>\n",
       "      <td>0.0</td>\n",
       "      <td>0.0</td>\n",
       "      <td>0.0</td>\n",
       "      <td>0.0</td>\n",
       "    </tr>\n",
       "    <tr>\n",
       "      <th>4</th>\n",
       "      <td>-0.426051</td>\n",
       "      <td>-0.041365</td>\n",
       "      <td>-1.196045</td>\n",
       "      <td>-0.225343</td>\n",
       "      <td>-0.089113</td>\n",
       "      <td>0.864749</td>\n",
       "      <td>-0.069616</td>\n",
       "      <td>-0.055095</td>\n",
       "      <td>-0.136439</td>\n",
       "      <td>-0.128893</td>\n",
       "      <td>...</td>\n",
       "      <td>0.0</td>\n",
       "      <td>0.0</td>\n",
       "      <td>0.0</td>\n",
       "      <td>0.0</td>\n",
       "      <td>0.0</td>\n",
       "      <td>0.0</td>\n",
       "      <td>0.0</td>\n",
       "      <td>0.0</td>\n",
       "      <td>0.0</td>\n",
       "      <td>0.0</td>\n",
       "    </tr>\n",
       "    <tr>\n",
       "      <th>...</th>\n",
       "      <td>...</td>\n",
       "      <td>...</td>\n",
       "      <td>...</td>\n",
       "      <td>...</td>\n",
       "      <td>...</td>\n",
       "      <td>...</td>\n",
       "      <td>...</td>\n",
       "      <td>...</td>\n",
       "      <td>...</td>\n",
       "      <td>...</td>\n",
       "      <td>...</td>\n",
       "      <td>...</td>\n",
       "      <td>...</td>\n",
       "      <td>...</td>\n",
       "      <td>...</td>\n",
       "      <td>...</td>\n",
       "      <td>...</td>\n",
       "      <td>...</td>\n",
       "      <td>...</td>\n",
       "      <td>...</td>\n",
       "      <td>...</td>\n",
       "    </tr>\n",
       "    <tr>\n",
       "      <th>762010</th>\n",
       "      <td>-0.037542</td>\n",
       "      <td>-0.717760</td>\n",
       "      <td>-1.196045</td>\n",
       "      <td>-0.225343</td>\n",
       "      <td>-0.089113</td>\n",
       "      <td>0.863408</td>\n",
       "      <td>-0.069618</td>\n",
       "      <td>-0.055099</td>\n",
       "      <td>-0.136439</td>\n",
       "      <td>-0.128893</td>\n",
       "      <td>...</td>\n",
       "      <td>1.0</td>\n",
       "      <td>0.0</td>\n",
       "      <td>0.0</td>\n",
       "      <td>0.0</td>\n",
       "      <td>0.0</td>\n",
       "      <td>0.0</td>\n",
       "      <td>0.0</td>\n",
       "      <td>0.0</td>\n",
       "      <td>0.0</td>\n",
       "      <td>0.0</td>\n",
       "    </tr>\n",
       "    <tr>\n",
       "      <th>762011</th>\n",
       "      <td>-0.426051</td>\n",
       "      <td>-0.041365</td>\n",
       "      <td>0.836096</td>\n",
       "      <td>-0.225343</td>\n",
       "      <td>-0.089113</td>\n",
       "      <td>0.868763</td>\n",
       "      <td>-0.063459</td>\n",
       "      <td>-0.024255</td>\n",
       "      <td>-0.121604</td>\n",
       "      <td>-0.107787</td>\n",
       "      <td>...</td>\n",
       "      <td>0.0</td>\n",
       "      <td>0.0</td>\n",
       "      <td>0.0</td>\n",
       "      <td>0.0</td>\n",
       "      <td>0.0</td>\n",
       "      <td>0.0</td>\n",
       "      <td>0.0</td>\n",
       "      <td>0.0</td>\n",
       "      <td>0.0</td>\n",
       "      <td>0.0</td>\n",
       "    </tr>\n",
       "    <tr>\n",
       "      <th>762012</th>\n",
       "      <td>-0.426051</td>\n",
       "      <td>-0.041365</td>\n",
       "      <td>0.836096</td>\n",
       "      <td>-0.225343</td>\n",
       "      <td>-0.089113</td>\n",
       "      <td>0.873861</td>\n",
       "      <td>-0.062135</td>\n",
       "      <td>-0.041193</td>\n",
       "      <td>-0.122577</td>\n",
       "      <td>-0.108731</td>\n",
       "      <td>...</td>\n",
       "      <td>0.0</td>\n",
       "      <td>0.0</td>\n",
       "      <td>0.0</td>\n",
       "      <td>0.0</td>\n",
       "      <td>0.0</td>\n",
       "      <td>0.0</td>\n",
       "      <td>0.0</td>\n",
       "      <td>0.0</td>\n",
       "      <td>0.0</td>\n",
       "      <td>0.0</td>\n",
       "    </tr>\n",
       "    <tr>\n",
       "      <th>762013</th>\n",
       "      <td>2.561444</td>\n",
       "      <td>-0.717760</td>\n",
       "      <td>-1.196045</td>\n",
       "      <td>-0.225343</td>\n",
       "      <td>-0.089113</td>\n",
       "      <td>0.860948</td>\n",
       "      <td>-0.069617</td>\n",
       "      <td>-0.055099</td>\n",
       "      <td>-0.136439</td>\n",
       "      <td>-0.128893</td>\n",
       "      <td>...</td>\n",
       "      <td>1.0</td>\n",
       "      <td>0.0</td>\n",
       "      <td>0.0</td>\n",
       "      <td>0.0</td>\n",
       "      <td>0.0</td>\n",
       "      <td>0.0</td>\n",
       "      <td>0.0</td>\n",
       "      <td>0.0</td>\n",
       "      <td>0.0</td>\n",
       "      <td>0.0</td>\n",
       "    </tr>\n",
       "    <tr>\n",
       "      <th>762014</th>\n",
       "      <td>-0.426051</td>\n",
       "      <td>-0.041365</td>\n",
       "      <td>0.836096</td>\n",
       "      <td>2.477333</td>\n",
       "      <td>-0.006970</td>\n",
       "      <td>0.876373</td>\n",
       "      <td>-0.039639</td>\n",
       "      <td>-0.010826</td>\n",
       "      <td>-0.121449</td>\n",
       "      <td>-0.107748</td>\n",
       "      <td>...</td>\n",
       "      <td>0.0</td>\n",
       "      <td>0.0</td>\n",
       "      <td>0.0</td>\n",
       "      <td>0.0</td>\n",
       "      <td>0.0</td>\n",
       "      <td>0.0</td>\n",
       "      <td>0.0</td>\n",
       "      <td>0.0</td>\n",
       "      <td>0.0</td>\n",
       "      <td>0.0</td>\n",
       "    </tr>\n",
       "  </tbody>\n",
       "</table>\n",
       "<p>762015 rows × 197 columns</p>\n",
       "</div>"
      ],
      "text/plain": [
       "            sttl      dttl      swin  trans_depth  res_bdy_len     stime  \\\n",
       "0      -0.426051 -0.041365 -1.196045    -0.225343    -0.089113 -1.148407   \n",
       "1      -0.426051 -0.041365 -1.196045    -0.225343    -0.089113 -1.163715   \n",
       "2      -0.037542 -0.717760 -1.196045    -0.225343    -0.089113  0.855736   \n",
       "3      -0.426051 -0.041365  0.836096    -0.225343    -0.089113 -1.157963   \n",
       "4      -0.426051 -0.041365 -1.196045    -0.225343    -0.089113  0.864749   \n",
       "...          ...       ...       ...          ...          ...       ...   \n",
       "762010 -0.037542 -0.717760 -1.196045    -0.225343    -0.089113  0.863408   \n",
       "762011 -0.426051 -0.041365  0.836096    -0.225343    -0.089113  0.868763   \n",
       "762012 -0.426051 -0.041365  0.836096    -0.225343    -0.089113  0.873861   \n",
       "762013  2.561444 -0.717760 -1.196045    -0.225343    -0.089113  0.860948   \n",
       "762014 -0.426051 -0.041365  0.836096     2.477333    -0.006970  0.876373   \n",
       "\n",
       "         sintpkt   dintpkt    tcprtt    synack  ...  state_INT  state_MAS  \\\n",
       "0      -0.069615 -0.055095 -0.136439 -0.128893  ...        0.0        0.0   \n",
       "1      -0.069617 -0.055093 -0.136439 -0.128893  ...        0.0        0.0   \n",
       "2      -0.069616 -0.055099 -0.136439 -0.128893  ...        1.0        0.0   \n",
       "3      -0.069518 -0.054912 -0.121029 -0.107473  ...        0.0        0.0   \n",
       "4      -0.069616 -0.055095 -0.136439 -0.128893  ...        0.0        0.0   \n",
       "...          ...       ...       ...       ...  ...        ...        ...   \n",
       "762010 -0.069618 -0.055099 -0.136439 -0.128893  ...        1.0        0.0   \n",
       "762011 -0.063459 -0.024255 -0.121604 -0.107787  ...        0.0        0.0   \n",
       "762012 -0.062135 -0.041193 -0.122577 -0.108731  ...        0.0        0.0   \n",
       "762013 -0.069617 -0.055099 -0.136439 -0.128893  ...        1.0        0.0   \n",
       "762014 -0.039639 -0.010826 -0.121449 -0.107748  ...        0.0        0.0   \n",
       "\n",
       "        state_PAR  state_REQ  state_RST  state_TST  state_TXD  state_URH  \\\n",
       "0             0.0        0.0        0.0        0.0        0.0        0.0   \n",
       "1             0.0        0.0        0.0        0.0        0.0        0.0   \n",
       "2             0.0        0.0        0.0        0.0        0.0        0.0   \n",
       "3             0.0        0.0        0.0        0.0        0.0        0.0   \n",
       "4             0.0        0.0        0.0        0.0        0.0        0.0   \n",
       "...           ...        ...        ...        ...        ...        ...   \n",
       "762010        0.0        0.0        0.0        0.0        0.0        0.0   \n",
       "762011        0.0        0.0        0.0        0.0        0.0        0.0   \n",
       "762012        0.0        0.0        0.0        0.0        0.0        0.0   \n",
       "762013        0.0        0.0        0.0        0.0        0.0        0.0   \n",
       "762014        0.0        0.0        0.0        0.0        0.0        0.0   \n",
       "\n",
       "        state_URN  state_no  \n",
       "0             0.0       0.0  \n",
       "1             0.0       0.0  \n",
       "2             0.0       0.0  \n",
       "3             0.0       0.0  \n",
       "4             0.0       0.0  \n",
       "...           ...       ...  \n",
       "762010        0.0       0.0  \n",
       "762011        0.0       0.0  \n",
       "762012        0.0       0.0  \n",
       "762013        0.0       0.0  \n",
       "762014        0.0       0.0  \n",
       "\n",
       "[762015 rows x 197 columns]"
      ]
     },
     "execution_count": 22,
     "metadata": {},
     "output_type": "execute_result"
    }
   ],
   "source": [
    "x_test"
   ]
  },
  {
   "cell_type": "markdown",
   "id": "edd45323",
   "metadata": {},
   "source": [
    "### Training and validation of models"
   ]
  },
  {
   "cell_type": "code",
   "execution_count": 12,
   "id": "166d409e",
   "metadata": {},
   "outputs": [
    {
     "ename": "ValueError",
     "evalue": "Length mismatch: Expected axis has 197 elements, new values have 48 elements",
     "output_type": "error",
     "traceback": [
      "\u001b[1;31m---------------------------------------------------------------------------\u001b[0m",
      "\u001b[1;31mValueError\u001b[0m                                Traceback (most recent call last)",
      "\u001b[1;32m~\\AppData\\Local\\Temp/ipykernel_96972/2711568483.py\u001b[0m in \u001b[0;36m<module>\u001b[1;34m\u001b[0m\n\u001b[0;32m      1\u001b[0m \u001b[1;31m# Using pipeline to prepare test data\u001b[0m\u001b[1;33m\u001b[0m\u001b[1;33m\u001b[0m\u001b[1;33m\u001b[0m\u001b[0m\n\u001b[1;32m----> 2\u001b[1;33m \u001b[0mx_test\u001b[0m \u001b[1;33m=\u001b[0m \u001b[0mget_final_data\u001b[0m\u001b[1;33m(\u001b[0m\u001b[0mx_test\u001b[0m\u001b[1;33m)\u001b[0m\u001b[1;33m\u001b[0m\u001b[1;33m\u001b[0m\u001b[0m\n\u001b[0m",
      "\u001b[1;32m~\\AppData\\Local\\Temp/ipykernel_96972/803781128.py\u001b[0m in \u001b[0;36mget_final_data\u001b[1;34m(data, saved_dict, mode_dict)\u001b[0m\n\u001b[0;32m      4\u001b[0m     '''\n\u001b[0;32m      5\u001b[0m     \u001b[0mdata\u001b[0m\u001b[1;33m.\u001b[0m\u001b[0mreset_index\u001b[0m\u001b[1;33m(\u001b[0m\u001b[0mdrop\u001b[0m\u001b[1;33m=\u001b[0m\u001b[1;32mTrue\u001b[0m\u001b[1;33m,\u001b[0m \u001b[0minplace\u001b[0m\u001b[1;33m=\u001b[0m\u001b[1;32mTrue\u001b[0m\u001b[1;33m)\u001b[0m\u001b[1;33m\u001b[0m\u001b[1;33m\u001b[0m\u001b[0m\n\u001b[1;32m----> 6\u001b[1;33m     \u001b[0mdata\u001b[0m\u001b[1;33m.\u001b[0m\u001b[0mcolumns\u001b[0m \u001b[1;33m=\u001b[0m \u001b[0msaved_dict\u001b[0m\u001b[1;33m[\u001b[0m\u001b[1;34m'columns'\u001b[0m\u001b[1;33m]\u001b[0m\u001b[1;33m\u001b[0m\u001b[1;33m\u001b[0m\u001b[0m\n\u001b[0m\u001b[0;32m      7\u001b[0m \u001b[1;33m\u001b[0m\u001b[0m\n\u001b[0;32m      8\u001b[0m     \u001b[0mdata\u001b[0m\u001b[1;33m[\u001b[0m\u001b[1;34m'network_bytes'\u001b[0m\u001b[1;33m]\u001b[0m \u001b[1;33m=\u001b[0m \u001b[0mdata\u001b[0m\u001b[1;33m[\u001b[0m\u001b[1;34m'dbytes'\u001b[0m\u001b[1;33m]\u001b[0m \u001b[1;33m+\u001b[0m \u001b[0mdata\u001b[0m\u001b[1;33m[\u001b[0m\u001b[1;34m'sbytes'\u001b[0m\u001b[1;33m]\u001b[0m\u001b[1;33m\u001b[0m\u001b[1;33m\u001b[0m\u001b[0m\n",
      "\u001b[1;32m~\\anaconda3\\lib\\site-packages\\pandas\\core\\generic.py\u001b[0m in \u001b[0;36m__setattr__\u001b[1;34m(self, name, value)\u001b[0m\n\u001b[0;32m   5498\u001b[0m         \u001b[1;32mtry\u001b[0m\u001b[1;33m:\u001b[0m\u001b[1;33m\u001b[0m\u001b[1;33m\u001b[0m\u001b[0m\n\u001b[0;32m   5499\u001b[0m             \u001b[0mobject\u001b[0m\u001b[1;33m.\u001b[0m\u001b[0m__getattribute__\u001b[0m\u001b[1;33m(\u001b[0m\u001b[0mself\u001b[0m\u001b[1;33m,\u001b[0m \u001b[0mname\u001b[0m\u001b[1;33m)\u001b[0m\u001b[1;33m\u001b[0m\u001b[1;33m\u001b[0m\u001b[0m\n\u001b[1;32m-> 5500\u001b[1;33m             \u001b[1;32mreturn\u001b[0m \u001b[0mobject\u001b[0m\u001b[1;33m.\u001b[0m\u001b[0m__setattr__\u001b[0m\u001b[1;33m(\u001b[0m\u001b[0mself\u001b[0m\u001b[1;33m,\u001b[0m \u001b[0mname\u001b[0m\u001b[1;33m,\u001b[0m \u001b[0mvalue\u001b[0m\u001b[1;33m)\u001b[0m\u001b[1;33m\u001b[0m\u001b[1;33m\u001b[0m\u001b[0m\n\u001b[0m\u001b[0;32m   5501\u001b[0m         \u001b[1;32mexcept\u001b[0m \u001b[0mAttributeError\u001b[0m\u001b[1;33m:\u001b[0m\u001b[1;33m\u001b[0m\u001b[1;33m\u001b[0m\u001b[0m\n\u001b[0;32m   5502\u001b[0m             \u001b[1;32mpass\u001b[0m\u001b[1;33m\u001b[0m\u001b[1;33m\u001b[0m\u001b[0m\n",
      "\u001b[1;32m~\\anaconda3\\lib\\site-packages\\pandas\\_libs\\properties.pyx\u001b[0m in \u001b[0;36mpandas._libs.properties.AxisProperty.__set__\u001b[1;34m()\u001b[0m\n",
      "\u001b[1;32m~\\anaconda3\\lib\\site-packages\\pandas\\core\\generic.py\u001b[0m in \u001b[0;36m_set_axis\u001b[1;34m(self, axis, labels)\u001b[0m\n\u001b[0;32m    764\u001b[0m     \u001b[1;32mdef\u001b[0m \u001b[0m_set_axis\u001b[0m\u001b[1;33m(\u001b[0m\u001b[0mself\u001b[0m\u001b[1;33m,\u001b[0m \u001b[0maxis\u001b[0m\u001b[1;33m:\u001b[0m \u001b[0mint\u001b[0m\u001b[1;33m,\u001b[0m \u001b[0mlabels\u001b[0m\u001b[1;33m:\u001b[0m \u001b[0mIndex\u001b[0m\u001b[1;33m)\u001b[0m \u001b[1;33m->\u001b[0m \u001b[1;32mNone\u001b[0m\u001b[1;33m:\u001b[0m\u001b[1;33m\u001b[0m\u001b[1;33m\u001b[0m\u001b[0m\n\u001b[0;32m    765\u001b[0m         \u001b[0mlabels\u001b[0m \u001b[1;33m=\u001b[0m \u001b[0mensure_index\u001b[0m\u001b[1;33m(\u001b[0m\u001b[0mlabels\u001b[0m\u001b[1;33m)\u001b[0m\u001b[1;33m\u001b[0m\u001b[1;33m\u001b[0m\u001b[0m\n\u001b[1;32m--> 766\u001b[1;33m         \u001b[0mself\u001b[0m\u001b[1;33m.\u001b[0m\u001b[0m_mgr\u001b[0m\u001b[1;33m.\u001b[0m\u001b[0mset_axis\u001b[0m\u001b[1;33m(\u001b[0m\u001b[0maxis\u001b[0m\u001b[1;33m,\u001b[0m \u001b[0mlabels\u001b[0m\u001b[1;33m)\u001b[0m\u001b[1;33m\u001b[0m\u001b[1;33m\u001b[0m\u001b[0m\n\u001b[0m\u001b[0;32m    767\u001b[0m         \u001b[0mself\u001b[0m\u001b[1;33m.\u001b[0m\u001b[0m_clear_item_cache\u001b[0m\u001b[1;33m(\u001b[0m\u001b[1;33m)\u001b[0m\u001b[1;33m\u001b[0m\u001b[1;33m\u001b[0m\u001b[0m\n\u001b[0;32m    768\u001b[0m \u001b[1;33m\u001b[0m\u001b[0m\n",
      "\u001b[1;32m~\\anaconda3\\lib\\site-packages\\pandas\\core\\internals\\managers.py\u001b[0m in \u001b[0;36mset_axis\u001b[1;34m(self, axis, new_labels)\u001b[0m\n\u001b[0;32m    214\u001b[0m     \u001b[1;32mdef\u001b[0m \u001b[0mset_axis\u001b[0m\u001b[1;33m(\u001b[0m\u001b[0mself\u001b[0m\u001b[1;33m,\u001b[0m \u001b[0maxis\u001b[0m\u001b[1;33m:\u001b[0m \u001b[0mint\u001b[0m\u001b[1;33m,\u001b[0m \u001b[0mnew_labels\u001b[0m\u001b[1;33m:\u001b[0m \u001b[0mIndex\u001b[0m\u001b[1;33m)\u001b[0m \u001b[1;33m->\u001b[0m \u001b[1;32mNone\u001b[0m\u001b[1;33m:\u001b[0m\u001b[1;33m\u001b[0m\u001b[1;33m\u001b[0m\u001b[0m\n\u001b[0;32m    215\u001b[0m         \u001b[1;31m# Caller is responsible for ensuring we have an Index object.\u001b[0m\u001b[1;33m\u001b[0m\u001b[1;33m\u001b[0m\u001b[1;33m\u001b[0m\u001b[0m\n\u001b[1;32m--> 216\u001b[1;33m         \u001b[0mself\u001b[0m\u001b[1;33m.\u001b[0m\u001b[0m_validate_set_axis\u001b[0m\u001b[1;33m(\u001b[0m\u001b[0maxis\u001b[0m\u001b[1;33m,\u001b[0m \u001b[0mnew_labels\u001b[0m\u001b[1;33m)\u001b[0m\u001b[1;33m\u001b[0m\u001b[1;33m\u001b[0m\u001b[0m\n\u001b[0m\u001b[0;32m    217\u001b[0m         \u001b[0mself\u001b[0m\u001b[1;33m.\u001b[0m\u001b[0maxes\u001b[0m\u001b[1;33m[\u001b[0m\u001b[0maxis\u001b[0m\u001b[1;33m]\u001b[0m \u001b[1;33m=\u001b[0m \u001b[0mnew_labels\u001b[0m\u001b[1;33m\u001b[0m\u001b[1;33m\u001b[0m\u001b[0m\n\u001b[0;32m    218\u001b[0m \u001b[1;33m\u001b[0m\u001b[0m\n",
      "\u001b[1;32m~\\anaconda3\\lib\\site-packages\\pandas\\core\\internals\\base.py\u001b[0m in \u001b[0;36m_validate_set_axis\u001b[1;34m(self, axis, new_labels)\u001b[0m\n\u001b[0;32m     55\u001b[0m \u001b[1;33m\u001b[0m\u001b[0m\n\u001b[0;32m     56\u001b[0m         \u001b[1;32melif\u001b[0m \u001b[0mnew_len\u001b[0m \u001b[1;33m!=\u001b[0m \u001b[0mold_len\u001b[0m\u001b[1;33m:\u001b[0m\u001b[1;33m\u001b[0m\u001b[1;33m\u001b[0m\u001b[0m\n\u001b[1;32m---> 57\u001b[1;33m             raise ValueError(\n\u001b[0m\u001b[0;32m     58\u001b[0m                 \u001b[1;34mf\"Length mismatch: Expected axis has {old_len} elements, new \"\u001b[0m\u001b[1;33m\u001b[0m\u001b[1;33m\u001b[0m\u001b[0m\n\u001b[0;32m     59\u001b[0m                 \u001b[1;34mf\"values have {new_len} elements\"\u001b[0m\u001b[1;33m\u001b[0m\u001b[1;33m\u001b[0m\u001b[0m\n",
      "\u001b[1;31mValueError\u001b[0m: Length mismatch: Expected axis has 197 elements, new values have 48 elements"
     ]
    }
   ],
   "source": [
    "# Using pipeline to prepare test data\n",
    "x_test = get_final_data(x_test)"
   ]
  },
  {
   "cell_type": "code",
   "execution_count": 13,
   "id": "3c22f85c",
   "metadata": {},
   "outputs": [],
   "source": [
    "# Making test data sparse matrix\n",
    "x_test_csr = csr_matrix(x_test.values)\n",
    "col = x_test.columns\n",
    "\n",
    "# Creating x_test sparse dataframe\n",
    "x_test = pd.DataFrame.sparse.from_spmatrix(x_test_csr, columns=col)"
   ]
  },
  {
   "cell_type": "code",
   "execution_count": 14,
   "id": "8663fed7",
   "metadata": {},
   "outputs": [
    {
     "data": {
      "text/plain": [
       "((1778032, 197), (1778032,))"
      ]
     },
     "execution_count": 14,
     "metadata": {},
     "output_type": "execute_result"
    }
   ],
   "source": [
    "x_train.shape, y_train.shape"
   ]
  },
  {
   "cell_type": "code",
   "execution_count": 15,
   "id": "58234415",
   "metadata": {},
   "outputs": [
    {
     "data": {
      "text/plain": [
       "((762015, 197), (762015,))"
      ]
     },
     "execution_count": 15,
     "metadata": {},
     "output_type": "execute_result"
    }
   ],
   "source": [
    "x_test.shape, y_test.shape"
   ]
  },
  {
   "cell_type": "code",
   "execution_count": 16,
   "id": "7c79c341",
   "metadata": {},
   "outputs": [
    {
     "data": {
      "text/plain": [
       "True"
      ]
     },
     "execution_count": 16,
     "metadata": {},
     "output_type": "execute_result"
    }
   ],
   "source": [
    "all(x_train.columns == x_test.columns)"
   ]
  },
  {
   "cell_type": "markdown",
   "id": "bda2b3f8",
   "metadata": {},
   "source": [
    "### Utility functions"
   ]
  },
  {
   "cell_type": "code",
   "execution_count": 17,
   "id": "feaf63e8",
   "metadata": {},
   "outputs": [],
   "source": [
    "def false_alarm_rate(y_true, y_pred):\n",
    "    \"\"\"\n",
    "    This function will return False Alarm Rate for given true and predicted values.\n",
    "    False Alarm Rate is average of False Negetive Rate and False Positive Rate\n",
    "    \"\"\"\n",
    "    tn, fp, fn, tp = confusion_matrix(y_true, y_pred).ravel()\n",
    "    FPR = fp / (fp + tn)  # False positive rate\n",
    "    FNR = fn / (fn + tp)  # False negetive rate\n",
    "    return (FPR+FNR)/2  # False alarm rate"
   ]
  },
  {
   "cell_type": "code",
   "execution_count": 18,
   "id": "0ba809f6",
   "metadata": {},
   "outputs": [],
   "source": [
    "def hyperparam_tuning(clf, parameters, x, y, method='gridsearch', cv=None):\n",
    "    \"\"\"\n",
    "    Utility function for Tuning hyperparameters\n",
    "    \"\"\"\n",
    "    # initialization\n",
    "    scoring = {'auc':'roc_auc',\n",
    "               'f1':'f1',\n",
    "               'FAR':make_scorer(false_alarm_rate, greater_is_better=False)}  # using custom scoring function FAR.\n",
    "                \n",
    "    # param tuning\n",
    "    if method=='gridsearch':\n",
    "        # As we are using multi scoring, So we need to point refit to scoring function with which we want to evaluate score\n",
    "        tuning_clf = GridSearchCV(clf, parameters, scoring=scoring, refit='auc',\n",
    "                                  cv=cv, verbose=3, return_train_score=True)\n",
    "        result = tuning_clf.fit(x, y)\n",
    "    \n",
    "    elif method=='randomsearch':\n",
    "        tuning_clf = RandomizedSearchCV(clf, parameters, scoring=scoring, refit='auc',\n",
    "                                        cv=cv, verbose=3, return_train_score=True)\n",
    "        result = tuning_clf.fit(x, y)\n",
    "\n",
    "    return result"
   ]
  },
  {
   "cell_type": "code",
   "execution_count": 19,
   "id": "468780a3",
   "metadata": {},
   "outputs": [],
   "source": [
    "def result_visualization(tuned_clf, parameters, param1=None, param2=None):\n",
    "    \"\"\"\n",
    "    Utility function to plot the results obtained after hyper parameter tuning \n",
    "    \"\"\"\n",
    "    # getting train and test scores to plot\n",
    "    train_score = tuned_clf.cv_results_['mean_train_auc']\n",
    "    test_score = tuned_clf.cv_results_['mean_test_auc']\n",
    "\n",
    "    # print results\n",
    "    print(\"Best Score: {}\".format(tuned_clf.best_score_))\n",
    "    print(\"Best Parameters: {}\".format(tuned_clf.best_params_))\n",
    "\n",
    "    # Want to visualize score with 2 params, plot heatmap of the 3 variables\n",
    "    if param2 is not None:\n",
    "        # heatmap\n",
    "        train_cmap=sns.light_palette(\"green\")\n",
    "        test_cmap=sns.light_palette(\"blue\")\n",
    "        \n",
    "        # Figure and axis\n",
    "        fig = plt.figure(figsize=(20,5))\n",
    "        train_ax = fig.add_subplot(1,2,1)\n",
    "        test_ax = fig.add_subplot(1,2,2)\n",
    "        \n",
    "        # train heatmap\n",
    "        sns.heatmap(train_score.reshape(len(parameters[param1]), len(parameters[param2])),\n",
    "                    cmap=train_cmap, annot=True, fmt='.4f', ax=train_ax,\n",
    "                    xticklabels=parameters[param2], yticklabels=parameters[param1])\n",
    "        \n",
    "        # test heapmap\n",
    "        sns.heatmap(test_score.reshape(len(parameters[param1]), len(parameters[param2])),\n",
    "                    cmap=test_cmap, annot=True, fmt='.6f', ax=test_ax,\n",
    "                    xticklabels=parameters[param2], yticklabels=parameters[param1])\n",
    "        \n",
    "        # axis labels and plot title\n",
    "        train_ax.set_title(\"Train hyperparam heatmap\")\n",
    "        train_ax.set_xlabel(param2)\n",
    "        train_ax.set_ylabel(param1)\n",
    "\n",
    "        test_ax.set_title(\"Test hyperparam heatmap\")\n",
    "        test_ax.set_xlabel(param2)\n",
    "        test_ax.set_ylabel(param1)\n",
    "        plt.show()\n",
    "    \n",
    "    # Want to visualize score with one param, simply plot score and param\n",
    "    else:\n",
    "        plt.figure(figsize=(10,5))\n",
    "        plt.plot(np.log10(parameters[param1]), train_score, label=\"train\")\n",
    "        plt.plot(np.log10(parameters[param1]), test_score, label=\"test\")\n",
    "\n",
    "        # Plot for train data\n",
    "        for i, txt in enumerate(train_score):\n",
    "            plt.annotate((parameters[param1][i], np.round(txt, 3)), (np.log10(parameters[param1])[i], train_score[i]))\n",
    "        \n",
    "        # Plot for test data\n",
    "        for i, txt in enumerate(test_score):\n",
    "            plt.annotate((parameters[param1][i], np.round(txt, 3)), (np.log10(parameters[param1])[i], test_score[i]))\n",
    "        \n",
    "        plt.xlabel(param1)\n",
    "        plt.ylabel('performance')\n",
    "        plt.grid()\n",
    "        plt.legend()\n",
    "        plt.show()"
   ]
  },
  {
   "cell_type": "code",
   "execution_count": 20,
   "id": "b53fe128",
   "metadata": {},
   "outputs": [],
   "source": [
    "def evaluate_result(clf, x_train, y_train, x_test, y_test, model_name):\n",
    "    \"\"\" \n",
    "    Utility function to get result on test data from best found classifier using hyper parameter tuning.\n",
    "    Print the accuracy and False Alarm Rate for both train and test.\n",
    "    Plot confusion matrix of train and test.\n",
    "    \"\"\"\n",
    "    cmap=sns.light_palette(\"blue\")\n",
    "    labels= ['non-attack', 'attack']\n",
    "    \n",
    "    # Training te best model\n",
    "    clf.fit(x_train, y_train)\n",
    "    y_train_pred = clf.predict(x_train)  # prediction on train data\n",
    "    y_test_pred = clf.predict(x_test)  # prediction on test data\n",
    "    \n",
    "    # auc curve\n",
    "    train_fpr, train_tpr, tr_thresholds = roc_curve(y_train, y_train_pred)\n",
    "    test_fpr, test_tpr, te_thresholds = roc_curve(y_test, y_test_pred)\n",
    "    \n",
    "    # Scores of train dataset\n",
    "    train_auc = auc(train_fpr, train_tpr)\n",
    "    train_f1 = f1_score(y_train, y_train_pred)\n",
    "    train_far = false_alarm_rate(y_train, y_train_pred)\n",
    "    \n",
    "    # Scores of test dataset\n",
    "    test_auc = auc(test_fpr, test_tpr)\n",
    "    test_f1 = f1_score(y_test, y_test_pred)\n",
    "    test_far = false_alarm_rate(y_test, y_test_pred)\n",
    "    \n",
    "    # Printing the result as a table\n",
    "    x = PrettyTable()\n",
    "    x.field_names = ['Dataset', 'Model', 'AUC', 'F1-score', 'False Alarm Rate']\n",
    "    x.add_row(['Train', model_name, train_auc, train_f1, train_far])\n",
    "    x.add_row(['Test', model_name, test_auc, test_f1, test_far])\n",
    "    print(x)\n",
    "\n",
    "    # Plot AUC curve\n",
    "    plt.figure()\n",
    "    plt.plot(train_fpr, train_tpr, label=f\"Train AUC: {train_auc}\")\n",
    "    plt.plot(test_fpr, test_tpr, label=f\"Test AUC: {test_auc}\")\n",
    "    plt.grid()\n",
    "    plt.legend()\n",
    "    plt.show()\n",
    "\n",
    "    # Confusion martix of train and test\n",
    "    # Train confusion matrix\n",
    "    plt.figure(figsize=(16,5))\n",
    "    plt.subplot(1,2,1)\n",
    "    sns.heatmap(confusion_matrix(y_train, y_train_pred),\n",
    "                annot=True, cmap=cmap, fmt='d',\n",
    "                xticklabels=labels, yticklabels=labels)\n",
    "    plt.xlabel(\"Predicted\")\n",
    "    plt.ylabel(\"Actual\")\n",
    "    plt.title(\"Train Confusion Matrix\")\n",
    "\n",
    "    # Test confusion matrix\n",
    "    plt.subplot(1,2,2)\n",
    "    sns.heatmap(confusion_matrix(y_test, y_test_pred),\n",
    "                annot=True, cmap=cmap, fmt='d',\n",
    "                xticklabels=labels, yticklabels=labels)\n",
    "    plt.xlabel(\"Predicted\")\n",
    "    plt.ylabel(\"Actual\")\n",
    "    plt.title(\"Test Confusion Matrix\")\n",
    "    plt.show()\n",
    "    \n",
    "    # Returning scores of test data\n",
    "    return clf, test_auc, test_f1, test_far"
   ]
  },
  {
   "cell_type": "markdown",
   "id": "267b783a",
   "metadata": {},
   "source": [
    "### Logistic Regression\n"
   ]
  },
  {
   "cell_type": "markdown",
   "id": "9f0dac0c",
   "metadata": {},
   "source": [
    "We are starting with basic Logistic Regression for training our data.\n",
    "\n",
    "Going tune hyperparameter \"alpha\" and \"penalty\""
   ]
  },
  {
   "cell_type": "code",
   "execution_count": 21,
   "id": "e257f8a2",
   "metadata": {},
   "outputs": [
    {
     "name": "stdout",
     "output_type": "stream",
     "text": [
      "Fitting 3 folds for each of 8 candidates, totalling 24 fits\n",
      "[CV 1/3] END alpha=1e-06; FAR: (train=-0.013, test=-0.014) auc: (train=0.999, test=0.999) f1: (train=0.957, test=0.956) total time=  39.5s\n",
      "[CV 2/3] END alpha=1e-06; FAR: (train=-0.014, test=-0.014) auc: (train=0.999, test=0.999) f1: (train=0.959, test=0.959) total time=  29.6s\n",
      "[CV 3/3] END alpha=1e-06; FAR: (train=-0.026, test=-0.026) auc: (train=0.999, test=0.999) f1: (train=0.957, test=0.957) total time=  32.8s\n",
      "[CV 1/3] END alpha=1e-05; FAR: (train=-0.027, test=-0.027) auc: (train=0.999, test=0.999) f1: (train=0.956, test=0.955) total time=  13.6s\n",
      "[CV 2/3] END alpha=1e-05; FAR: (train=-0.017, test=-0.017) auc: (train=0.999, test=0.999) f1: (train=0.958, test=0.958) total time=  14.9s\n",
      "[CV 3/3] END alpha=1e-05; FAR: (train=-0.021, test=-0.020) auc: (train=0.999, test=0.999) f1: (train=0.958, test=0.960) total time=  13.8s\n",
      "[CV 1/3] END alpha=0.0001; FAR: (train=-0.023, test=-0.022) auc: (train=0.999, test=0.999) f1: (train=0.957, test=0.956) total time=   9.9s\n",
      "[CV 2/3] END alpha=0.0001; FAR: (train=-0.013, test=-0.013) auc: (train=0.999, test=0.999) f1: (train=0.955, test=0.955) total time=   9.5s\n",
      "[CV 3/3] END alpha=0.0001; FAR: (train=-0.016, test=-0.015) auc: (train=0.999, test=0.999) f1: (train=0.956, test=0.958) total time=   9.4s\n",
      "[CV 1/3] END alpha=0.001; FAR: (train=-0.020, test=-0.020) auc: (train=0.999, test=0.999) f1: (train=0.945, test=0.943) total time=   9.6s\n",
      "[CV 2/3] END alpha=0.001; FAR: (train=-0.018, test=-0.018) auc: (train=0.999, test=0.999) f1: (train=0.945, test=0.945) total time=   9.5s\n",
      "[CV 3/3] END alpha=0.001; FAR: (train=-0.017, test=-0.017) auc: (train=0.998, test=0.998) f1: (train=0.945, test=0.946) total time=   8.9s\n",
      "[CV 1/3] END alpha=0.01; FAR: (train=-0.026, test=-0.025) auc: (train=0.997, test=0.997) f1: (train=0.932, test=0.932) total time=   8.3s\n",
      "[CV 2/3] END alpha=0.01; FAR: (train=-0.027, test=-0.027) auc: (train=0.997, test=0.997) f1: (train=0.931, test=0.932) total time=   8.0s\n",
      "[CV 3/3] END alpha=0.01; FAR: (train=-0.026, test=-0.026) auc: (train=0.997, test=0.997) f1: (train=0.932, test=0.932) total time=   8.7s\n",
      "[CV 1/3] END alpha=0.1; FAR: (train=-0.024, test=-0.024) auc: (train=0.997, test=0.996) f1: (train=0.929, test=0.928) total time=   8.4s\n",
      "[CV 2/3] END alpha=0.1; FAR: (train=-0.026, test=-0.026) auc: (train=0.996, test=0.997) f1: (train=0.927, test=0.928) total time=   8.5s\n",
      "[CV 3/3] END alpha=0.1; FAR: (train=-0.026, test=-0.026) auc: (train=0.997, test=0.996) f1: (train=0.927, test=0.927) total time=   8.7s\n",
      "[CV 1/3] END alpha=1.0; FAR: (train=-0.075, test=-0.075) auc: (train=0.988, test=0.988) f1: (train=0.701, test=0.701) total time=   8.5s\n",
      "[CV 2/3] END alpha=1.0; FAR: (train=-0.076, test=-0.076) auc: (train=0.988, test=0.988) f1: (train=0.701, test=0.701) total time=   8.4s\n",
      "[CV 3/3] END alpha=1.0; FAR: (train=-0.075, test=-0.075) auc: (train=0.988, test=0.988) f1: (train=0.701, test=0.702) total time=   8.7s\n",
      "[CV 1/3] END alpha=10.0; FAR: (train=-0.099, test=-0.099) auc: (train=0.960, test=0.961) f1: (train=0.671, test=0.672) total time=   8.1s\n",
      "[CV 2/3] END alpha=10.0; FAR: (train=-0.099, test=-0.100) auc: (train=0.960, test=0.960) f1: (train=0.671, test=0.670) total time=   7.7s\n",
      "[CV 3/3] END alpha=10.0; FAR: (train=-0.099, test=-0.099) auc: (train=0.960, test=0.960) f1: (train=0.669, test=0.670) total time=   8.1s\n"
     ]
    }
   ],
   "source": [
    "# Tuning \"alpha\" for l2 \"penalty\"\n",
    "clf = SGDClassifier(loss='log', penalty='l2')\n",
    "param = {'alpha':np.logspace(-6, 1, 8)}  # Values of alpha\n",
    "\n",
    "lr_clf = hyperparam_tuning(clf, param, x_train_csr, y_train, cv=3)"
   ]
  },
  {
   "cell_type": "code",
   "execution_count": 23,
   "id": "240ed06f",
   "metadata": {},
   "outputs": [
    {
     "name": "stdout",
     "output_type": "stream",
     "text": [
      "Best Score: 0.9991999054618019\n",
      "Best Parameters: {'alpha': 1e-05}\n"
     ]
    },
    {
     "data": {
      "image/png": "[encoded data removed]",
      "text/plain": [
       "<Figure size 720x360 with 1 Axes>"
      ]
     },
     "metadata": {
      "needs_background": "light"
     },
     "output_type": "display_data"
    }
   ],
   "source": [
    "# Plotting the result to select best parameter\n",
    "result_visualization(lr_clf, param, param1='alpha')"
   ]
  },
  {
   "cell_type": "code",
   "execution_count": 24,
   "id": "c4c74761",
   "metadata": {},
   "outputs": [
    {
     "name": "stdout",
     "output_type": "stream",
     "text": [
      "Fitting 5 folds for each of 8 candidates, totalling 40 fits\n",
      "[CV 1/5] END alpha=1e-06; FAR: (train=-0.025, test=-0.026) auc: (train=0.999, test=0.999) f1: (train=0.956, test=0.954) total time=  55.9s\n",
      "[CV 2/5] END alpha=1e-06; FAR: (train=-0.034, test=-0.036) auc: (train=0.999, test=0.999) f1: (train=0.951, test=0.949) total time= 1.1min\n",
      "[CV 3/5] END alpha=1e-06; FAR: (train=-0.014, test=-0.014) auc: (train=0.999, test=0.999) f1: (train=0.957, test=0.958) total time=  51.1s\n",
      "[CV 4/5] END alpha=1e-06; FAR: (train=-0.021, test=-0.022) auc: (train=0.999, test=0.999) f1: (train=0.956, test=0.956) total time=  49.5s\n",
      "[CV 5/5] END alpha=1e-06; FAR: (train=-0.040, test=-0.039) auc: (train=0.999, test=0.999) f1: (train=0.950, test=0.951) total time=  39.4s\n",
      "[CV 1/5] END alpha=1e-05; FAR: (train=-0.021, test=-0.021) auc: (train=0.999, test=0.999) f1: (train=0.959, test=0.958) total time=  23.2s\n",
      "[CV 2/5] END alpha=1e-05; FAR: (train=-0.026, test=-0.027) auc: (train=0.999, test=0.999) f1: (train=0.957, test=0.955) total time=  24.9s\n",
      "[CV 3/5] END alpha=1e-05; FAR: (train=-0.022, test=-0.022) auc: (train=0.999, test=0.999) f1: (train=0.957, test=0.958) total time=  25.7s\n",
      "[CV 4/5] END alpha=1e-05; FAR: (train=-0.026, test=-0.026) auc: (train=0.999, test=0.999) f1: (train=0.957, test=0.957) total time=  26.9s\n",
      "[CV 5/5] END alpha=1e-05; FAR: (train=-0.015, test=-0.014) auc: (train=0.999, test=0.999) f1: (train=0.958, test=0.959) total time=  24.1s\n",
      "[CV 1/5] END alpha=0.0001; FAR: (train=-0.023, test=-0.023) auc: (train=0.998, test=0.998) f1: (train=0.953, test=0.952) total time=  27.6s\n",
      "[CV 2/5] END alpha=0.0001; FAR: (train=-0.027, test=-0.027) auc: (train=0.996, test=0.996) f1: (train=0.951, test=0.949) total time= 1.5min\n",
      "[CV 3/5] END alpha=0.0001; FAR: (train=-0.026, test=-0.026) auc: (train=0.998, test=0.998) f1: (train=0.953, test=0.954) total time=  40.4s\n",
      "[CV 4/5] END alpha=0.0001; FAR: (train=-0.026, test=-0.026) auc: (train=0.999, test=0.998) f1: (train=0.955, test=0.955) total time=  27.7s\n",
      "[CV 5/5] END alpha=0.0001; FAR: (train=-0.026, test=-0.024) auc: (train=0.998, test=0.998) f1: (train=0.953, test=0.955) total time=  28.7s\n",
      "[CV 1/5] END alpha=0.001; FAR: (train=-0.027, test=-0.027) auc: (train=0.990, test=0.989) f1: (train=0.950, test=0.948) total time= 2.0min\n",
      "[CV 2/5] END alpha=0.001; FAR: (train=-0.025, test=-0.026) auc: (train=0.996, test=0.995) f1: (train=0.946, test=0.944) total time= 1.5min\n",
      "[CV 3/5] END alpha=0.001; FAR: (train=-0.021, test=-0.021) auc: (train=0.996, test=0.996) f1: (train=0.952, test=0.953) total time=  18.0s\n",
      "[CV 4/5] END alpha=0.001; FAR: (train=-0.022, test=-0.022) auc: (train=0.998, test=0.998) f1: (train=0.949, test=0.949) total time=  14.8s\n",
      "[CV 5/5] END alpha=0.001; FAR: (train=-0.023, test=-0.022) auc: (train=0.997, test=0.997) f1: (train=0.950, test=0.951) total time=  20.9s\n",
      "[CV 1/5] END alpha=0.01; FAR: (train=-0.044, test=-0.044) auc: (train=0.997, test=0.997) f1: (train=0.913, test=0.912) total time=  10.9s\n",
      "[CV 2/5] END alpha=0.01; FAR: (train=-0.044, test=-0.044) auc: (train=0.997, test=0.997) f1: (train=0.913, test=0.912) total time=   9.2s\n",
      "[CV 3/5] END alpha=0.01; FAR: (train=-0.044, test=-0.044) auc: (train=0.997, test=0.997) f1: (train=0.912, test=0.913) total time=   6.2s\n",
      "[CV 4/5] END alpha=0.01; FAR: (train=-0.044, test=-0.044) auc: (train=0.997, test=0.997) f1: (train=0.913, test=0.913) total time=   6.9s\n",
      "[CV 5/5] END alpha=0.01; FAR: (train=-0.044, test=-0.043) auc: (train=0.997, test=0.997) f1: (train=0.912, test=0.913) total time=   6.0s\n",
      "[CV 1/5] END alpha=0.1; FAR: (train=-0.044, test=-0.043) auc: (train=0.971, test=0.971) f1: (train=0.906, test=0.905) total time=   6.4s\n",
      "[CV 2/5] END alpha=0.1; FAR: (train=-0.044, test=-0.044) auc: (train=0.977, test=0.977) f1: (train=0.906, test=0.905) total time=   7.0s\n",
      "[CV 3/5] END alpha=0.1; FAR: (train=-0.044, test=-0.044) auc: (train=0.972, test=0.971) f1: (train=0.909, test=0.910) total time=   5.6s\n",
      "[CV 4/5] END alpha=0.1; FAR: (train=-0.044, test=-0.044) auc: (train=0.971, test=0.971) f1: (train=0.904, test=0.905) total time=   6.8s\n",
      "[CV 5/5] END alpha=0.1; FAR: (train=-0.044, test=-0.044) auc: (train=0.971, test=0.971) f1: (train=0.905, test=0.904) total time=   5.7s\n",
      "[CV 1/5] END alpha=1.0; FAR: (train=-0.500, test=-0.500) auc: (train=0.500, test=0.500) f1: (train=0.000, test=0.000) total time=   6.4s\n",
      "[CV 2/5] END alpha=1.0; FAR: (train=-0.500, test=-0.500) auc: (train=0.500, test=0.500) f1: (train=0.000, test=0.000) total time=   6.7s\n",
      "[CV 3/5] END alpha=1.0; FAR: (train=-0.500, test=-0.500) auc: (train=0.500, test=0.500) f1: (train=0.000, test=0.000) total time=   6.5s\n",
      "[CV 4/5] END alpha=1.0; FAR: (train=-0.500, test=-0.500) auc: (train=0.500, test=0.500) f1: (train=0.000, test=0.000) total time=   6.6s\n",
      "[CV 5/5] END alpha=1.0; FAR: (train=-0.500, test=-0.500) auc: (train=0.500, test=0.500) f1: (train=0.000, test=0.000) total time=   6.5s\n",
      "[CV 1/5] END alpha=10.0; FAR: (train=-0.500, test=-0.500) auc: (train=0.500, test=0.500) f1: (train=0.000, test=0.000) total time=   5.8s\n",
      "[CV 2/5] END alpha=10.0; FAR: (train=-0.500, test=-0.500) auc: (train=0.500, test=0.500) f1: (train=0.000, test=0.000) total time=   5.7s\n",
      "[CV 3/5] END alpha=10.0; FAR: (train=-0.500, test=-0.500) auc: (train=0.500, test=0.500) f1: (train=0.000, test=0.000) total time=   5.8s\n",
      "[CV 4/5] END alpha=10.0; FAR: (train=-0.500, test=-0.500) auc: (train=0.500, test=0.500) f1: (train=0.000, test=0.000) total time=   6.3s\n",
      "[CV 5/5] END alpha=10.0; FAR: (train=-0.500, test=-0.500) auc: (train=0.500, test=0.500) f1: (train=0.000, test=0.000) total time=   6.1s\n"
     ]
    }
   ],
   "source": [
    "# Tuning \"alpha\" for l1 \"penalty\"\n",
    "clf = SGDClassifier(loss='log', penalty='l1')\n",
    "param = {'alpha':np.logspace(-6, 1, 8)}  # Values of alpha\n",
    "\n",
    "lr_clf = hyperparam_tuning(clf, param, x_train_csr, y_train)"
   ]
  },
  {
   "cell_type": "code",
   "execution_count": 25,
   "id": "dfcb0f79",
   "metadata": {},
   "outputs": [
    {
     "name": "stdout",
     "output_type": "stream",
     "text": [
      "Best Score: 0.9991722915959278\n",
      "Best Parameters: {'alpha': 1e-06}\n"
     ]
    },
    {
     "data": {
      "image/png": "[encoded data removed]",
      "text/plain": [
       "<Figure size 720x360 with 1 Axes>"
      ]
     },
     "metadata": {
      "needs_background": "light"
     },
     "output_type": "display_data"
    }
   ],
   "source": [
    "# Plotting alpha vs score\n",
    "result_visualization(lr_clf, param, 'alpha')"
   ]
  },
  {
   "cell_type": "code",
   "execution_count": 26,
   "id": "98b2da17",
   "metadata": {},
   "outputs": [],
   "source": [
    "# Best LR model\n",
    "lr_bst_clf = SGDClassifier(penalty='l1', alpha=1e-6)"
   ]
  },
  {
   "cell_type": "code",
   "execution_count": 27,
   "id": "94b53a0e",
   "metadata": {},
   "outputs": [
    {
     "name": "stdout",
     "output_type": "stream",
     "text": [
      "+---------+-------+--------------------+--------------------+----------------------+\n",
      "| Dataset | Model |        AUC         |      F1-score      |   False Alarm Rate   |\n",
      "+---------+-------+--------------------+--------------------+----------------------+\n",
      "|  Train  |   LR  | 0.9709182069807337 | 0.9559773810644889 | 0.029081793019266212 |\n",
      "|   Test  |   LR  | 0.9700835579628607 | 0.954977685963446  | 0.029916442037139227 |\n",
      "+---------+-------+--------------------+--------------------+----------------------+\n"
     ]
    },
    {
     "data": {
      "image/png": "[encoded data removed]",
      "text/plain": [
       "<Figure size 432x288 with 1 Axes>"
      ]
     },
     "metadata": {
      "needs_background": "light"
     },
     "output_type": "display_data"
    },
    {
     "data": {
      "image/png": "[encoded data removed]",
      "text/plain": [
       "<Figure size 1152x360 with 4 Axes>"
      ]
     },
     "metadata": {
      "needs_background": "light"
     },
     "output_type": "display_data"
    }
   ],
   "source": [
    "# Getting best model's performance on train and test data\n",
    "lr_clf, lr_auc, lr_f1, lr_far = evaluate_result(lr_bst_clf, x_train, y_train, x_test, y_test, 'LR')"
   ]
  },
  {
   "cell_type": "code",
   "execution_count": 103,
   "id": "9ae70204",
   "metadata": {},
   "outputs": [
    {
     "ename": "ValueError",
     "evalue": "Found input variables with inconsistent numbers of samples: [1422425, 762015]",
     "output_type": "error",
     "traceback": [
      "\u001b[1;31m---------------------------------------------------------------------------\u001b[0m",
      "\u001b[1;31mValueError\u001b[0m                                Traceback (most recent call last)",
      "\u001b[1;32m~\\AppData\\Local\\Temp/ipykernel_96972/46234747.py\u001b[0m in \u001b[0;36m<module>\u001b[1;34m\u001b[0m\n\u001b[0;32m      1\u001b[0m \u001b[1;32mfrom\u001b[0m \u001b[0msklearn\u001b[0m\u001b[1;33m.\u001b[0m\u001b[0mmetrics\u001b[0m \u001b[1;32mimport\u001b[0m \u001b[0maccuracy_score\u001b[0m\u001b[1;33m\u001b[0m\u001b[1;33m\u001b[0m\u001b[0m\n\u001b[1;32m----> 2\u001b[1;33m \u001b[0maccuracy_score\u001b[0m\u001b[1;33m(\u001b[0m\u001b[0my_train\u001b[0m\u001b[1;33m,\u001b[0m\u001b[0my_test\u001b[0m\u001b[1;33m)\u001b[0m\u001b[1;33m\u001b[0m\u001b[1;33m\u001b[0m\u001b[0m\n\u001b[0m",
      "\u001b[1;32m~\\anaconda3\\lib\\site-packages\\sklearn\\metrics\\_classification.py\u001b[0m in \u001b[0;36maccuracy_score\u001b[1;34m(y_true, y_pred, normalize, sample_weight)\u001b[0m\n\u001b[0;32m    209\u001b[0m \u001b[1;33m\u001b[0m\u001b[0m\n\u001b[0;32m    210\u001b[0m     \u001b[1;31m# Compute accuracy for each possible representation\u001b[0m\u001b[1;33m\u001b[0m\u001b[1;33m\u001b[0m\u001b[1;33m\u001b[0m\u001b[0m\n\u001b[1;32m--> 211\u001b[1;33m     \u001b[0my_type\u001b[0m\u001b[1;33m,\u001b[0m \u001b[0my_true\u001b[0m\u001b[1;33m,\u001b[0m \u001b[0my_pred\u001b[0m \u001b[1;33m=\u001b[0m \u001b[0m_check_targets\u001b[0m\u001b[1;33m(\u001b[0m\u001b[0my_true\u001b[0m\u001b[1;33m,\u001b[0m \u001b[0my_pred\u001b[0m\u001b[1;33m)\u001b[0m\u001b[1;33m\u001b[0m\u001b[1;33m\u001b[0m\u001b[0m\n\u001b[0m\u001b[0;32m    212\u001b[0m     \u001b[0mcheck_consistent_length\u001b[0m\u001b[1;33m(\u001b[0m\u001b[0my_true\u001b[0m\u001b[1;33m,\u001b[0m \u001b[0my_pred\u001b[0m\u001b[1;33m,\u001b[0m \u001b[0msample_weight\u001b[0m\u001b[1;33m)\u001b[0m\u001b[1;33m\u001b[0m\u001b[1;33m\u001b[0m\u001b[0m\n\u001b[0;32m    213\u001b[0m     \u001b[1;32mif\u001b[0m \u001b[0my_type\u001b[0m\u001b[1;33m.\u001b[0m\u001b[0mstartswith\u001b[0m\u001b[1;33m(\u001b[0m\u001b[1;34m\"multilabel\"\u001b[0m\u001b[1;33m)\u001b[0m\u001b[1;33m:\u001b[0m\u001b[1;33m\u001b[0m\u001b[1;33m\u001b[0m\u001b[0m\n",
      "\u001b[1;32m~\\anaconda3\\lib\\site-packages\\sklearn\\metrics\\_classification.py\u001b[0m in \u001b[0;36m_check_targets\u001b[1;34m(y_true, y_pred)\u001b[0m\n\u001b[0;32m     82\u001b[0m     \u001b[0my_pred\u001b[0m \u001b[1;33m:\u001b[0m \u001b[0marray\u001b[0m \u001b[1;32mor\u001b[0m \u001b[0mindicator\u001b[0m \u001b[0mmatrix\u001b[0m\u001b[1;33m\u001b[0m\u001b[1;33m\u001b[0m\u001b[0m\n\u001b[0;32m     83\u001b[0m     \"\"\"\n\u001b[1;32m---> 84\u001b[1;33m     \u001b[0mcheck_consistent_length\u001b[0m\u001b[1;33m(\u001b[0m\u001b[0my_true\u001b[0m\u001b[1;33m,\u001b[0m \u001b[0my_pred\u001b[0m\u001b[1;33m)\u001b[0m\u001b[1;33m\u001b[0m\u001b[1;33m\u001b[0m\u001b[0m\n\u001b[0m\u001b[0;32m     85\u001b[0m     \u001b[0mtype_true\u001b[0m \u001b[1;33m=\u001b[0m \u001b[0mtype_of_target\u001b[0m\u001b[1;33m(\u001b[0m\u001b[0my_true\u001b[0m\u001b[1;33m)\u001b[0m\u001b[1;33m\u001b[0m\u001b[1;33m\u001b[0m\u001b[0m\n\u001b[0;32m     86\u001b[0m     \u001b[0mtype_pred\u001b[0m \u001b[1;33m=\u001b[0m \u001b[0mtype_of_target\u001b[0m\u001b[1;33m(\u001b[0m\u001b[0my_pred\u001b[0m\u001b[1;33m)\u001b[0m\u001b[1;33m\u001b[0m\u001b[1;33m\u001b[0m\u001b[0m\n",
      "\u001b[1;32m~\\anaconda3\\lib\\site-packages\\sklearn\\utils\\validation.py\u001b[0m in \u001b[0;36mcheck_consistent_length\u001b[1;34m(*arrays)\u001b[0m\n\u001b[0;32m    330\u001b[0m     \u001b[0muniques\u001b[0m \u001b[1;33m=\u001b[0m \u001b[0mnp\u001b[0m\u001b[1;33m.\u001b[0m\u001b[0munique\u001b[0m\u001b[1;33m(\u001b[0m\u001b[0mlengths\u001b[0m\u001b[1;33m)\u001b[0m\u001b[1;33m\u001b[0m\u001b[1;33m\u001b[0m\u001b[0m\n\u001b[0;32m    331\u001b[0m     \u001b[1;32mif\u001b[0m \u001b[0mlen\u001b[0m\u001b[1;33m(\u001b[0m\u001b[0muniques\u001b[0m\u001b[1;33m)\u001b[0m \u001b[1;33m>\u001b[0m \u001b[1;36m1\u001b[0m\u001b[1;33m:\u001b[0m\u001b[1;33m\u001b[0m\u001b[1;33m\u001b[0m\u001b[0m\n\u001b[1;32m--> 332\u001b[1;33m         raise ValueError(\n\u001b[0m\u001b[0;32m    333\u001b[0m             \u001b[1;34m\"Found input variables with inconsistent numbers of samples: %r\"\u001b[0m\u001b[1;33m\u001b[0m\u001b[1;33m\u001b[0m\u001b[0m\n\u001b[0;32m    334\u001b[0m             \u001b[1;33m%\u001b[0m \u001b[1;33m[\u001b[0m\u001b[0mint\u001b[0m\u001b[1;33m(\u001b[0m\u001b[0ml\u001b[0m\u001b[1;33m)\u001b[0m \u001b[1;32mfor\u001b[0m \u001b[0ml\u001b[0m \u001b[1;32min\u001b[0m \u001b[0mlengths\u001b[0m\u001b[1;33m]\u001b[0m\u001b[1;33m\u001b[0m\u001b[1;33m\u001b[0m\u001b[0m\n",
      "\u001b[1;31mValueError\u001b[0m: Found input variables with inconsistent numbers of samples: [1422425, 762015]"
     ]
    }
   ],
   "source": []
  },
  {
   "cell_type": "markdown",
   "id": "e6a37593",
   "metadata": {},
   "source": [
    "Observation\n",
    "\n",
    "1.Using wide range of values for \"alpha\" from 10^-6 to 10^3 and \"penalty\" l1 and l2\n",
    "\n",
    "2.Can observe that upto alpha=0.1 model's score is good and then its falling down heavily.\n",
    "\n",
    "3.The best parameter of the model for our data is \"penalty\" l1 and \"alpha\" 10^-6\n",
    "\n",
    "4.Both train and test auc score are very close that means model is not overfitting.\n",
    "\n",
    "5.Model is performing well but there are few False Positive points in the result"
   ]
  },
  {
   "cell_type": "code",
   "execution_count": 28,
   "id": "ec2a1fb7",
   "metadata": {},
   "outputs": [],
   "source": [
    "# An empty dictionary to store the result of all the models\n",
    "result_dict = {\"name\":[], \"auc\":[], \"f1\":[], \"far\":[]}"
   ]
  },
  {
   "cell_type": "code",
   "execution_count": 29,
   "id": "4d52d45b",
   "metadata": {},
   "outputs": [],
   "source": [
    "# Storinig result for LR\n",
    "result_dict['name'].append(\"LR\")\n",
    "result_dict['auc'].append(lr_auc)\n",
    "result_dict['f1'].append(lr_f1)\n",
    "result_dict['far'].append(lr_far)"
   ]
  },
  {
   "cell_type": "code",
   "execution_count": 30,
   "id": "e42de604",
   "metadata": {},
   "outputs": [],
   "source": [
    "pickle.dump(lr_clf, open(file_path+'/lr_clf.pkl', 'wb'))"
   ]
  },
  {
   "cell_type": "code",
   "execution_count": 32,
   "id": "d9d7f153",
   "metadata": {},
   "outputs": [
    {
     "data": {
      "text/plain": [
       "{'name': ['LR'],\n",
       " 'auc': [0.9700835579628607],\n",
       " 'f1': [0.954977685963446],\n",
       " 'far': [0.029916442037139227]}"
      ]
     },
     "execution_count": 32,
     "metadata": {},
     "output_type": "execute_result"
    }
   ],
   "source": [
    "result_dict"
   ]
  },
  {
   "cell_type": "markdown",
   "id": "86f9c9ae",
   "metadata": {},
   "source": [
    "### Linear SVC"
   ]
  },
  {
   "cell_type": "markdown",
   "id": "cc8d6c8b",
   "metadata": {},
   "source": [
    "The next model we are going to try is Linear Support Vector Classifier\n",
    "\n",
    "Tune parameters for \"alpha\" and \"penalty\""
   ]
  },
  {
   "cell_type": "code",
   "execution_count": 33,
   "id": "0fdf51dd",
   "metadata": {},
   "outputs": [
    {
     "name": "stdout",
     "output_type": "stream",
     "text": [
      "Fitting 3 folds for each of 16 candidates, totalling 48 fits\n",
      "[CV 1/3] END alpha=1e-05, penalty=l1; FAR: (train=-0.033, test=-0.034) auc: (train=0.999, test=0.999) f1: (train=0.954, test=0.953) total time=  12.0s\n",
      "[CV 2/3] END alpha=1e-05, penalty=l1; FAR: (train=-0.021, test=-0.022) auc: (train=0.999, test=0.999) f1: (train=0.958, test=0.958) total time=  10.3s\n",
      "[CV 3/3] END alpha=1e-05, penalty=l1; FAR: (train=-0.016, test=-0.015) auc: (train=0.999, test=0.999) f1: (train=0.958, test=0.959) total time=   9.5s\n",
      "[CV 1/3] END alpha=1e-05, penalty=l2; FAR: (train=-0.015, test=-0.016) auc: (train=0.999, test=0.999) f1: (train=0.960, test=0.958) total time=   7.4s\n",
      "[CV 2/3] END alpha=1e-05, penalty=l2; FAR: (train=-0.013, test=-0.013) auc: (train=0.999, test=0.999) f1: (train=0.958, test=0.957) total time=   7.1s\n",
      "[CV 3/3] END alpha=1e-05, penalty=l2; FAR: (train=-0.017, test=-0.017) auc: (train=0.999, test=0.999) f1: (train=0.958, test=0.959) total time=   7.6s\n",
      "[CV 1/3] END alpha=0.0001, penalty=l1; FAR: (train=-0.020, test=-0.021) auc: (train=0.998, test=0.998) f1: (train=0.958, test=0.956) total time=  10.6s\n",
      "[CV 2/3] END alpha=0.0001, penalty=l1; FAR: (train=-0.027, test=-0.028) auc: (train=0.998, test=0.998) f1: (train=0.952, test=0.952) total time=  17.0s\n",
      "[CV 3/3] END alpha=0.0001, penalty=l1; FAR: (train=-0.026, test=-0.025) auc: (train=0.996, test=0.996) f1: (train=0.951, test=0.952) total time=  11.6s\n",
      "[CV 1/3] END alpha=0.0001, penalty=l2; FAR: (train=-0.027, test=-0.027) auc: (train=0.999, test=0.999) f1: (train=0.955, test=0.955) total time=   4.4s\n",
      "[CV 2/3] END alpha=0.0001, penalty=l2; FAR: (train=-0.014, test=-0.014) auc: (train=0.999, test=0.999) f1: (train=0.957, test=0.957) total time=   4.4s\n",
      "[CV 3/3] END alpha=0.0001, penalty=l2; FAR: (train=-0.011, test=-0.010) auc: (train=0.999, test=0.999) f1: (train=0.956, test=0.957) total time=   4.5s\n",
      "[CV 1/3] END alpha=0.001, penalty=l1; FAR: (train=-0.025, test=-0.025) auc: (train=0.994, test=0.994) f1: (train=0.951, test=0.950) total time=   7.5s\n",
      "[CV 2/3] END alpha=0.001, penalty=l1; FAR: (train=-0.015, test=-0.014) auc: (train=0.999, test=0.999) f1: (train=0.949, test=0.949) total time=   6.4s\n",
      "[CV 3/3] END alpha=0.001, penalty=l1; FAR: (train=-0.026, test=-0.026) auc: (train=0.993, test=0.994) f1: (train=0.948, test=0.949) total time=  11.6s\n",
      "[CV 1/3] END alpha=0.001, penalty=l2; FAR: (train=-0.008, test=-0.008) auc: (train=0.998, test=0.998) f1: (train=0.953, test=0.953) total time=   4.0s\n",
      "[CV 2/3] END alpha=0.001, penalty=l2; FAR: (train=-0.009, test=-0.009) auc: (train=0.998, test=0.998) f1: (train=0.953, test=0.953) total time=   3.9s\n",
      "[CV 3/3] END alpha=0.001, penalty=l2; FAR: (train=-0.008, test=-0.008) auc: (train=0.998, test=0.998) f1: (train=0.953, test=0.953) total time=   4.1s\n",
      "[CV 1/3] END alpha=0.01, penalty=l1; FAR: (train=-0.010, test=-0.010) auc: (train=0.992, test=0.992) f1: (train=0.943, test=0.942) total time=   4.8s\n",
      "[CV 2/3] END alpha=0.01, penalty=l1; FAR: (train=-0.009, test=-0.009) auc: (train=0.992, test=0.992) f1: (train=0.943, test=0.944) total time=   4.5s\n",
      "[CV 3/3] END alpha=0.01, penalty=l1; FAR: (train=-0.010, test=-0.010) auc: (train=0.991, test=0.991) f1: (train=0.942, test=0.943) total time=   4.7s\n",
      "[CV 1/3] END alpha=0.01, penalty=l2; FAR: (train=-0.010, test=-0.010) auc: (train=0.995, test=0.994) f1: (train=0.946, test=0.945) total time=   3.9s\n",
      "[CV 2/3] END alpha=0.01, penalty=l2; FAR: (train=-0.010, test=-0.010) auc: (train=0.994, test=0.995) f1: (train=0.946, test=0.946) total time=   3.8s\n",
      "[CV 3/3] END alpha=0.01, penalty=l2; FAR: (train=-0.010, test=-0.009) auc: (train=0.995, test=0.995) f1: (train=0.946, test=0.946) total time=   3.7s\n",
      "[CV 1/3] END alpha=0.1, penalty=l1; FAR: (train=-0.010, test=-0.010) auc: (train=0.994, test=0.994) f1: (train=0.939, test=0.938) total time=   5.0s\n",
      "[CV 2/3] END alpha=0.1, penalty=l1; FAR: (train=-0.010, test=-0.010) auc: (train=0.994, test=0.994) f1: (train=0.938, test=0.939) total time=   6.0s\n",
      "[CV 3/3] END alpha=0.1, penalty=l1; FAR: (train=-0.011, test=-0.011) auc: (train=0.991, test=0.991) f1: (train=0.937, test=0.937) total time=   4.3s\n",
      "[CV 1/3] END alpha=0.1, penalty=l2; FAR: (train=-0.009, test=-0.009) auc: (train=0.992, test=0.991) f1: (train=0.944, test=0.943) total time=   3.5s\n",
      "[CV 2/3] END alpha=0.1, penalty=l2; FAR: (train=-0.009, test=-0.009) auc: (train=0.991, test=0.992) f1: (train=0.944, test=0.945) total time=   3.5s\n",
      "[CV 3/3] END alpha=0.1, penalty=l2; FAR: (train=-0.009, test=-0.009) auc: (train=0.991, test=0.991) f1: (train=0.944, test=0.944) total time=   3.6s\n",
      "[CV 1/3] END alpha=1, penalty=l1; FAR: (train=-0.500, test=-0.500) auc: (train=0.500, test=0.500) f1: (train=0.000, test=0.000) total time=   7.9s\n",
      "[CV 2/3] END alpha=1, penalty=l1; FAR: (train=-0.500, test=-0.500) auc: (train=0.500, test=0.500) f1: (train=0.000, test=0.000) total time=   7.9s\n",
      "[CV 3/3] END alpha=1, penalty=l1; FAR: (train=-0.500, test=-0.500) auc: (train=0.500, test=0.500) f1: (train=0.000, test=0.000) total time=   7.7s\n",
      "[CV 1/3] END alpha=1, penalty=l2; FAR: (train=-0.011, test=-0.011) auc: (train=0.991, test=0.991) f1: (train=0.939, test=0.939) total time=   3.6s\n",
      "[CV 2/3] END alpha=1, penalty=l2; FAR: (train=-0.011, test=-0.011) auc: (train=0.991, test=0.991) f1: (train=0.939, test=0.940) total time=   3.8s\n",
      "[CV 3/3] END alpha=1, penalty=l2; FAR: (train=-0.011, test=-0.011) auc: (train=0.991, test=0.991) f1: (train=0.939, test=0.939) total time=   3.8s\n",
      "[CV 1/3] END alpha=10, penalty=l1; FAR: (train=-0.500, test=-0.500) auc: (train=0.500, test=0.500) f1: (train=0.000, test=0.000) total time=   4.7s\n",
      "[CV 2/3] END alpha=10, penalty=l1; FAR: (train=-0.500, test=-0.500) auc: (train=0.500, test=0.500) f1: (train=0.000, test=0.000) total time=   4.6s\n",
      "[CV 3/3] END alpha=10, penalty=l1; FAR: (train=-0.500, test=-0.500) auc: (train=0.500, test=0.500) f1: (train=0.000, test=0.000) total time=   4.6s\n",
      "[CV 1/3] END alpha=10, penalty=l2; FAR: (train=-0.145, test=-0.144) auc: (train=0.952, test=0.952) f1: (train=0.555, test=0.556) total time=   4.5s\n",
      "[CV 2/3] END alpha=10, penalty=l2; FAR: (train=-0.143, test=-0.144) auc: (train=0.952, test=0.951) f1: (train=0.559, test=0.559) total time=   3.9s\n",
      "[CV 3/3] END alpha=10, penalty=l2; FAR: (train=-0.145, test=-0.145) auc: (train=0.952, test=0.951) f1: (train=0.554, test=0.554) total time=   4.1s\n",
      "[CV 1/3] END alpha=100, penalty=l1; FAR: (train=-0.500, test=-0.500) auc: (train=0.500, test=0.500) f1: (train=0.000, test=0.000) total time=   4.7s\n",
      "[CV 2/3] END alpha=100, penalty=l1; FAR: (train=-0.500, test=-0.500) auc: (train=0.500, test=0.500) f1: (train=0.225, test=0.225) total time=   4.5s\n",
      "[CV 3/3] END alpha=100, penalty=l1; FAR: (train=-0.500, test=-0.500) auc: (train=0.500, test=0.500) f1: (train=0.000, test=0.000) total time=   4.7s\n",
      "[CV 1/3] END alpha=100, penalty=l2; FAR: (train=-0.119, test=-0.118) auc: (train=0.950, test=0.951) f1: (train=0.640, test=0.641) total time=   4.0s\n",
      "[CV 2/3] END alpha=100, penalty=l2; FAR: (train=-0.118, test=-0.119) auc: (train=0.950, test=0.950) f1: (train=0.641, test=0.640) total time=   3.8s\n",
      "[CV 3/3] END alpha=100, penalty=l2; FAR: (train=-0.119, test=-0.119) auc: (train=0.950, test=0.950) f1: (train=0.642, test=0.643) total time=   3.9s\n"
     ]
    }
   ],
   "source": [
    "# Tuning \"alpha\" and \"penalty\"\n",
    "clf = SGDClassifier(loss='hinge')\n",
    "param = {'alpha':[10**x for x in range(-5,3)],  # Values for alpha\n",
    "         'penalty':['l1', 'l2']}  # l1 an d l2 penalty\n",
    "\n",
    "svm_clf = hyperparam_tuning(clf, param, x_train_csr, y_train, cv=3)"
   ]
  },
  {
   "cell_type": "code",
   "execution_count": 34,
   "id": "5abe6850",
   "metadata": {},
   "outputs": [
    {
     "name": "stdout",
     "output_type": "stream",
     "text": [
      "Best Score: 0.9989689248140006\n",
      "Best Parameters: {'alpha': 1e-05, 'penalty': 'l1'}\n"
     ]
    },
    {
     "data": {
      "image/png": "[encoded data removed]",
      "text/plain": [
       "<Figure size 1440x360 with 4 Axes>"
      ]
     },
     "metadata": {
      "needs_background": "light"
     },
     "output_type": "display_data"
    }
   ],
   "source": [
    "# Visualising scores, using heatmap to check the performance on \"alpha\" and \"penalty\"\n",
    "result_visualization(svm_clf, param, 'alpha', 'penalty')"
   ]
  },
  {
   "cell_type": "code",
   "execution_count": 35,
   "id": "9fd5e924",
   "metadata": {},
   "outputs": [],
   "source": [
    "# Best svc model\n",
    "best_svm_clf = svm_clf.best_estimator_"
   ]
  },
  {
   "cell_type": "code",
   "execution_count": 36,
   "id": "eef17756",
   "metadata": {},
   "outputs": [
    {
     "name": "stdout",
     "output_type": "stream",
     "text": [
      "+---------+-------+--------------------+--------------------+----------------------+\n",
      "| Dataset | Model |        AUC         |      F1-score      |   False Alarm Rate   |\n",
      "+---------+-------+--------------------+--------------------+----------------------+\n",
      "|  Train  |  SVM  | 0.9900916711535771 | 0.9554460630804912 | 0.00990832884642293  |\n",
      "|   Test  |  SVM  | 0.9900365295638255 | 0.9553376469881208 | 0.009963470436174448 |\n",
      "+---------+-------+--------------------+--------------------+----------------------+\n"
     ]
    },
    {
     "data": {
      "image/png": "[encoded data removed]",
      "text/plain": [
       "<Figure size 432x288 with 1 Axes>"
      ]
     },
     "metadata": {
      "needs_background": "light"
     },
     "output_type": "display_data"
    },
    {
     "data": {
      "image/png": "[encoded data removed]",
      "text/plain": [
       "<Figure size 1152x360 with 4 Axes>"
      ]
     },
     "metadata": {
      "needs_background": "light"
     },
     "output_type": "display_data"
    }
   ],
   "source": [
    "# Model performance on train and test\n",
    "svm_clf, svm_auc, svm_f1, svm_far = evaluate_result(clf, x_train_csr, y_train, x_test_csr, y_test, \"SVM\")"
   ]
  },
  {
   "cell_type": "markdown",
   "id": "133fa47d",
   "metadata": {},
   "source": [
    "Observation\n",
    "\n",
    "1.Using wide range of \"alpha\" values from 10^-5 to 10^2 and l1, l2 \"penalty\"\n",
    "\n",
    "2.For penalty=l1 model is behaving like a random model with auc=0.5 from alpha=1 to 100.\n",
    "\n",
    "3.Best set of parameters for the model is alpha=10^-4 and penalty=l2\n",
    "\n",
    "4.Train and Test score is very close so no overfitting here, getting better value of auc and FAR tha Logistic Regression\n",
    "\n",
    "5.FAR value of this model is really good. The no of FP increased than LR but there are very few FN points in the result."
   ]
  },
  {
   "cell_type": "code",
   "execution_count": 37,
   "id": "c6569e95",
   "metadata": {},
   "outputs": [],
   "source": [
    "# Saving result of SVM\n",
    "result_dict['name'].append(\"SVM\")\n",
    "result_dict['auc'].append(svm_auc)\n",
    "result_dict['f1'].append(svm_f1)\n",
    "result_dict['far'].append(svm_far)"
   ]
  },
  {
   "cell_type": "code",
   "execution_count": 38,
   "id": "a9707566",
   "metadata": {},
   "outputs": [],
   "source": [
    "pickle.dump(svm_clf, open(file_path+'/svm_clf.pkl', 'wb'))"
   ]
  },
  {
   "cell_type": "code",
   "execution_count": 39,
   "id": "c61e15c6",
   "metadata": {},
   "outputs": [],
   "source": [
    "pickle.dump(result_dict, open('result_dict.pkl', 'wb'))"
   ]
  },
  {
   "cell_type": "markdown",
   "id": "510c9d64",
   "metadata": {},
   "source": [
    "### Decision Tree"
   ]
  },
  {
   "cell_type": "markdown",
   "id": "c44c6b37",
   "metadata": {},
   "source": [
    "Trying out DT for the next model.\n",
    "\n",
    "Tune parameters for \"max_depth\", \"min_samples_split\" and \"min_samples_leaf\""
   ]
  },
  {
   "cell_type": "code",
   "execution_count": 40,
   "id": "5ff21d9f",
   "metadata": {},
   "outputs": [
    {
     "name": "stdout",
     "output_type": "stream",
     "text": [
      "Fitting 3 folds for each of 12 candidates, totalling 36 fits\n",
      "[CV 1/3] END max_depth=8, min_samples_split=2; FAR: (train=-0.012, test=-0.012) auc: (train=0.999, test=0.999) f1: (train=0.959, test=0.959) total time=  13.7s\n",
      "[CV 2/3] END max_depth=8, min_samples_split=2; FAR: (train=-0.014, test=-0.015) auc: (train=0.999, test=0.999) f1: (train=0.962, test=0.962) total time=  14.4s\n",
      "[CV 3/3] END max_depth=8, min_samples_split=2; FAR: (train=-0.012, test=-0.012) auc: (train=0.999, test=0.999) f1: (train=0.959, test=0.959) total time=  14.2s\n",
      "[CV 1/3] END max_depth=8, min_samples_split=4; FAR: (train=-0.012, test=-0.012) auc: (train=0.999, test=0.999) f1: (train=0.959, test=0.959) total time=  14.1s\n",
      "[CV 2/3] END max_depth=8, min_samples_split=4; FAR: (train=-0.014, test=-0.015) auc: (train=0.999, test=0.999) f1: (train=0.962, test=0.962) total time=  14.0s\n",
      "[CV 3/3] END max_depth=8, min_samples_split=4; FAR: (train=-0.012, test=-0.012) auc: (train=0.999, test=0.999) f1: (train=0.959, test=0.959) total time=  13.6s\n",
      "[CV 1/3] END max_depth=8, min_samples_split=6; FAR: (train=-0.012, test=-0.012) auc: (train=0.999, test=0.999) f1: (train=0.959, test=0.959) total time=  14.3s\n",
      "[CV 2/3] END max_depth=8, min_samples_split=6; FAR: (train=-0.014, test=-0.015) auc: (train=0.999, test=0.999) f1: (train=0.962, test=0.962) total time=  13.6s\n",
      "[CV 3/3] END max_depth=8, min_samples_split=6; FAR: (train=-0.012, test=-0.012) auc: (train=0.999, test=0.999) f1: (train=0.959, test=0.959) total time=  14.6s\n",
      "[CV 1/3] END max_depth=10, min_samples_split=2; FAR: (train=-0.012, test=-0.012) auc: (train=1.000, test=0.999) f1: (train=0.964, test=0.963) total time=  16.9s\n",
      "[CV 2/3] END max_depth=10, min_samples_split=2; FAR: (train=-0.029, test=-0.030) auc: (train=1.000, test=0.999) f1: (train=0.964, test=0.961) total time=  16.8s\n",
      "[CV 3/3] END max_depth=10, min_samples_split=2; FAR: (train=-0.012, test=-0.013) auc: (train=1.000, test=0.999) f1: (train=0.964, test=0.963) total time=  16.5s\n",
      "[CV 1/3] END max_depth=10, min_samples_split=4; FAR: (train=-0.012, test=-0.012) auc: (train=1.000, test=0.999) f1: (train=0.964, test=0.963) total time=  16.7s\n",
      "[CV 2/3] END max_depth=10, min_samples_split=4; FAR: (train=-0.029, test=-0.030) auc: (train=1.000, test=0.999) f1: (train=0.964, test=0.961) total time=  16.8s\n",
      "[CV 3/3] END max_depth=10, min_samples_split=4; FAR: (train=-0.012, test=-0.013) auc: (train=1.000, test=0.999) f1: (train=0.964, test=0.963) total time=  16.5s\n",
      "[CV 1/3] END max_depth=10, min_samples_split=6; FAR: (train=-0.012, test=-0.012) auc: (train=1.000, test=0.999) f1: (train=0.964, test=0.963) total time=  16.4s\n",
      "[CV 2/3] END max_depth=10, min_samples_split=6; FAR: (train=-0.029, test=-0.030) auc: (train=1.000, test=0.999) f1: (train=0.964, test=0.961) total time=  16.8s\n",
      "[CV 3/3] END max_depth=10, min_samples_split=6; FAR: (train=-0.012, test=-0.013) auc: (train=1.000, test=0.999) f1: (train=0.964, test=0.963) total time=  16.6s\n",
      "[CV 1/3] END max_depth=12, min_samples_split=2; FAR: (train=-0.026, test=-0.028) auc: (train=1.000, test=0.999) f1: (train=0.967, test=0.965) total time=  19.4s\n",
      "[CV 2/3] END max_depth=12, min_samples_split=2; FAR: (train=-0.023, test=-0.025) auc: (train=1.000, test=0.999) f1: (train=0.969, test=0.967) total time=  20.4s\n",
      "[CV 3/3] END max_depth=12, min_samples_split=2; FAR: (train=-0.027, test=-0.028) auc: (train=1.000, test=0.999) f1: (train=0.967, test=0.966) total time=  19.6s\n",
      "[CV 1/3] END max_depth=12, min_samples_split=4; FAR: (train=-0.027, test=-0.028) auc: (train=1.000, test=0.999) f1: (train=0.967, test=0.965) total time=  19.4s\n",
      "[CV 2/3] END max_depth=12, min_samples_split=4; FAR: (train=-0.023, test=-0.025) auc: (train=1.000, test=0.999) f1: (train=0.969, test=0.967) total time=  19.9s\n",
      "[CV 3/3] END max_depth=12, min_samples_split=4; FAR: (train=-0.027, test=-0.028) auc: (train=1.000, test=0.999) f1: (train=0.967, test=0.966) total time=  20.0s\n",
      "[CV 1/3] END max_depth=12, min_samples_split=6; FAR: (train=-0.027, test=-0.028) auc: (train=1.000, test=0.999) f1: (train=0.967, test=0.965) total time=  20.0s\n",
      "[CV 2/3] END max_depth=12, min_samples_split=6; FAR: (train=-0.023, test=-0.025) auc: (train=1.000, test=0.999) f1: (train=0.969, test=0.967) total time=  19.7s\n",
      "[CV 3/3] END max_depth=12, min_samples_split=6; FAR: (train=-0.027, test=-0.028) auc: (train=1.000, test=0.999) f1: (train=0.967, test=0.966) total time=  17.8s\n",
      "[CV 1/3] END max_depth=14, min_samples_split=2; FAR: (train=-0.021, test=-0.023) auc: (train=1.000, test=0.999) f1: (train=0.972, test=0.969) total time=  20.8s\n",
      "[CV 2/3] END max_depth=14, min_samples_split=2; FAR: (train=-0.019, test=-0.022) auc: (train=1.000, test=0.999) f1: (train=0.974, test=0.970) total time=  22.4s\n",
      "[CV 3/3] END max_depth=14, min_samples_split=2; FAR: (train=-0.021, test=-0.022) auc: (train=1.000, test=0.999) f1: (train=0.972, test=0.970) total time=  22.0s\n",
      "[CV 1/3] END max_depth=14, min_samples_split=4; FAR: (train=-0.021, test=-0.023) auc: (train=1.000, test=0.999) f1: (train=0.972, test=0.969) total time=  20.8s\n",
      "[CV 2/3] END max_depth=14, min_samples_split=4; FAR: (train=-0.019, test=-0.022) auc: (train=1.000, test=0.999) f1: (train=0.973, test=0.970) total time=  22.0s\n",
      "[CV 3/3] END max_depth=14, min_samples_split=4; FAR: (train=-0.021, test=-0.022) auc: (train=1.000, test=0.999) f1: (train=0.972, test=0.970) total time=  21.5s\n",
      "[CV 1/3] END max_depth=14, min_samples_split=6; FAR: (train=-0.021, test=-0.023) auc: (train=1.000, test=0.999) f1: (train=0.972, test=0.969) total time=  20.9s\n",
      "[CV 2/3] END max_depth=14, min_samples_split=6; FAR: (train=-0.019, test=-0.022) auc: (train=1.000, test=0.999) f1: (train=0.973, test=0.970) total time=  22.2s\n",
      "[CV 3/3] END max_depth=14, min_samples_split=6; FAR: (train=-0.021, test=-0.022) auc: (train=1.000, test=0.999) f1: (train=0.972, test=0.969) total time=  21.6s\n"
     ]
    }
   ],
   "source": [
    "# DT classifier\n",
    "clf = DecisionTreeClassifier()\n",
    "param = {'max_depth':[8, 10, 12, 14],\n",
    "         'min_samples_split':[2, 4, 6]}\n",
    "\n",
    "dt_clf = hyperparam_tuning(clf, param, x_train_csr, y_train, cv=3)"
   ]
  },
  {
   "cell_type": "code",
   "execution_count": 41,
   "id": "3af2a81f",
   "metadata": {},
   "outputs": [
    {
     "name": "stdout",
     "output_type": "stream",
     "text": [
      "Best Score: 0.9993911679870581\n",
      "Best Parameters: {'max_depth': 10, 'min_samples_split': 4}\n"
     ]
    },
    {
     "data": {
      "image/png": "[encoded data removed]",
      "text/plain": [
       "<Figure size 1440x360 with 4 Axes>"
      ]
     },
     "metadata": {
      "needs_background": "light"
     },
     "output_type": "display_data"
    }
   ],
   "source": [
    "# Plotting heatmap of scores with params\n",
    "result_visualization(dt_clf, param, 'max_depth', 'min_samples_split')"
   ]
  },
  {
   "cell_type": "code",
   "execution_count": 42,
   "id": "f93f217d",
   "metadata": {},
   "outputs": [
    {
     "data": {
      "text/plain": [
       "DecisionTreeClassifier(max_depth=10, min_samples_split=4)"
      ]
     },
     "execution_count": 42,
     "metadata": {},
     "output_type": "execute_result"
    }
   ],
   "source": [
    "dt_clf.best_estimator_"
   ]
  },
  {
   "cell_type": "code",
   "execution_count": 43,
   "id": "f6c064be",
   "metadata": {
    "scrolled": true
   },
   "outputs": [
    {
     "name": "stdout",
     "output_type": "stream",
     "text": [
      "Fitting 3 folds for each of 3 candidates, totalling 9 fits\n",
      "[CV 1/3] END min_samples_leaf=9; FAR: (train=-0.012, test=-0.012) auc: (train=1.000, test=0.999) f1: (train=0.964, test=0.963) total time=  14.5s\n",
      "[CV 2/3] END min_samples_leaf=9; FAR: (train=-0.029, test=-0.031) auc: (train=1.000, test=0.999) f1: (train=0.963, test=0.961) total time=  16.4s\n",
      "[CV 3/3] END min_samples_leaf=9; FAR: (train=-0.013, test=-0.013) auc: (train=1.000, test=0.999) f1: (train=0.964, test=0.963) total time=  16.1s\n",
      "[CV 1/3] END min_samples_leaf=11; FAR: (train=-0.012, test=-0.012) auc: (train=1.000, test=0.999) f1: (train=0.963, test=0.963) total time=  15.8s\n",
      "[CV 2/3] END min_samples_leaf=11; FAR: (train=-0.029, test=-0.031) auc: (train=1.000, test=0.999) f1: (train=0.963, test=0.961) total time=  16.5s\n",
      "[CV 3/3] END min_samples_leaf=11; FAR: (train=-0.013, test=-0.013) auc: (train=1.000, test=0.999) f1: (train=0.964, test=0.963) total time=  16.1s\n",
      "[CV 1/3] END min_samples_leaf=13; FAR: (train=-0.012, test=-0.012) auc: (train=1.000, test=0.999) f1: (train=0.963, test=0.963) total time=  16.0s\n",
      "[CV 2/3] END min_samples_leaf=13; FAR: (train=-0.029, test=-0.030) auc: (train=1.000, test=0.999) f1: (train=0.963, test=0.961) total time=  16.6s\n",
      "[CV 3/3] END min_samples_leaf=13; FAR: (train=-0.013, test=-0.013) auc: (train=1.000, test=0.999) f1: (train=0.964, test=0.963) total time=  16.2s\n"
     ]
    }
   ],
   "source": [
    "# Tuning \"min_samples_leaf\" on top of best found params\n",
    "clf = dt_clf.best_estimator_\n",
    "param = {'min_samples_leaf':[9, 11, 13]}\n",
    "\n",
    "dt_clf = hyperparam_tuning(clf, param, x_train_csr, y_train,cv=3)"
   ]
  },
  {
   "cell_type": "code",
   "execution_count": 44,
   "id": "d9927882",
   "metadata": {},
   "outputs": [
    {
     "name": "stdout",
     "output_type": "stream",
     "text": [
      "Best Score: 0.9994585178953828\n",
      "Best Parameters: {'min_samples_leaf': 11}\n"
     ]
    },
    {
     "data": {
      "image/png": "[encoded data removed]",
      "text/plain": [
       "<Figure size 720x360 with 1 Axes>"
      ]
     },
     "metadata": {
      "needs_background": "light"
     },
     "output_type": "display_data"
    }
   ],
   "source": [
    "result_visualization(dt_clf, param, 'min_samples_leaf')"
   ]
  },
  {
   "cell_type": "markdown",
   "id": "ce21641a",
   "metadata": {},
   "source": [
    "Best value of \"min_samples_leaf\" is 11"
   ]
  },
  {
   "cell_type": "code",
   "execution_count": 45,
   "id": "8f417331",
   "metadata": {},
   "outputs": [],
   "source": [
    "dt_param = {'max_depth': 10, 'min_samples_split': 6, 'min_samples_leaf':9}\n",
    "\n",
    "dt_best_clf = DecisionTreeClassifier(**dt_param)"
   ]
  },
  {
   "cell_type": "code",
   "execution_count": 46,
   "id": "a85cfb6d",
   "metadata": {},
   "outputs": [
    {
     "name": "stdout",
     "output_type": "stream",
     "text": [
      "+---------+-------+--------------------+--------------------+----------------------+\n",
      "| Dataset | Model |        AUC         |      F1-score      |   False Alarm Rate   |\n",
      "+---------+-------+--------------------+--------------------+----------------------+\n",
      "|  Train  |   DT  | 0.9879649532321753 | 0.9634806494164075 | 0.012035046767824754 |\n",
      "|   Test  |   DT  | 0.9877274028109072 | 0.9628257328990228 | 0.012272597189092835 |\n",
      "+---------+-------+--------------------+--------------------+----------------------+\n"
     ]
    },
    {
     "data": {
      "image/png": "[encoded data removed]",
      "text/plain": [
       "<Figure size 432x288 with 1 Axes>"
      ]
     },
     "metadata": {
      "needs_background": "light"
     },
     "output_type": "display_data"
    },
    {
     "data": {
      "image/png": "[encoded data removed]",
      "text/plain": [
       "<Figure size 1152x360 with 4 Axes>"
      ]
     },
     "metadata": {
      "needs_background": "light"
     },
     "output_type": "display_data"
    }
   ],
   "source": [
    "dt_clf, dt_auc, dt_f1, dt_far = evaluate_result(dt_best_clf, x_train_csr, y_train, x_test_csr, y_test, 'DT')"
   ]
  },
  {
   "cell_type": "code",
   "execution_count": 47,
   "id": "4747e523",
   "metadata": {},
   "outputs": [],
   "source": [
    "# Saving the Model to disk\n",
    "pickle.dump(dt_clf, open(file_path+'/dt_clf.pkl', 'wb'))"
   ]
  },
  {
   "cell_type": "code",
   "execution_count": 48,
   "id": "e7b3268c",
   "metadata": {},
   "outputs": [],
   "source": [
    "result_dict = pickle.load(open('./result_dict.pkl', 'rb'))"
   ]
  },
  {
   "cell_type": "code",
   "execution_count": 49,
   "id": "3c85d158",
   "metadata": {},
   "outputs": [],
   "source": [
    "# Saving scores of DT\n",
    "result_dict['name'].append(\"DT\")\n",
    "result_dict['auc'].append(dt_auc)\n",
    "result_dict['f1'].append(dt_f1)\n",
    "result_dict['far'].append(dt_far)"
   ]
  },
  {
   "cell_type": "code",
   "execution_count": 50,
   "id": "5b51862f",
   "metadata": {},
   "outputs": [
    {
     "data": {
      "text/plain": [
       "{'name': ['LR', 'SVM', 'DT'],\n",
       " 'auc': [0.9700835579628607, 0.9900365295638255, 0.9877274028109072],\n",
       " 'f1': [0.954977685963446, 0.9553376469881208, 0.9628257328990228],\n",
       " 'far': [0.029916442037139227, 0.009963470436174448, 0.012272597189092835]}"
      ]
     },
     "execution_count": 50,
     "metadata": {},
     "output_type": "execute_result"
    }
   ],
   "source": [
    "result_dict"
   ]
  },
  {
   "cell_type": "markdown",
   "id": "5062ce2d",
   "metadata": {},
   "source": [
    "Observation\n",
    "\n",
    "1.Tuning parameters for \"max_depth\", \"min_sampples_split\" and \"min_samples_leaf\".\n",
    "\n",
    "2.Performance is mostly dependent on \"max_depth\" and less dependent on other 2 params.\n",
    "\n",
    "3.Best parameters for the model max_depth=10, min_samples_split=6 and min_samples_leaf=9\n",
    "\n",
    "4.Train and Test score is very close so no overfitting here, getting better value of F1 score with this model than the other 2 above.\n",
    "\n",
    "5.NO of False Positive reduced for this model."
   ]
  },
  {
   "cell_type": "markdown",
   "id": "80ebfac8",
   "metadata": {},
   "source": [
    "### Cross Validation function"
   ]
  },
  {
   "cell_type": "markdown",
   "id": "50254f3c",
   "metadata": {},
   "source": [
    "For Random Forest and XGBClassifier, we will tuning its hyperparameters with train and cv data and using loops. Because the dataset is very large and with grid or randomsearch it will take so much time."
   ]
  },
  {
   "cell_type": "code",
   "execution_count": 51,
   "id": "727e2659",
   "metadata": {},
   "outputs": [],
   "source": [
    "# Splitting train in train and cv data\n",
    "x_train_new_csr, x_cv_csr, y_train, y_cv = train_test_split(x_train_csr, y_train, test_size=0.2, random_state=42)"
   ]
  },
  {
   "cell_type": "code",
   "execution_count": 52,
   "id": "c0b71e3f",
   "metadata": {},
   "outputs": [
    {
     "data": {
      "text/plain": [
       "((1422425, 197),\n",
       " (1422425,),\n",
       " (355607, 197),\n",
       " (355607,),\n",
       " (762015, 197),\n",
       " (762015,))"
      ]
     },
     "execution_count": 52,
     "metadata": {},
     "output_type": "execute_result"
    }
   ],
   "source": [
    "x_train_new_csr.shape, y_train.shape, x_cv_csr.shape, y_cv.shape, x_test_csr.shape, y_test.shape"
   ]
  },
  {
   "cell_type": "code",
   "execution_count": 53,
   "id": "07064163",
   "metadata": {},
   "outputs": [],
   "source": [
    "def cross_validation(clf_name, param, param_tune,\n",
    "                     x_train=x_train_new_csr, y_train=y_train, x_cv=x_cv_csr, y_cv=y_cv):\n",
    "    \"\"\"\n",
    "    Using this function to cross validate with train and cv data.\n",
    "    Parameters:\n",
    "        clf_name = Name of the classifier\n",
    "        param = Dictionary of hyperparameters and params for classifier\n",
    "        param_tune = Name of the parameter to tune\n",
    "        x_train, y_train = Train data and Train label\n",
    "        x_cv, y_cv = CV data and CV label\n",
    "    \"\"\"\n",
    "    # Initializing empty list to store train and cv scores\n",
    "    train_auc_list = []\n",
    "    cv_auc_list = []\n",
    "    \n",
    "    # Assigning arguments to variables\n",
    "    hyper_param = param_tune\n",
    "    values = param.pop(hyper_param)\n",
    "    classifier = clf_name\n",
    "\n",
    "    # Looping through the list of hyper parameter\n",
    "    for i in tqdm(values):\n",
    "        clf = classifier(**{hyper_param:i}, **param, n_jobs=-1)\n",
    "        clf.fit(x_train, y_train)  # Training\n",
    "\n",
    "        # Predicting probability of targets\n",
    "        y_train_pred = clf.predict_proba(x_train)[:,1]\n",
    "        y_cv_pred = clf.predict_proba(x_cv)[:,1]\n",
    "\n",
    "        # Getting scores\n",
    "        train_auc_list.append(roc_auc_score(y_train, y_train_pred))\n",
    "        cv_auc_list.append(roc_auc_score(y_cv, y_cv_pred))\n",
    "\n",
    "        print(\"For {}: {}, train auc: {} and test auc {}\".format(hyper_param, i, train_auc_list[-1], cv_auc_list[-1]))\n",
    "    \n",
    "    # Plotting scores\n",
    "    plt.figure(figsize=(10,5))\n",
    "    plt.plot(values, train_auc_list, label=\"train\")\n",
    "    plt.plot(values, cv_auc_list, label=\"cv\")\n",
    "\n",
    "    for i, txt in enumerate(train_auc_list):\n",
    "        plt.annotate((values[i], np.round(txt, 3)), (values[i], train_auc_list[i]))\n",
    "    for i, txt in enumerate(cv_auc_list):\n",
    "        plt.annotate((values[i], np.round(txt, 3)), (values[i], cv_auc_list[i]))\n",
    "    \n",
    "    plt.xlabel(hyper_param)\n",
    "    plt.ylabel('auc score')\n",
    "    plt.grid()\n",
    "    plt.legend()\n",
    "    plt.show()\n",
    "\n",
    "    # Finding best parameter with highest cv score\n",
    "    best_param = np.argmax(cv_auc_list)\n",
    "    clf = classifier(**{hyper_param:values[best_param]}, **param)  # Trained model\n",
    "\n",
    "    return clf, hyper_param, values[best_param]"
   ]
  },
  {
   "cell_type": "markdown",
   "id": "e263be0a",
   "metadata": {},
   "source": [
    "### Random Forest"
   ]
  },
  {
   "cell_type": "markdown",
   "id": "8a6d931c",
   "metadata": {},
   "source": [
    "Trying Random Forest Classifier next.\n",
    "Tuning 'n_estimators', 'max_depth', 'min_samples_split' and 'criterion'"
   ]
  },
  {
   "cell_type": "code",
   "execution_count": 54,
   "id": "d4a19783",
   "metadata": {},
   "outputs": [],
   "source": [
    "# Classifier Name\n",
    "CLF_NAME = RandomForestClassifier"
   ]
  },
  {
   "cell_type": "code",
   "execution_count": 56,
   "id": "0aac2707",
   "metadata": {},
   "outputs": [
    {
     "name": "stderr",
     "output_type": "stream",
     "text": [
      " 25%|██▌       | 1/4 [08:13<24:39, 493.13s/it]"
     ]
    },
    {
     "name": "stdout",
     "output_type": "stream",
     "text": [
      "For n_estimators: 100, train auc: 0.9999999124257893 and test auc 0.999753814140287\n"
     ]
    },
    {
     "name": "stderr",
     "output_type": "stream",
     "text": [
      "\r",
      " 50%|█████     | 2/4 [26:43<28:32, 856.46s/it]"
     ]
    },
    {
     "name": "stdout",
     "output_type": "stream",
     "text": [
      "For n_estimators: 200, train auc: 0.9999999369535394 and test auc 0.9997690534174659\n"
     ]
    },
    {
     "name": "stderr",
     "output_type": "stream",
     "text": [
      "\r",
      " 75%|███████▌  | 3/4 [50:16<18:30, 1110.50s/it]"
     ]
    },
    {
     "name": "stdout",
     "output_type": "stream",
     "text": [
      "For n_estimators: 300, train auc: 0.9999999431111708 and test auc 0.9997614429138263\n"
     ]
    },
    {
     "name": "stderr",
     "output_type": "stream",
     "text": [
      "100%|██████████| 4/4 [1:20:12<00:00, 1203.03s/it]"
     ]
    },
    {
     "name": "stdout",
     "output_type": "stream",
     "text": [
      "For n_estimators: 400, train auc: 0.9999999323956408 and test auc 0.9997819342329535\n"
     ]
    },
    {
     "name": "stderr",
     "output_type": "stream",
     "text": [
      "\n"
     ]
    },
    {
     "data": {
      "image/png": "[encoded data removed]",
      "text/plain": [
       "<Figure size 720x360 with 1 Axes>"
      ]
     },
     "metadata": {
      "needs_background": "light"
     },
     "output_type": "display_data"
    }
   ],
   "source": [
    "# Tuning No of estimators\n",
    "param = {'n_estimators':[100, 200, 300, 400]}\n",
    "rf_clf, param1, val1 = cross_validation(CLF_NAME, param, 'n_estimators')"
   ]
  },
  {
   "cell_type": "code",
   "execution_count": 57,
   "id": "5d57cb53",
   "metadata": {},
   "outputs": [
    {
     "name": "stderr",
     "output_type": "stream",
     "text": [
      " 33%|███▎      | 1/3 [03:55<07:50, 235.20s/it]"
     ]
    },
    {
     "name": "stdout",
     "output_type": "stream",
     "text": [
      "For max_depth: 20, train auc: 0.9999333029217792 and test auc 0.9997722511861872\n"
     ]
    },
    {
     "name": "stderr",
     "output_type": "stream",
     "text": [
      "\r",
      " 67%|██████▋   | 2/3 [08:19<04:12, 252.44s/it]"
     ]
    },
    {
     "name": "stdout",
     "output_type": "stream",
     "text": [
      "For max_depth: 22, train auc: 0.9999624357980091 and test auc 0.9997807247727531\n"
     ]
    },
    {
     "name": "stderr",
     "output_type": "stream",
     "text": [
      "100%|██████████| 3/3 [13:35<00:00, 271.99s/it]"
     ]
    },
    {
     "name": "stdout",
     "output_type": "stream",
     "text": [
      "For max_depth: 24, train auc: 0.9999848407423917 and test auc 0.999785365434501\n"
     ]
    },
    {
     "name": "stderr",
     "output_type": "stream",
     "text": [
      "\n"
     ]
    },
    {
     "data": {
      "image/png": "[encoded data removed]",
      "text/plain": [
       "<Figure size 720x360 with 1 Axes>"
      ]
     },
     "metadata": {
      "needs_background": "light"
     },
     "output_type": "display_data"
    }
   ],
   "source": [
    "# Tuning Max depth\n",
    "param = {'max_depth':[20, 22, 24]}\n",
    "dt_clf, param2, val2 = cross_validation(CLF_NAME, param, 'max_depth')"
   ]
  },
  {
   "cell_type": "code",
   "execution_count": 58,
   "id": "748814fc",
   "metadata": {},
   "outputs": [
    {
     "name": "stderr",
     "output_type": "stream",
     "text": [
      " 33%|███▎      | 1/3 [04:24<08:48, 264.11s/it]"
     ]
    },
    {
     "name": "stdout",
     "output_type": "stream",
     "text": [
      "For min_samples_split: 2, train auc: 0.9999646013226137 and test auc 0.9997788889159969\n"
     ]
    },
    {
     "name": "stderr",
     "output_type": "stream",
     "text": [
      "\r",
      " 67%|██████▋   | 2/3 [07:59<03:55, 235.56s/it]"
     ]
    },
    {
     "name": "stdout",
     "output_type": "stream",
     "text": [
      "For min_samples_split: 4, train auc: 0.9999513037274756 and test auc 0.9997668924923595\n"
     ]
    },
    {
     "name": "stderr",
     "output_type": "stream",
     "text": [
      "100%|██████████| 3/3 [11:13<00:00, 224.60s/it]"
     ]
    },
    {
     "name": "stdout",
     "output_type": "stream",
     "text": [
      "For min_samples_split: 6, train auc: 0.9999406943250152 and test auc 0.9997759075615654\n"
     ]
    },
    {
     "name": "stderr",
     "output_type": "stream",
     "text": [
      "\n"
     ]
    },
    {
     "data": {
      "image/png": "[encoded data removed]",
      "text/plain": [
       "<Figure size 720x360 with 1 Axes>"
      ]
     },
     "metadata": {
      "needs_background": "light"
     },
     "output_type": "display_data"
    }
   ],
   "source": [
    "# Tuning Min samples split\n",
    "param = {'min_samples_split':[2, 4, 6], 'max_depth':22}\n",
    "dt_clf = cross_validation(CLF_NAME, param, 'min_samples_split')"
   ]
  },
  {
   "cell_type": "code",
   "execution_count": 59,
   "id": "23b4b618",
   "metadata": {},
   "outputs": [
    {
     "name": "stderr",
     "output_type": "stream",
     "text": [
      " 50%|█████     | 1/2 [03:14<03:14, 194.48s/it]"
     ]
    },
    {
     "name": "stdout",
     "output_type": "stream",
     "text": [
      "For criterion: gini, train auc: 0.9999411247515004 and test auc 0.9997780723480203\n"
     ]
    },
    {
     "name": "stderr",
     "output_type": "stream",
     "text": [
      "100%|██████████| 2/2 [06:24<00:00, 192.00s/it]"
     ]
    },
    {
     "name": "stdout",
     "output_type": "stream",
     "text": [
      "For criterion: entropy, train auc: 0.9999216463756526 and test auc 0.9997590740121919\n"
     ]
    },
    {
     "name": "stderr",
     "output_type": "stream",
     "text": [
      "\n"
     ]
    },
    {
     "data": {
      "image/png": "[encoded data removed]",
      "text/plain": [
       "<Figure size 720x360 with 1 Axes>"
      ]
     },
     "metadata": {
      "needs_background": "light"
     },
     "output_type": "display_data"
    }
   ],
   "source": [
    "# Tuning Criterion\n",
    "param = {'criterion':['gini', 'entropy'], 'min_samples_split':6, 'max_depth':22}\n",
    "dt_clf, _, _ = cross_validation(CLF_NAME, param, 'criterion')"
   ]
  },
  {
   "cell_type": "code",
   "execution_count": 60,
   "id": "5d25a0ac",
   "metadata": {},
   "outputs": [],
   "source": [
    "# Best RandomForest model\n",
    "rf_bst_clf = RandomForestClassifier(criterion='gini', max_depth=22, min_samples_split=6, n_estimators=300, n_jobs=-1)"
   ]
  },
  {
   "cell_type": "code",
   "execution_count": 61,
   "id": "89d5e53f",
   "metadata": {},
   "outputs": [
    {
     "name": "stdout",
     "output_type": "stream",
     "text": [
      "+---------+-------+--------------------+--------------------+----------------------+\n",
      "| Dataset | Model |        AUC         |      F1-score      |   False Alarm Rate   |\n",
      "+---------+-------+--------------------+--------------------+----------------------+\n",
      "|  Train  |   RF  | 0.9927781255062542 | 0.9898325475441885 | 0.007221874493745863 |\n",
      "|   Test  |   RF  | 0.9856855036374929 | 0.9768781001757746 | 0.01431449636250722  |\n",
      "+---------+-------+--------------------+--------------------+----------------------+\n"
     ]
    },
    {
     "data": {
      "image/png": "[encoded data removed]",
      "text/plain": [
       "<Figure size 432x288 with 1 Axes>"
      ]
     },
     "metadata": {
      "needs_background": "light"
     },
     "output_type": "display_data"
    },
    {
     "data": {
      "image/png": "[encoded data removed]",
      "text/plain": [
       "<Figure size 1152x360 with 4 Axes>"
      ]
     },
     "metadata": {
      "needs_background": "light"
     },
     "output_type": "display_data"
    },
    {
     "data": {
      "text/plain": [
       "(RandomForestClassifier(max_depth=22, min_samples_split=6, n_estimators=300,\n",
       "                        n_jobs=-1),\n",
       " 0.9856855036374929,\n",
       " 0.9768781001757746,\n",
       " 0.01431449636250722)"
      ]
     },
     "execution_count": 61,
     "metadata": {},
     "output_type": "execute_result"
    }
   ],
   "source": [
    "# Getting result on train and test data\n",
    "evaluate_result(rf_bst_clf, x_train_new_csr, y_train, x_test_csr, y_test, \"RF\")"
   ]
  },
  {
   "cell_type": "markdown",
   "id": "d71ba7e9",
   "metadata": {},
   "source": [
    "Observation\n",
    "\n",
    "1.Tuning lots of parameters for this classifier with appropriate values.\n",
    "\n",
    "2.Performance is mostly dependent on \"n_estimators\", \"max_depth\" and less dependent on other 2 params.\n",
    "\n",
    "3.Best parameters for the model: criterion='gini', max_depth=22, min_samples_split=6, n_estimators=300\n",
    "\n",
    "4.Train and Test score is close but compared to above models there is a gap between train and test score. So it is overfitting on train data if wwe compare with above models. But the gap is very low so not much of overfitting.\n",
    "\n",
    "5.No of False Positive reduced heavily, but No of False Negetive incresed."
   ]
  },
  {
   "cell_type": "code",
   "execution_count": 62,
   "id": "bf302aa8",
   "metadata": {},
   "outputs": [],
   "source": [
    "pickle.dump(rf_bst_clf, open(file_path+'/rf_best_clf.pkl', 'wb'))"
   ]
  },
  {
   "cell_type": "code",
   "execution_count": 63,
   "id": "d7101968",
   "metadata": {},
   "outputs": [],
   "source": [
    "result_dict = pickle.load(open('result_dict.pkl', 'rb'))"
   ]
  },
  {
   "cell_type": "code",
   "execution_count": 64,
   "id": "9f871fba",
   "metadata": {},
   "outputs": [],
   "source": [
    "# Adding results\n",
    "result_dict['name'].append(\"RF\")\n",
    "result_dict['auc'].append(0.9854768258366028)\n",
    "result_dict['f1'].append(0.9767504956694146)\n",
    "result_dict['far'].append(0.01452317416339732)"
   ]
  },
  {
   "cell_type": "code",
   "execution_count": 65,
   "id": "db4896d7",
   "metadata": {},
   "outputs": [
    {
     "data": {
      "text/html": [
       "<div>\n",
       "<style scoped>\n",
       "    .dataframe tbody tr th:only-of-type {\n",
       "        vertical-align: middle;\n",
       "    }\n",
       "\n",
       "    .dataframe tbody tr th {\n",
       "        vertical-align: top;\n",
       "    }\n",
       "\n",
       "    .dataframe thead th {\n",
       "        text-align: right;\n",
       "    }\n",
       "</style>\n",
       "<table border=\"1\" class=\"dataframe\">\n",
       "  <thead>\n",
       "    <tr style=\"text-align: right;\">\n",
       "      <th></th>\n",
       "      <th>name</th>\n",
       "      <th>auc</th>\n",
       "      <th>f1</th>\n",
       "      <th>far</th>\n",
       "    </tr>\n",
       "  </thead>\n",
       "  <tbody>\n",
       "    <tr>\n",
       "      <th>0</th>\n",
       "      <td>LR</td>\n",
       "      <td>0.970084</td>\n",
       "      <td>0.954978</td>\n",
       "      <td>0.029916</td>\n",
       "    </tr>\n",
       "    <tr>\n",
       "      <th>1</th>\n",
       "      <td>SVM</td>\n",
       "      <td>0.990037</td>\n",
       "      <td>0.955338</td>\n",
       "      <td>0.009963</td>\n",
       "    </tr>\n",
       "    <tr>\n",
       "      <th>2</th>\n",
       "      <td>RF</td>\n",
       "      <td>0.985477</td>\n",
       "      <td>0.976750</td>\n",
       "      <td>0.014523</td>\n",
       "    </tr>\n",
       "  </tbody>\n",
       "</table>\n",
       "</div>"
      ],
      "text/plain": [
       "  name       auc        f1       far\n",
       "0   LR  0.970084  0.954978  0.029916\n",
       "1  SVM  0.990037  0.955338  0.009963\n",
       "2   RF  0.985477  0.976750  0.014523"
      ]
     },
     "execution_count": 65,
     "metadata": {},
     "output_type": "execute_result"
    }
   ],
   "source": [
    "pd.DataFrame(result_dict)"
   ]
  },
  {
   "cell_type": "code",
   "execution_count": 66,
   "id": "fd61ef64",
   "metadata": {},
   "outputs": [],
   "source": [
    "pickle.dump(result_dict, open(file_path+'/final_result_dict.pkl', 'wb'))"
   ]
  },
  {
   "cell_type": "markdown",
   "id": "09b79ce1",
   "metadata": {},
   "source": [
    "### GBDT"
   ]
  },
  {
   "cell_type": "markdown",
   "id": "4a9ec88b",
   "metadata": {},
   "source": [
    "Trying out Gradient boosted decision tree.\n",
    "\n",
    "For this model there are lots of hyperparameters to tune like, 'learning_rate', 'max_depth', 'colsample_bylevel', 'subsample' and 'n_estimators'"
   ]
  },
  {
   "cell_type": "code",
   "execution_count": 67,
   "id": "a3c80385",
   "metadata": {},
   "outputs": [],
   "source": [
    "CLF_NAME = xgb.XGBClassifier"
   ]
  },
  {
   "cell_type": "code",
   "execution_count": 68,
   "id": "93925438",
   "metadata": {},
   "outputs": [
    {
     "name": "stderr",
     "output_type": "stream",
     "text": [
      "\r",
      "  0%|          | 0/3 [00:00<?, ?it/s]"
     ]
    },
    {
     "name": "stdout",
     "output_type": "stream",
     "text": [
      "[09:42:35] WARNING: D:\\bld\\xgboost-split_1643227225381\\work\\src\\learner.cc:1115: Starting in XGBoost 1.3.0, the default evaluation metric used with the objective 'binary:logistic' was changed from 'error' to 'logloss'. Explicitly set eval_metric if you'd like to restore the old behavior.\n"
     ]
    },
    {
     "name": "stderr",
     "output_type": "stream",
     "text": [
      "\r",
      " 33%|███▎      | 1/3 [03:30<07:01, 210.99s/it]"
     ]
    },
    {
     "name": "stdout",
     "output_type": "stream",
     "text": [
      "For learning_rate: 0.001, train auc: 0.999196386497395 and test auc 0.9991733900857613\n",
      "[09:46:06] WARNING: D:\\bld\\xgboost-split_1643227225381\\work\\src\\learner.cc:1115: Starting in XGBoost 1.3.0, the default evaluation metric used with the objective 'binary:logistic' was changed from 'error' to 'logloss'. Explicitly set eval_metric if you'd like to restore the old behavior.\n"
     ]
    },
    {
     "name": "stderr",
     "output_type": "stream",
     "text": [
      "\r",
      " 67%|██████▋   | 2/3 [06:58<03:28, 208.71s/it]"
     ]
    },
    {
     "name": "stdout",
     "output_type": "stream",
     "text": [
      "For learning_rate: 0.01, train auc: 0.9995339574367829 and test auc 0.999528613351781\n",
      "[09:49:33] WARNING: D:\\bld\\xgboost-split_1643227225381\\work\\src\\learner.cc:1115: Starting in XGBoost 1.3.0, the default evaluation metric used with the objective 'binary:logistic' was changed from 'error' to 'logloss'. Explicitly set eval_metric if you'd like to restore the old behavior.\n"
     ]
    },
    {
     "name": "stderr",
     "output_type": "stream",
     "text": [
      "100%|██████████| 3/3 [10:12<00:00, 204.06s/it]"
     ]
    },
    {
     "name": "stdout",
     "output_type": "stream",
     "text": [
      "For learning_rate: 0.1, train auc: 0.9997381623647525 and test auc 0.9997165027865066\n"
     ]
    },
    {
     "name": "stderr",
     "output_type": "stream",
     "text": [
      "\n"
     ]
    },
    {
     "data": {
      "image/png": "[encoded data removed]",
      "text/plain": [
       "<Figure size 720x360 with 1 Axes>"
      ]
     },
     "metadata": {
      "needs_background": "light"
     },
     "output_type": "display_data"
    }
   ],
   "source": [
    "param = {'learning_rate':[0.001, 0.01, 0.1]}\n",
    "xgb_clf = cross_validation(CLF_NAME, param, 'learning_rate')"
   ]
  },
  {
   "cell_type": "code",
   "execution_count": 69,
   "id": "01af5f09",
   "metadata": {},
   "outputs": [
    {
     "name": "stderr",
     "output_type": "stream",
     "text": [
      "\r",
      "  0%|          | 0/3 [00:00<?, ?it/s]"
     ]
    },
    {
     "name": "stdout",
     "output_type": "stream",
     "text": [
      "[09:54:46] WARNING: D:\\bld\\xgboost-split_1643227225381\\work\\src\\learner.cc:1115: Starting in XGBoost 1.3.0, the default evaluation metric used with the objective 'binary:logistic' was changed from 'error' to 'logloss'. Explicitly set eval_metric if you'd like to restore the old behavior.\n"
     ]
    },
    {
     "name": "stderr",
     "output_type": "stream",
     "text": [
      "\r",
      " 33%|███▎      | 1/3 [02:33<05:07, 153.72s/it]"
     ]
    },
    {
     "name": "stdout",
     "output_type": "stream",
     "text": [
      "For max_depth: 4, train auc: 0.9997990742252939 and test auc 0.9997674790955731\n",
      "[09:57:20] WARNING: D:\\bld\\xgboost-split_1643227225381\\work\\src\\learner.cc:1115: Starting in XGBoost 1.3.0, the default evaluation metric used with the objective 'binary:logistic' was changed from 'error' to 'logloss'. Explicitly set eval_metric if you'd like to restore the old behavior.\n"
     ]
    },
    {
     "name": "stderr",
     "output_type": "stream",
     "text": [
      "\r",
      " 67%|██████▋   | 2/3 [07:18<03:50, 230.88s/it]"
     ]
    },
    {
     "name": "stdout",
     "output_type": "stream",
     "text": [
      "For max_depth: 8, train auc: 0.9999572278493459 and test auc 0.9998679420554571\n",
      "[10:02:07] WARNING: D:\\bld\\xgboost-split_1643227225381\\work\\src\\learner.cc:1115: Starting in XGBoost 1.3.0, the default evaluation metric used with the objective 'binary:logistic' was changed from 'error' to 'logloss'. Explicitly set eval_metric if you'd like to restore the old behavior.\n"
     ]
    },
    {
     "name": "stderr",
     "output_type": "stream",
     "text": [
      "100%|██████████| 3/3 [23:16<00:00, 465.49s/it]"
     ]
    },
    {
     "name": "stdout",
     "output_type": "stream",
     "text": [
      "For max_depth: 12, train auc: 0.9999965891502811 and test auc 0.9998948996676652\n"
     ]
    },
    {
     "name": "stderr",
     "output_type": "stream",
     "text": [
      "\n"
     ]
    },
    {
     "data": {
      "image/png": "[encoded data removed]",
      "text/plain": [
       "<Figure size 720x360 with 1 Axes>"
      ]
     },
     "metadata": {
      "needs_background": "light"
     },
     "output_type": "display_data"
    }
   ],
   "source": [
    "param = {'max_depth':[4, 8, 12]}\n",
    "\n",
    "xgb_clf, _, _ = cross_validation(CLF_NAME, param, 'max_depth')"
   ]
  },
  {
   "cell_type": "code",
   "execution_count": 70,
   "id": "31c31967",
   "metadata": {},
   "outputs": [],
   "source": [
    "train_sample = np.random.randint(0, x_train.shape[0], size=700000)"
   ]
  },
  {
   "cell_type": "code",
   "execution_count": 105,
   "id": "264e4f5f",
   "metadata": {},
   "outputs": [
    {
     "ename": "IndexError",
     "evalue": "positional indexers are out-of-bounds",
     "output_type": "error",
     "traceback": [
      "\u001b[1;31m---------------------------------------------------------------------------\u001b[0m",
      "\u001b[1;31mIndexError\u001b[0m                                Traceback (most recent call last)",
      "\u001b[1;32m~\\anaconda3\\lib\\site-packages\\pandas\\core\\indexing.py\u001b[0m in \u001b[0;36m_get_list_axis\u001b[1;34m(self, key, axis)\u001b[0m\n\u001b[0;32m   1529\u001b[0m         \u001b[1;32mtry\u001b[0m\u001b[1;33m:\u001b[0m\u001b[1;33m\u001b[0m\u001b[1;33m\u001b[0m\u001b[0m\n\u001b[1;32m-> 1530\u001b[1;33m             \u001b[1;32mreturn\u001b[0m \u001b[0mself\u001b[0m\u001b[1;33m.\u001b[0m\u001b[0mobj\u001b[0m\u001b[1;33m.\u001b[0m\u001b[0m_take_with_is_copy\u001b[0m\u001b[1;33m(\u001b[0m\u001b[0mkey\u001b[0m\u001b[1;33m,\u001b[0m \u001b[0maxis\u001b[0m\u001b[1;33m=\u001b[0m\u001b[0maxis\u001b[0m\u001b[1;33m)\u001b[0m\u001b[1;33m\u001b[0m\u001b[1;33m\u001b[0m\u001b[0m\n\u001b[0m\u001b[0;32m   1531\u001b[0m         \u001b[1;32mexcept\u001b[0m \u001b[0mIndexError\u001b[0m \u001b[1;32mas\u001b[0m \u001b[0merr\u001b[0m\u001b[1;33m:\u001b[0m\u001b[1;33m\u001b[0m\u001b[1;33m\u001b[0m\u001b[0m\n",
      "\u001b[1;32m~\\anaconda3\\lib\\site-packages\\pandas\\core\\series.py\u001b[0m in \u001b[0;36m_take_with_is_copy\u001b[1;34m(self, indices, axis)\u001b[0m\n\u001b[0;32m    906\u001b[0m         \"\"\"\n\u001b[1;32m--> 907\u001b[1;33m         \u001b[1;32mreturn\u001b[0m \u001b[0mself\u001b[0m\u001b[1;33m.\u001b[0m\u001b[0mtake\u001b[0m\u001b[1;33m(\u001b[0m\u001b[0mindices\u001b[0m\u001b[1;33m=\u001b[0m\u001b[0mindices\u001b[0m\u001b[1;33m,\u001b[0m \u001b[0maxis\u001b[0m\u001b[1;33m=\u001b[0m\u001b[0maxis\u001b[0m\u001b[1;33m)\u001b[0m\u001b[1;33m\u001b[0m\u001b[1;33m\u001b[0m\u001b[0m\n\u001b[0m\u001b[0;32m    908\u001b[0m \u001b[1;33m\u001b[0m\u001b[0m\n",
      "\u001b[1;32m~\\anaconda3\\lib\\site-packages\\pandas\\core\\series.py\u001b[0m in \u001b[0;36mtake\u001b[1;34m(self, indices, axis, is_copy, **kwargs)\u001b[0m\n\u001b[0;32m    891\u001b[0m         \u001b[0mindices\u001b[0m \u001b[1;33m=\u001b[0m \u001b[0mensure_platform_int\u001b[0m\u001b[1;33m(\u001b[0m\u001b[0mindices\u001b[0m\u001b[1;33m)\u001b[0m\u001b[1;33m\u001b[0m\u001b[1;33m\u001b[0m\u001b[0m\n\u001b[1;32m--> 892\u001b[1;33m         \u001b[0mnew_index\u001b[0m \u001b[1;33m=\u001b[0m \u001b[0mself\u001b[0m\u001b[1;33m.\u001b[0m\u001b[0mindex\u001b[0m\u001b[1;33m.\u001b[0m\u001b[0mtake\u001b[0m\u001b[1;33m(\u001b[0m\u001b[0mindices\u001b[0m\u001b[1;33m)\u001b[0m\u001b[1;33m\u001b[0m\u001b[1;33m\u001b[0m\u001b[0m\n\u001b[0m\u001b[0;32m    893\u001b[0m         \u001b[0mnew_values\u001b[0m \u001b[1;33m=\u001b[0m \u001b[0mself\u001b[0m\u001b[1;33m.\u001b[0m\u001b[0m_values\u001b[0m\u001b[1;33m.\u001b[0m\u001b[0mtake\u001b[0m\u001b[1;33m(\u001b[0m\u001b[0mindices\u001b[0m\u001b[1;33m)\u001b[0m\u001b[1;33m\u001b[0m\u001b[1;33m\u001b[0m\u001b[0m\n",
      "\u001b[1;32m~\\anaconda3\\lib\\site-packages\\pandas\\core\\indexes\\base.py\u001b[0m in \u001b[0;36mtake\u001b[1;34m(self, indices, axis, allow_fill, fill_value, **kwargs)\u001b[0m\n\u001b[0;32m    960\u001b[0m         \u001b[1;31m#  in the case where allow_fill is True and fill_value is not None\u001b[0m\u001b[1;33m\u001b[0m\u001b[1;33m\u001b[0m\u001b[1;33m\u001b[0m\u001b[0m\n\u001b[1;32m--> 961\u001b[1;33m         taken = algos.take(\n\u001b[0m\u001b[0;32m    962\u001b[0m             \u001b[0mself\u001b[0m\u001b[1;33m.\u001b[0m\u001b[0m_values\u001b[0m\u001b[1;33m,\u001b[0m \u001b[0mindices\u001b[0m\u001b[1;33m,\u001b[0m \u001b[0mallow_fill\u001b[0m\u001b[1;33m=\u001b[0m\u001b[0mallow_fill\u001b[0m\u001b[1;33m,\u001b[0m \u001b[0mfill_value\u001b[0m\u001b[1;33m=\u001b[0m\u001b[0mself\u001b[0m\u001b[1;33m.\u001b[0m\u001b[0m_na_value\u001b[0m\u001b[1;33m\u001b[0m\u001b[1;33m\u001b[0m\u001b[0m\n",
      "\u001b[1;32m~\\anaconda3\\lib\\site-packages\\pandas\\core\\algorithms.py\u001b[0m in \u001b[0;36mtake\u001b[1;34m(arr, indices, axis, allow_fill, fill_value)\u001b[0m\n\u001b[0;32m   1515\u001b[0m         \u001b[1;31m# NumPy style\u001b[0m\u001b[1;33m\u001b[0m\u001b[1;33m\u001b[0m\u001b[1;33m\u001b[0m\u001b[0m\n\u001b[1;32m-> 1516\u001b[1;33m         \u001b[0mresult\u001b[0m \u001b[1;33m=\u001b[0m \u001b[0marr\u001b[0m\u001b[1;33m.\u001b[0m\u001b[0mtake\u001b[0m\u001b[1;33m(\u001b[0m\u001b[0mindices\u001b[0m\u001b[1;33m,\u001b[0m \u001b[0maxis\u001b[0m\u001b[1;33m=\u001b[0m\u001b[0maxis\u001b[0m\u001b[1;33m)\u001b[0m\u001b[1;33m\u001b[0m\u001b[1;33m\u001b[0m\u001b[0m\n\u001b[0m\u001b[0;32m   1517\u001b[0m     \u001b[1;32mreturn\u001b[0m \u001b[0mresult\u001b[0m\u001b[1;33m\u001b[0m\u001b[1;33m\u001b[0m\u001b[0m\n",
      "\u001b[1;31mIndexError\u001b[0m: index 1600458 is out of bounds for axis 0 with size 1422425",
      "\nThe above exception was the direct cause of the following exception:\n",
      "\u001b[1;31mIndexError\u001b[0m                                Traceback (most recent call last)",
      "\u001b[1;32m~\\AppData\\Local\\Temp/ipykernel_96972/2960527639.py\u001b[0m in \u001b[0;36m<module>\u001b[1;34m\u001b[0m\n\u001b[0;32m      1\u001b[0m \u001b[0mparam\u001b[0m \u001b[1;33m=\u001b[0m \u001b[1;33m{\u001b[0m\u001b[1;34m'colsample_bylevel'\u001b[0m\u001b[1;33m:\u001b[0m\u001b[1;33m[\u001b[0m\u001b[1;36m0.1\u001b[0m\u001b[1;33m,\u001b[0m \u001b[1;36m0.5\u001b[0m\u001b[1;33m,\u001b[0m \u001b[1;36m1\u001b[0m\u001b[1;33m]\u001b[0m\u001b[1;33m}\u001b[0m\u001b[1;33m\u001b[0m\u001b[1;33m\u001b[0m\u001b[0m\n\u001b[1;32m----> 2\u001b[1;33m \u001b[0mxgb_clf\u001b[0m\u001b[1;33m,\u001b[0m\u001b[0m_\u001b[0m\u001b[1;33m,\u001b[0m\u001b[0m_\u001b[0m \u001b[1;33m=\u001b[0m \u001b[0mcross_validation\u001b[0m\u001b[1;33m(\u001b[0m\u001b[0mCLF_NAME\u001b[0m\u001b[1;33m,\u001b[0m \u001b[0mparam\u001b[0m\u001b[1;33m,\u001b[0m \u001b[1;34m'colsample_bylevel'\u001b[0m\u001b[1;33m,\u001b[0m \u001b[0mx_train\u001b[0m\u001b[1;33m=\u001b[0m\u001b[0mx_train\u001b[0m\u001b[1;33m.\u001b[0m\u001b[0miloc\u001b[0m\u001b[1;33m[\u001b[0m\u001b[0mtrain_sample\u001b[0m\u001b[1;33m]\u001b[0m\u001b[1;33m,\u001b[0m \u001b[0my_train\u001b[0m\u001b[1;33m=\u001b[0m\u001b[0my_train\u001b[0m\u001b[1;33m.\u001b[0m\u001b[0miloc\u001b[0m\u001b[1;33m[\u001b[0m\u001b[0mtrain_sample\u001b[0m\u001b[1;33m]\u001b[0m\u001b[1;33m)\u001b[0m\u001b[1;33m\u001b[0m\u001b[1;33m\u001b[0m\u001b[0m\n\u001b[0m",
      "\u001b[1;32m~\\anaconda3\\lib\\site-packages\\pandas\\core\\indexing.py\u001b[0m in \u001b[0;36m__getitem__\u001b[1;34m(self, key)\u001b[0m\n\u001b[0;32m    929\u001b[0m \u001b[1;33m\u001b[0m\u001b[0m\n\u001b[0;32m    930\u001b[0m             \u001b[0mmaybe_callable\u001b[0m \u001b[1;33m=\u001b[0m \u001b[0mcom\u001b[0m\u001b[1;33m.\u001b[0m\u001b[0mapply_if_callable\u001b[0m\u001b[1;33m(\u001b[0m\u001b[0mkey\u001b[0m\u001b[1;33m,\u001b[0m \u001b[0mself\u001b[0m\u001b[1;33m.\u001b[0m\u001b[0mobj\u001b[0m\u001b[1;33m)\u001b[0m\u001b[1;33m\u001b[0m\u001b[1;33m\u001b[0m\u001b[0m\n\u001b[1;32m--> 931\u001b[1;33m             \u001b[1;32mreturn\u001b[0m \u001b[0mself\u001b[0m\u001b[1;33m.\u001b[0m\u001b[0m_getitem_axis\u001b[0m\u001b[1;33m(\u001b[0m\u001b[0mmaybe_callable\u001b[0m\u001b[1;33m,\u001b[0m \u001b[0maxis\u001b[0m\u001b[1;33m=\u001b[0m\u001b[0maxis\u001b[0m\u001b[1;33m)\u001b[0m\u001b[1;33m\u001b[0m\u001b[1;33m\u001b[0m\u001b[0m\n\u001b[0m\u001b[0;32m    932\u001b[0m \u001b[1;33m\u001b[0m\u001b[0m\n\u001b[0;32m    933\u001b[0m     \u001b[1;32mdef\u001b[0m \u001b[0m_is_scalar_access\u001b[0m\u001b[1;33m(\u001b[0m\u001b[0mself\u001b[0m\u001b[1;33m,\u001b[0m \u001b[0mkey\u001b[0m\u001b[1;33m:\u001b[0m \u001b[0mtuple\u001b[0m\u001b[1;33m)\u001b[0m\u001b[1;33m:\u001b[0m\u001b[1;33m\u001b[0m\u001b[1;33m\u001b[0m\u001b[0m\n",
      "\u001b[1;32m~\\anaconda3\\lib\\site-packages\\pandas\\core\\indexing.py\u001b[0m in \u001b[0;36m_getitem_axis\u001b[1;34m(self, key, axis)\u001b[0m\n\u001b[0;32m   1555\u001b[0m         \u001b[1;31m# a list of integers\u001b[0m\u001b[1;33m\u001b[0m\u001b[1;33m\u001b[0m\u001b[1;33m\u001b[0m\u001b[0m\n\u001b[0;32m   1556\u001b[0m         \u001b[1;32melif\u001b[0m \u001b[0mis_list_like_indexer\u001b[0m\u001b[1;33m(\u001b[0m\u001b[0mkey\u001b[0m\u001b[1;33m)\u001b[0m\u001b[1;33m:\u001b[0m\u001b[1;33m\u001b[0m\u001b[1;33m\u001b[0m\u001b[0m\n\u001b[1;32m-> 1557\u001b[1;33m             \u001b[1;32mreturn\u001b[0m \u001b[0mself\u001b[0m\u001b[1;33m.\u001b[0m\u001b[0m_get_list_axis\u001b[0m\u001b[1;33m(\u001b[0m\u001b[0mkey\u001b[0m\u001b[1;33m,\u001b[0m \u001b[0maxis\u001b[0m\u001b[1;33m=\u001b[0m\u001b[0maxis\u001b[0m\u001b[1;33m)\u001b[0m\u001b[1;33m\u001b[0m\u001b[1;33m\u001b[0m\u001b[0m\n\u001b[0m\u001b[0;32m   1558\u001b[0m \u001b[1;33m\u001b[0m\u001b[0m\n\u001b[0;32m   1559\u001b[0m         \u001b[1;31m# a single integer\u001b[0m\u001b[1;33m\u001b[0m\u001b[1;33m\u001b[0m\u001b[1;33m\u001b[0m\u001b[0m\n",
      "\u001b[1;32m~\\anaconda3\\lib\\site-packages\\pandas\\core\\indexing.py\u001b[0m in \u001b[0;36m_get_list_axis\u001b[1;34m(self, key, axis)\u001b[0m\n\u001b[0;32m   1531\u001b[0m         \u001b[1;32mexcept\u001b[0m \u001b[0mIndexError\u001b[0m \u001b[1;32mas\u001b[0m \u001b[0merr\u001b[0m\u001b[1;33m:\u001b[0m\u001b[1;33m\u001b[0m\u001b[1;33m\u001b[0m\u001b[0m\n\u001b[0;32m   1532\u001b[0m             \u001b[1;31m# re-raise with different error message\u001b[0m\u001b[1;33m\u001b[0m\u001b[1;33m\u001b[0m\u001b[1;33m\u001b[0m\u001b[0m\n\u001b[1;32m-> 1533\u001b[1;33m             \u001b[1;32mraise\u001b[0m \u001b[0mIndexError\u001b[0m\u001b[1;33m(\u001b[0m\u001b[1;34m\"positional indexers are out-of-bounds\"\u001b[0m\u001b[1;33m)\u001b[0m \u001b[1;32mfrom\u001b[0m \u001b[0merr\u001b[0m\u001b[1;33m\u001b[0m\u001b[1;33m\u001b[0m\u001b[0m\n\u001b[0m\u001b[0;32m   1534\u001b[0m \u001b[1;33m\u001b[0m\u001b[0m\n\u001b[0;32m   1535\u001b[0m     \u001b[1;32mdef\u001b[0m \u001b[0m_getitem_axis\u001b[0m\u001b[1;33m(\u001b[0m\u001b[0mself\u001b[0m\u001b[1;33m,\u001b[0m \u001b[0mkey\u001b[0m\u001b[1;33m,\u001b[0m \u001b[0maxis\u001b[0m\u001b[1;33m:\u001b[0m \u001b[0mint\u001b[0m\u001b[1;33m)\u001b[0m\u001b[1;33m:\u001b[0m\u001b[1;33m\u001b[0m\u001b[1;33m\u001b[0m\u001b[0m\n",
      "\u001b[1;31mIndexError\u001b[0m: positional indexers are out-of-bounds"
     ]
    }
   ],
   "source": [
    "param = {'colsample_bylevel':[0.1, 0.5, 1]}\n",
    "xgb_clf,_,_ = cross_validation(CLF_NAME, param, 'colsample_bylevel', x_train=x_train.iloc[train_sample], y_train=y_train.iloc[train_sample])"
   ]
  },
  {
   "cell_type": "code",
   "execution_count": 72,
   "id": "779a6185",
   "metadata": {},
   "outputs": [
    {
     "ename": "IndexError",
     "evalue": "positional indexers are out-of-bounds",
     "output_type": "error",
     "traceback": [
      "\u001b[1;31m---------------------------------------------------------------------------\u001b[0m",
      "\u001b[1;31mIndexError\u001b[0m                                Traceback (most recent call last)",
      "\u001b[1;32m~\\anaconda3\\lib\\site-packages\\pandas\\core\\indexing.py\u001b[0m in \u001b[0;36m_get_list_axis\u001b[1;34m(self, key, axis)\u001b[0m\n\u001b[0;32m   1529\u001b[0m         \u001b[1;32mtry\u001b[0m\u001b[1;33m:\u001b[0m\u001b[1;33m\u001b[0m\u001b[1;33m\u001b[0m\u001b[0m\n\u001b[1;32m-> 1530\u001b[1;33m             \u001b[1;32mreturn\u001b[0m \u001b[0mself\u001b[0m\u001b[1;33m.\u001b[0m\u001b[0mobj\u001b[0m\u001b[1;33m.\u001b[0m\u001b[0m_take_with_is_copy\u001b[0m\u001b[1;33m(\u001b[0m\u001b[0mkey\u001b[0m\u001b[1;33m,\u001b[0m \u001b[0maxis\u001b[0m\u001b[1;33m=\u001b[0m\u001b[0maxis\u001b[0m\u001b[1;33m)\u001b[0m\u001b[1;33m\u001b[0m\u001b[1;33m\u001b[0m\u001b[0m\n\u001b[0m\u001b[0;32m   1531\u001b[0m         \u001b[1;32mexcept\u001b[0m \u001b[0mIndexError\u001b[0m \u001b[1;32mas\u001b[0m \u001b[0merr\u001b[0m\u001b[1;33m:\u001b[0m\u001b[1;33m\u001b[0m\u001b[1;33m\u001b[0m\u001b[0m\n",
      "\u001b[1;32m~\\anaconda3\\lib\\site-packages\\pandas\\core\\series.py\u001b[0m in \u001b[0;36m_take_with_is_copy\u001b[1;34m(self, indices, axis)\u001b[0m\n\u001b[0;32m    906\u001b[0m         \"\"\"\n\u001b[1;32m--> 907\u001b[1;33m         \u001b[1;32mreturn\u001b[0m \u001b[0mself\u001b[0m\u001b[1;33m.\u001b[0m\u001b[0mtake\u001b[0m\u001b[1;33m(\u001b[0m\u001b[0mindices\u001b[0m\u001b[1;33m=\u001b[0m\u001b[0mindices\u001b[0m\u001b[1;33m,\u001b[0m \u001b[0maxis\u001b[0m\u001b[1;33m=\u001b[0m\u001b[0maxis\u001b[0m\u001b[1;33m)\u001b[0m\u001b[1;33m\u001b[0m\u001b[1;33m\u001b[0m\u001b[0m\n\u001b[0m\u001b[0;32m    908\u001b[0m \u001b[1;33m\u001b[0m\u001b[0m\n",
      "\u001b[1;32m~\\anaconda3\\lib\\site-packages\\pandas\\core\\series.py\u001b[0m in \u001b[0;36mtake\u001b[1;34m(self, indices, axis, is_copy, **kwargs)\u001b[0m\n\u001b[0;32m    891\u001b[0m         \u001b[0mindices\u001b[0m \u001b[1;33m=\u001b[0m \u001b[0mensure_platform_int\u001b[0m\u001b[1;33m(\u001b[0m\u001b[0mindices\u001b[0m\u001b[1;33m)\u001b[0m\u001b[1;33m\u001b[0m\u001b[1;33m\u001b[0m\u001b[0m\n\u001b[1;32m--> 892\u001b[1;33m         \u001b[0mnew_index\u001b[0m \u001b[1;33m=\u001b[0m \u001b[0mself\u001b[0m\u001b[1;33m.\u001b[0m\u001b[0mindex\u001b[0m\u001b[1;33m.\u001b[0m\u001b[0mtake\u001b[0m\u001b[1;33m(\u001b[0m\u001b[0mindices\u001b[0m\u001b[1;33m)\u001b[0m\u001b[1;33m\u001b[0m\u001b[1;33m\u001b[0m\u001b[0m\n\u001b[0m\u001b[0;32m    893\u001b[0m         \u001b[0mnew_values\u001b[0m \u001b[1;33m=\u001b[0m \u001b[0mself\u001b[0m\u001b[1;33m.\u001b[0m\u001b[0m_values\u001b[0m\u001b[1;33m.\u001b[0m\u001b[0mtake\u001b[0m\u001b[1;33m(\u001b[0m\u001b[0mindices\u001b[0m\u001b[1;33m)\u001b[0m\u001b[1;33m\u001b[0m\u001b[1;33m\u001b[0m\u001b[0m\n",
      "\u001b[1;32m~\\anaconda3\\lib\\site-packages\\pandas\\core\\indexes\\base.py\u001b[0m in \u001b[0;36mtake\u001b[1;34m(self, indices, axis, allow_fill, fill_value, **kwargs)\u001b[0m\n\u001b[0;32m    960\u001b[0m         \u001b[1;31m#  in the case where allow_fill is True and fill_value is not None\u001b[0m\u001b[1;33m\u001b[0m\u001b[1;33m\u001b[0m\u001b[1;33m\u001b[0m\u001b[0m\n\u001b[1;32m--> 961\u001b[1;33m         taken = algos.take(\n\u001b[0m\u001b[0;32m    962\u001b[0m             \u001b[0mself\u001b[0m\u001b[1;33m.\u001b[0m\u001b[0m_values\u001b[0m\u001b[1;33m,\u001b[0m \u001b[0mindices\u001b[0m\u001b[1;33m,\u001b[0m \u001b[0mallow_fill\u001b[0m\u001b[1;33m=\u001b[0m\u001b[0mallow_fill\u001b[0m\u001b[1;33m,\u001b[0m \u001b[0mfill_value\u001b[0m\u001b[1;33m=\u001b[0m\u001b[0mself\u001b[0m\u001b[1;33m.\u001b[0m\u001b[0m_na_value\u001b[0m\u001b[1;33m\u001b[0m\u001b[1;33m\u001b[0m\u001b[0m\n",
      "\u001b[1;32m~\\anaconda3\\lib\\site-packages\\pandas\\core\\algorithms.py\u001b[0m in \u001b[0;36mtake\u001b[1;34m(arr, indices, axis, allow_fill, fill_value)\u001b[0m\n\u001b[0;32m   1515\u001b[0m         \u001b[1;31m# NumPy style\u001b[0m\u001b[1;33m\u001b[0m\u001b[1;33m\u001b[0m\u001b[1;33m\u001b[0m\u001b[0m\n\u001b[1;32m-> 1516\u001b[1;33m         \u001b[0mresult\u001b[0m \u001b[1;33m=\u001b[0m \u001b[0marr\u001b[0m\u001b[1;33m.\u001b[0m\u001b[0mtake\u001b[0m\u001b[1;33m(\u001b[0m\u001b[0mindices\u001b[0m\u001b[1;33m,\u001b[0m \u001b[0maxis\u001b[0m\u001b[1;33m=\u001b[0m\u001b[0maxis\u001b[0m\u001b[1;33m)\u001b[0m\u001b[1;33m\u001b[0m\u001b[1;33m\u001b[0m\u001b[0m\n\u001b[0m\u001b[0;32m   1517\u001b[0m     \u001b[1;32mreturn\u001b[0m \u001b[0mresult\u001b[0m\u001b[1;33m\u001b[0m\u001b[1;33m\u001b[0m\u001b[0m\n",
      "\u001b[1;31mIndexError\u001b[0m: index 1600458 is out of bounds for axis 0 with size 1422425",
      "\nThe above exception was the direct cause of the following exception:\n",
      "\u001b[1;31mIndexError\u001b[0m                                Traceback (most recent call last)",
      "\u001b[1;32m~\\AppData\\Local\\Temp/ipykernel_96972/1602475762.py\u001b[0m in \u001b[0;36m<module>\u001b[1;34m\u001b[0m\n\u001b[0;32m      1\u001b[0m \u001b[0mparam\u001b[0m \u001b[1;33m=\u001b[0m \u001b[1;33m{\u001b[0m\u001b[1;34m'subsample'\u001b[0m\u001b[1;33m:\u001b[0m\u001b[1;33m[\u001b[0m\u001b[1;36m0.1\u001b[0m\u001b[1;33m,\u001b[0m \u001b[1;36m0.4\u001b[0m\u001b[1;33m,\u001b[0m \u001b[1;36m0.7\u001b[0m\u001b[1;33m,\u001b[0m \u001b[1;36m1\u001b[0m\u001b[1;33m]\u001b[0m\u001b[1;33m}\u001b[0m\u001b[1;33m\u001b[0m\u001b[1;33m\u001b[0m\u001b[0m\n\u001b[1;32m----> 2\u001b[1;33m \u001b[0mxgb_xlf\u001b[0m\u001b[1;33m,\u001b[0m\u001b[0m_\u001b[0m\u001b[1;33m,\u001b[0m\u001b[0m_\u001b[0m \u001b[1;33m=\u001b[0m \u001b[0mcross_validation\u001b[0m\u001b[1;33m(\u001b[0m\u001b[0mCLF_NAME\u001b[0m\u001b[1;33m,\u001b[0m \u001b[0mparam\u001b[0m\u001b[1;33m,\u001b[0m \u001b[1;34m'subsample'\u001b[0m\u001b[1;33m,\u001b[0m \u001b[0mx_train\u001b[0m\u001b[1;33m=\u001b[0m\u001b[0mx_train\u001b[0m\u001b[1;33m.\u001b[0m\u001b[0miloc\u001b[0m\u001b[1;33m[\u001b[0m\u001b[0mtrain_sample\u001b[0m\u001b[1;33m]\u001b[0m\u001b[1;33m,\u001b[0m \u001b[0my_train\u001b[0m\u001b[1;33m=\u001b[0m\u001b[0my_train\u001b[0m\u001b[1;33m.\u001b[0m\u001b[0miloc\u001b[0m\u001b[1;33m[\u001b[0m\u001b[0mtrain_sample\u001b[0m\u001b[1;33m]\u001b[0m\u001b[1;33m)\u001b[0m\u001b[1;33m\u001b[0m\u001b[1;33m\u001b[0m\u001b[0m\n\u001b[0m",
      "\u001b[1;32m~\\anaconda3\\lib\\site-packages\\pandas\\core\\indexing.py\u001b[0m in \u001b[0;36m__getitem__\u001b[1;34m(self, key)\u001b[0m\n\u001b[0;32m    929\u001b[0m \u001b[1;33m\u001b[0m\u001b[0m\n\u001b[0;32m    930\u001b[0m             \u001b[0mmaybe_callable\u001b[0m \u001b[1;33m=\u001b[0m \u001b[0mcom\u001b[0m\u001b[1;33m.\u001b[0m\u001b[0mapply_if_callable\u001b[0m\u001b[1;33m(\u001b[0m\u001b[0mkey\u001b[0m\u001b[1;33m,\u001b[0m \u001b[0mself\u001b[0m\u001b[1;33m.\u001b[0m\u001b[0mobj\u001b[0m\u001b[1;33m)\u001b[0m\u001b[1;33m\u001b[0m\u001b[1;33m\u001b[0m\u001b[0m\n\u001b[1;32m--> 931\u001b[1;33m             \u001b[1;32mreturn\u001b[0m \u001b[0mself\u001b[0m\u001b[1;33m.\u001b[0m\u001b[0m_getitem_axis\u001b[0m\u001b[1;33m(\u001b[0m\u001b[0mmaybe_callable\u001b[0m\u001b[1;33m,\u001b[0m \u001b[0maxis\u001b[0m\u001b[1;33m=\u001b[0m\u001b[0maxis\u001b[0m\u001b[1;33m)\u001b[0m\u001b[1;33m\u001b[0m\u001b[1;33m\u001b[0m\u001b[0m\n\u001b[0m\u001b[0;32m    932\u001b[0m \u001b[1;33m\u001b[0m\u001b[0m\n\u001b[0;32m    933\u001b[0m     \u001b[1;32mdef\u001b[0m \u001b[0m_is_scalar_access\u001b[0m\u001b[1;33m(\u001b[0m\u001b[0mself\u001b[0m\u001b[1;33m,\u001b[0m \u001b[0mkey\u001b[0m\u001b[1;33m:\u001b[0m \u001b[0mtuple\u001b[0m\u001b[1;33m)\u001b[0m\u001b[1;33m:\u001b[0m\u001b[1;33m\u001b[0m\u001b[1;33m\u001b[0m\u001b[0m\n",
      "\u001b[1;32m~\\anaconda3\\lib\\site-packages\\pandas\\core\\indexing.py\u001b[0m in \u001b[0;36m_getitem_axis\u001b[1;34m(self, key, axis)\u001b[0m\n\u001b[0;32m   1555\u001b[0m         \u001b[1;31m# a list of integers\u001b[0m\u001b[1;33m\u001b[0m\u001b[1;33m\u001b[0m\u001b[1;33m\u001b[0m\u001b[0m\n\u001b[0;32m   1556\u001b[0m         \u001b[1;32melif\u001b[0m \u001b[0mis_list_like_indexer\u001b[0m\u001b[1;33m(\u001b[0m\u001b[0mkey\u001b[0m\u001b[1;33m)\u001b[0m\u001b[1;33m:\u001b[0m\u001b[1;33m\u001b[0m\u001b[1;33m\u001b[0m\u001b[0m\n\u001b[1;32m-> 1557\u001b[1;33m             \u001b[1;32mreturn\u001b[0m \u001b[0mself\u001b[0m\u001b[1;33m.\u001b[0m\u001b[0m_get_list_axis\u001b[0m\u001b[1;33m(\u001b[0m\u001b[0mkey\u001b[0m\u001b[1;33m,\u001b[0m \u001b[0maxis\u001b[0m\u001b[1;33m=\u001b[0m\u001b[0maxis\u001b[0m\u001b[1;33m)\u001b[0m\u001b[1;33m\u001b[0m\u001b[1;33m\u001b[0m\u001b[0m\n\u001b[0m\u001b[0;32m   1558\u001b[0m \u001b[1;33m\u001b[0m\u001b[0m\n\u001b[0;32m   1559\u001b[0m         \u001b[1;31m# a single integer\u001b[0m\u001b[1;33m\u001b[0m\u001b[1;33m\u001b[0m\u001b[1;33m\u001b[0m\u001b[0m\n",
      "\u001b[1;32m~\\anaconda3\\lib\\site-packages\\pandas\\core\\indexing.py\u001b[0m in \u001b[0;36m_get_list_axis\u001b[1;34m(self, key, axis)\u001b[0m\n\u001b[0;32m   1531\u001b[0m         \u001b[1;32mexcept\u001b[0m \u001b[0mIndexError\u001b[0m \u001b[1;32mas\u001b[0m \u001b[0merr\u001b[0m\u001b[1;33m:\u001b[0m\u001b[1;33m\u001b[0m\u001b[1;33m\u001b[0m\u001b[0m\n\u001b[0;32m   1532\u001b[0m             \u001b[1;31m# re-raise with different error message\u001b[0m\u001b[1;33m\u001b[0m\u001b[1;33m\u001b[0m\u001b[1;33m\u001b[0m\u001b[0m\n\u001b[1;32m-> 1533\u001b[1;33m             \u001b[1;32mraise\u001b[0m \u001b[0mIndexError\u001b[0m\u001b[1;33m(\u001b[0m\u001b[1;34m\"positional indexers are out-of-bounds\"\u001b[0m\u001b[1;33m)\u001b[0m \u001b[1;32mfrom\u001b[0m \u001b[0merr\u001b[0m\u001b[1;33m\u001b[0m\u001b[1;33m\u001b[0m\u001b[0m\n\u001b[0m\u001b[0;32m   1534\u001b[0m \u001b[1;33m\u001b[0m\u001b[0m\n\u001b[0;32m   1535\u001b[0m     \u001b[1;32mdef\u001b[0m \u001b[0m_getitem_axis\u001b[0m\u001b[1;33m(\u001b[0m\u001b[0mself\u001b[0m\u001b[1;33m,\u001b[0m \u001b[0mkey\u001b[0m\u001b[1;33m,\u001b[0m \u001b[0maxis\u001b[0m\u001b[1;33m:\u001b[0m \u001b[0mint\u001b[0m\u001b[1;33m)\u001b[0m\u001b[1;33m:\u001b[0m\u001b[1;33m\u001b[0m\u001b[1;33m\u001b[0m\u001b[0m\n",
      "\u001b[1;31mIndexError\u001b[0m: positional indexers are out-of-bounds"
     ]
    }
   ],
   "source": [
    "param = {'subsample':[0.1, 0.4, 0.7, 1]}\n",
    "xgb_xlf,_,_ = cross_validation(CLF_NAME, param, 'subsample', x_train=x_train.iloc[train_sample], y_train=y_train.iloc[train_sample])"
   ]
  },
  {
   "cell_type": "code",
   "execution_count": 89,
   "id": "b24c0b31",
   "metadata": {},
   "outputs": [
    {
     "ename": "IndexError",
     "evalue": "positional indexers are out-of-bounds",
     "output_type": "error",
     "traceback": [
      "\u001b[1;31m---------------------------------------------------------------------------\u001b[0m",
      "\u001b[1;31mIndexError\u001b[0m                                Traceback (most recent call last)",
      "\u001b[1;32m~\\anaconda3\\lib\\site-packages\\pandas\\core\\indexing.py\u001b[0m in \u001b[0;36m_get_list_axis\u001b[1;34m(self, key, axis)\u001b[0m\n\u001b[0;32m   1529\u001b[0m         \u001b[1;32mtry\u001b[0m\u001b[1;33m:\u001b[0m\u001b[1;33m\u001b[0m\u001b[1;33m\u001b[0m\u001b[0m\n\u001b[1;32m-> 1530\u001b[1;33m             \u001b[1;32mreturn\u001b[0m \u001b[0mself\u001b[0m\u001b[1;33m.\u001b[0m\u001b[0mobj\u001b[0m\u001b[1;33m.\u001b[0m\u001b[0m_take_with_is_copy\u001b[0m\u001b[1;33m(\u001b[0m\u001b[0mkey\u001b[0m\u001b[1;33m,\u001b[0m \u001b[0maxis\u001b[0m\u001b[1;33m=\u001b[0m\u001b[0maxis\u001b[0m\u001b[1;33m)\u001b[0m\u001b[1;33m\u001b[0m\u001b[1;33m\u001b[0m\u001b[0m\n\u001b[0m\u001b[0;32m   1531\u001b[0m         \u001b[1;32mexcept\u001b[0m \u001b[0mIndexError\u001b[0m \u001b[1;32mas\u001b[0m \u001b[0merr\u001b[0m\u001b[1;33m:\u001b[0m\u001b[1;33m\u001b[0m\u001b[1;33m\u001b[0m\u001b[0m\n",
      "\u001b[1;32m~\\anaconda3\\lib\\site-packages\\pandas\\core\\series.py\u001b[0m in \u001b[0;36m_take_with_is_copy\u001b[1;34m(self, indices, axis)\u001b[0m\n\u001b[0;32m    906\u001b[0m         \"\"\"\n\u001b[1;32m--> 907\u001b[1;33m         \u001b[1;32mreturn\u001b[0m \u001b[0mself\u001b[0m\u001b[1;33m.\u001b[0m\u001b[0mtake\u001b[0m\u001b[1;33m(\u001b[0m\u001b[0mindices\u001b[0m\u001b[1;33m=\u001b[0m\u001b[0mindices\u001b[0m\u001b[1;33m,\u001b[0m \u001b[0maxis\u001b[0m\u001b[1;33m=\u001b[0m\u001b[0maxis\u001b[0m\u001b[1;33m)\u001b[0m\u001b[1;33m\u001b[0m\u001b[1;33m\u001b[0m\u001b[0m\n\u001b[0m\u001b[0;32m    908\u001b[0m \u001b[1;33m\u001b[0m\u001b[0m\n",
      "\u001b[1;32m~\\anaconda3\\lib\\site-packages\\pandas\\core\\series.py\u001b[0m in \u001b[0;36mtake\u001b[1;34m(self, indices, axis, is_copy, **kwargs)\u001b[0m\n\u001b[0;32m    891\u001b[0m         \u001b[0mindices\u001b[0m \u001b[1;33m=\u001b[0m \u001b[0mensure_platform_int\u001b[0m\u001b[1;33m(\u001b[0m\u001b[0mindices\u001b[0m\u001b[1;33m)\u001b[0m\u001b[1;33m\u001b[0m\u001b[1;33m\u001b[0m\u001b[0m\n\u001b[1;32m--> 892\u001b[1;33m         \u001b[0mnew_index\u001b[0m \u001b[1;33m=\u001b[0m \u001b[0mself\u001b[0m\u001b[1;33m.\u001b[0m\u001b[0mindex\u001b[0m\u001b[1;33m.\u001b[0m\u001b[0mtake\u001b[0m\u001b[1;33m(\u001b[0m\u001b[0mindices\u001b[0m\u001b[1;33m)\u001b[0m\u001b[1;33m\u001b[0m\u001b[1;33m\u001b[0m\u001b[0m\n\u001b[0m\u001b[0;32m    893\u001b[0m         \u001b[0mnew_values\u001b[0m \u001b[1;33m=\u001b[0m \u001b[0mself\u001b[0m\u001b[1;33m.\u001b[0m\u001b[0m_values\u001b[0m\u001b[1;33m.\u001b[0m\u001b[0mtake\u001b[0m\u001b[1;33m(\u001b[0m\u001b[0mindices\u001b[0m\u001b[1;33m)\u001b[0m\u001b[1;33m\u001b[0m\u001b[1;33m\u001b[0m\u001b[0m\n",
      "\u001b[1;32m~\\anaconda3\\lib\\site-packages\\pandas\\core\\indexes\\base.py\u001b[0m in \u001b[0;36mtake\u001b[1;34m(self, indices, axis, allow_fill, fill_value, **kwargs)\u001b[0m\n\u001b[0;32m    960\u001b[0m         \u001b[1;31m#  in the case where allow_fill is True and fill_value is not None\u001b[0m\u001b[1;33m\u001b[0m\u001b[1;33m\u001b[0m\u001b[1;33m\u001b[0m\u001b[0m\n\u001b[1;32m--> 961\u001b[1;33m         taken = algos.take(\n\u001b[0m\u001b[0;32m    962\u001b[0m             \u001b[0mself\u001b[0m\u001b[1;33m.\u001b[0m\u001b[0m_values\u001b[0m\u001b[1;33m,\u001b[0m \u001b[0mindices\u001b[0m\u001b[1;33m,\u001b[0m \u001b[0mallow_fill\u001b[0m\u001b[1;33m=\u001b[0m\u001b[0mallow_fill\u001b[0m\u001b[1;33m,\u001b[0m \u001b[0mfill_value\u001b[0m\u001b[1;33m=\u001b[0m\u001b[0mself\u001b[0m\u001b[1;33m.\u001b[0m\u001b[0m_na_value\u001b[0m\u001b[1;33m\u001b[0m\u001b[1;33m\u001b[0m\u001b[0m\n",
      "\u001b[1;32m~\\anaconda3\\lib\\site-packages\\pandas\\core\\algorithms.py\u001b[0m in \u001b[0;36mtake\u001b[1;34m(arr, indices, axis, allow_fill, fill_value)\u001b[0m\n\u001b[0;32m   1515\u001b[0m         \u001b[1;31m# NumPy style\u001b[0m\u001b[1;33m\u001b[0m\u001b[1;33m\u001b[0m\u001b[1;33m\u001b[0m\u001b[0m\n\u001b[1;32m-> 1516\u001b[1;33m         \u001b[0mresult\u001b[0m \u001b[1;33m=\u001b[0m \u001b[0marr\u001b[0m\u001b[1;33m.\u001b[0m\u001b[0mtake\u001b[0m\u001b[1;33m(\u001b[0m\u001b[0mindices\u001b[0m\u001b[1;33m,\u001b[0m \u001b[0maxis\u001b[0m\u001b[1;33m=\u001b[0m\u001b[0maxis\u001b[0m\u001b[1;33m)\u001b[0m\u001b[1;33m\u001b[0m\u001b[1;33m\u001b[0m\u001b[0m\n\u001b[0m\u001b[0;32m   1517\u001b[0m     \u001b[1;32mreturn\u001b[0m \u001b[0mresult\u001b[0m\u001b[1;33m\u001b[0m\u001b[1;33m\u001b[0m\u001b[0m\n",
      "\u001b[1;31mIndexError\u001b[0m: index 1600458 is out of bounds for axis 0 with size 1422425",
      "\nThe above exception was the direct cause of the following exception:\n",
      "\u001b[1;31mIndexError\u001b[0m                                Traceback (most recent call last)",
      "\u001b[1;32m~\\AppData\\Local\\Temp/ipykernel_96972/4218697911.py\u001b[0m in \u001b[0;36m<module>\u001b[1;34m\u001b[0m\n\u001b[0;32m      1\u001b[0m \u001b[0mparam\u001b[0m \u001b[1;33m=\u001b[0m \u001b[1;33m{\u001b[0m\u001b[1;34m'n_estimators'\u001b[0m\u001b[1;33m:\u001b[0m\u001b[1;33m[\u001b[0m\u001b[1;36m400\u001b[0m\u001b[1;33m]\u001b[0m\u001b[1;33m}\u001b[0m\u001b[1;33m\u001b[0m\u001b[1;33m\u001b[0m\u001b[0m\n\u001b[1;32m----> 2\u001b[1;33m \u001b[0mxgb_clf\u001b[0m\u001b[1;33m,\u001b[0m\u001b[0m_\u001b[0m\u001b[1;33m,\u001b[0m\u001b[0m_\u001b[0m \u001b[1;33m=\u001b[0m \u001b[0mcross_validation\u001b[0m\u001b[1;33m(\u001b[0m\u001b[0mCLF_NAME\u001b[0m\u001b[1;33m,\u001b[0m \u001b[0mparam\u001b[0m\u001b[1;33m,\u001b[0m \u001b[1;34m'n_estimators'\u001b[0m\u001b[1;33m,\u001b[0m \u001b[0mx_train\u001b[0m\u001b[1;33m=\u001b[0m\u001b[0mx_train\u001b[0m\u001b[1;33m.\u001b[0m\u001b[0miloc\u001b[0m\u001b[1;33m[\u001b[0m\u001b[0mtrain_sample\u001b[0m\u001b[1;33m]\u001b[0m\u001b[1;33m,\u001b[0m \u001b[0my_train\u001b[0m\u001b[1;33m=\u001b[0m\u001b[0my_train\u001b[0m\u001b[1;33m.\u001b[0m\u001b[0miloc\u001b[0m\u001b[1;33m[\u001b[0m\u001b[0mtrain_sample\u001b[0m\u001b[1;33m]\u001b[0m\u001b[1;33m)\u001b[0m\u001b[1;33m\u001b[0m\u001b[1;33m\u001b[0m\u001b[0m\n\u001b[0m",
      "\u001b[1;32m~\\anaconda3\\lib\\site-packages\\pandas\\core\\indexing.py\u001b[0m in \u001b[0;36m__getitem__\u001b[1;34m(self, key)\u001b[0m\n\u001b[0;32m    929\u001b[0m \u001b[1;33m\u001b[0m\u001b[0m\n\u001b[0;32m    930\u001b[0m             \u001b[0mmaybe_callable\u001b[0m \u001b[1;33m=\u001b[0m \u001b[0mcom\u001b[0m\u001b[1;33m.\u001b[0m\u001b[0mapply_if_callable\u001b[0m\u001b[1;33m(\u001b[0m\u001b[0mkey\u001b[0m\u001b[1;33m,\u001b[0m \u001b[0mself\u001b[0m\u001b[1;33m.\u001b[0m\u001b[0mobj\u001b[0m\u001b[1;33m)\u001b[0m\u001b[1;33m\u001b[0m\u001b[1;33m\u001b[0m\u001b[0m\n\u001b[1;32m--> 931\u001b[1;33m             \u001b[1;32mreturn\u001b[0m \u001b[0mself\u001b[0m\u001b[1;33m.\u001b[0m\u001b[0m_getitem_axis\u001b[0m\u001b[1;33m(\u001b[0m\u001b[0mmaybe_callable\u001b[0m\u001b[1;33m,\u001b[0m \u001b[0maxis\u001b[0m\u001b[1;33m=\u001b[0m\u001b[0maxis\u001b[0m\u001b[1;33m)\u001b[0m\u001b[1;33m\u001b[0m\u001b[1;33m\u001b[0m\u001b[0m\n\u001b[0m\u001b[0;32m    932\u001b[0m \u001b[1;33m\u001b[0m\u001b[0m\n\u001b[0;32m    933\u001b[0m     \u001b[1;32mdef\u001b[0m \u001b[0m_is_scalar_access\u001b[0m\u001b[1;33m(\u001b[0m\u001b[0mself\u001b[0m\u001b[1;33m,\u001b[0m \u001b[0mkey\u001b[0m\u001b[1;33m:\u001b[0m \u001b[0mtuple\u001b[0m\u001b[1;33m)\u001b[0m\u001b[1;33m:\u001b[0m\u001b[1;33m\u001b[0m\u001b[1;33m\u001b[0m\u001b[0m\n",
      "\u001b[1;32m~\\anaconda3\\lib\\site-packages\\pandas\\core\\indexing.py\u001b[0m in \u001b[0;36m_getitem_axis\u001b[1;34m(self, key, axis)\u001b[0m\n\u001b[0;32m   1555\u001b[0m         \u001b[1;31m# a list of integers\u001b[0m\u001b[1;33m\u001b[0m\u001b[1;33m\u001b[0m\u001b[1;33m\u001b[0m\u001b[0m\n\u001b[0;32m   1556\u001b[0m         \u001b[1;32melif\u001b[0m \u001b[0mis_list_like_indexer\u001b[0m\u001b[1;33m(\u001b[0m\u001b[0mkey\u001b[0m\u001b[1;33m)\u001b[0m\u001b[1;33m:\u001b[0m\u001b[1;33m\u001b[0m\u001b[1;33m\u001b[0m\u001b[0m\n\u001b[1;32m-> 1557\u001b[1;33m             \u001b[1;32mreturn\u001b[0m \u001b[0mself\u001b[0m\u001b[1;33m.\u001b[0m\u001b[0m_get_list_axis\u001b[0m\u001b[1;33m(\u001b[0m\u001b[0mkey\u001b[0m\u001b[1;33m,\u001b[0m \u001b[0maxis\u001b[0m\u001b[1;33m=\u001b[0m\u001b[0maxis\u001b[0m\u001b[1;33m)\u001b[0m\u001b[1;33m\u001b[0m\u001b[1;33m\u001b[0m\u001b[0m\n\u001b[0m\u001b[0;32m   1558\u001b[0m \u001b[1;33m\u001b[0m\u001b[0m\n\u001b[0;32m   1559\u001b[0m         \u001b[1;31m# a single integer\u001b[0m\u001b[1;33m\u001b[0m\u001b[1;33m\u001b[0m\u001b[1;33m\u001b[0m\u001b[0m\n",
      "\u001b[1;32m~\\anaconda3\\lib\\site-packages\\pandas\\core\\indexing.py\u001b[0m in \u001b[0;36m_get_list_axis\u001b[1;34m(self, key, axis)\u001b[0m\n\u001b[0;32m   1531\u001b[0m         \u001b[1;32mexcept\u001b[0m \u001b[0mIndexError\u001b[0m \u001b[1;32mas\u001b[0m \u001b[0merr\u001b[0m\u001b[1;33m:\u001b[0m\u001b[1;33m\u001b[0m\u001b[1;33m\u001b[0m\u001b[0m\n\u001b[0;32m   1532\u001b[0m             \u001b[1;31m# re-raise with different error message\u001b[0m\u001b[1;33m\u001b[0m\u001b[1;33m\u001b[0m\u001b[1;33m\u001b[0m\u001b[0m\n\u001b[1;32m-> 1533\u001b[1;33m             \u001b[1;32mraise\u001b[0m \u001b[0mIndexError\u001b[0m\u001b[1;33m(\u001b[0m\u001b[1;34m\"positional indexers are out-of-bounds\"\u001b[0m\u001b[1;33m)\u001b[0m \u001b[1;32mfrom\u001b[0m \u001b[0merr\u001b[0m\u001b[1;33m\u001b[0m\u001b[1;33m\u001b[0m\u001b[0m\n\u001b[0m\u001b[0;32m   1534\u001b[0m \u001b[1;33m\u001b[0m\u001b[0m\n\u001b[0;32m   1535\u001b[0m     \u001b[1;32mdef\u001b[0m \u001b[0m_getitem_axis\u001b[0m\u001b[1;33m(\u001b[0m\u001b[0mself\u001b[0m\u001b[1;33m,\u001b[0m \u001b[0mkey\u001b[0m\u001b[1;33m,\u001b[0m \u001b[0maxis\u001b[0m\u001b[1;33m:\u001b[0m \u001b[0mint\u001b[0m\u001b[1;33m)\u001b[0m\u001b[1;33m:\u001b[0m\u001b[1;33m\u001b[0m\u001b[1;33m\u001b[0m\u001b[0m\n",
      "\u001b[1;31mIndexError\u001b[0m: positional indexers are out-of-bounds"
     ]
    }
   ],
   "source": [
    "param = {'n_estimators':[400]}\n",
    "xgb_clf,_,_ = cross_validation(CLF_NAME, param, 'n_estimators', x_train=x_train.iloc[train_sample], y_train=y_train.iloc[train_sample])"
   ]
  },
  {
   "cell_type": "code",
   "execution_count": 74,
   "id": "fdaefc5c",
   "metadata": {},
   "outputs": [
    {
     "name": "stdout",
     "output_type": "stream",
     "text": [
      "[10:20:19] WARNING: D:\\bld\\xgboost-split_1643227225381\\work\\src\\learner.cc:1115: Starting in XGBoost 1.3.0, the default evaluation metric used with the objective 'binary:logistic' was changed from 'error' to 'logloss'. Explicitly set eval_metric if you'd like to restore the old behavior.\n"
     ]
    },
    {
     "ename": "KeyboardInterrupt",
     "evalue": "",
     "output_type": "error",
     "traceback": [
      "\u001b[1;31m---------------------------------------------------------------------------\u001b[0m",
      "\u001b[1;31mKeyboardInterrupt\u001b[0m                         Traceback (most recent call last)",
      "\u001b[1;32m~\\AppData\\Local\\Temp/ipykernel_96972/761285985.py\u001b[0m in \u001b[0;36m<module>\u001b[1;34m\u001b[0m\n\u001b[0;32m      7\u001b[0m \u001b[1;33m\u001b[0m\u001b[0m\n\u001b[0;32m      8\u001b[0m \u001b[0mxgb_bst_clf\u001b[0m \u001b[1;33m=\u001b[0m \u001b[0mxgb\u001b[0m\u001b[1;33m.\u001b[0m\u001b[0mXGBClassifier\u001b[0m\u001b[1;33m(\u001b[0m\u001b[1;33m**\u001b[0m\u001b[0mbest_params\u001b[0m\u001b[1;33m)\u001b[0m\u001b[1;33m\u001b[0m\u001b[1;33m\u001b[0m\u001b[0m\n\u001b[1;32m----> 9\u001b[1;33m \u001b[0mxgb_clf\u001b[0m\u001b[1;33m,\u001b[0m \u001b[0mxgb_auc\u001b[0m\u001b[1;33m,\u001b[0m \u001b[0mxgb_f1\u001b[0m\u001b[1;33m,\u001b[0m \u001b[0mxgb_far\u001b[0m \u001b[1;33m=\u001b[0m \u001b[0mevaluate_result\u001b[0m\u001b[1;33m(\u001b[0m\u001b[0mxgb_bst_clf\u001b[0m\u001b[1;33m,\u001b[0m \u001b[0mx_train_new_csr\u001b[0m\u001b[1;33m,\u001b[0m \u001b[0my_train\u001b[0m\u001b[1;33m,\u001b[0m \u001b[0mx_test_csr\u001b[0m\u001b[1;33m,\u001b[0m \u001b[0my_test\u001b[0m\u001b[1;33m,\u001b[0m \u001b[1;34m'XGB'\u001b[0m\u001b[1;33m)\u001b[0m\u001b[1;33m\u001b[0m\u001b[1;33m\u001b[0m\u001b[0m\n\u001b[0m",
      "\u001b[1;32m~\\AppData\\Local\\Temp/ipykernel_96972/3398294418.py\u001b[0m in \u001b[0;36mevaluate_result\u001b[1;34m(clf, x_train, y_train, x_test, y_test, model_name)\u001b[0m\n\u001b[0;32m      9\u001b[0m \u001b[1;33m\u001b[0m\u001b[0m\n\u001b[0;32m     10\u001b[0m     \u001b[1;31m# Training te best model\u001b[0m\u001b[1;33m\u001b[0m\u001b[1;33m\u001b[0m\u001b[1;33m\u001b[0m\u001b[0m\n\u001b[1;32m---> 11\u001b[1;33m     \u001b[0mclf\u001b[0m\u001b[1;33m.\u001b[0m\u001b[0mfit\u001b[0m\u001b[1;33m(\u001b[0m\u001b[0mx_train\u001b[0m\u001b[1;33m,\u001b[0m \u001b[0my_train\u001b[0m\u001b[1;33m)\u001b[0m\u001b[1;33m\u001b[0m\u001b[1;33m\u001b[0m\u001b[0m\n\u001b[0m\u001b[0;32m     12\u001b[0m     \u001b[0my_train_pred\u001b[0m \u001b[1;33m=\u001b[0m \u001b[0mclf\u001b[0m\u001b[1;33m.\u001b[0m\u001b[0mpredict\u001b[0m\u001b[1;33m(\u001b[0m\u001b[0mx_train\u001b[0m\u001b[1;33m)\u001b[0m  \u001b[1;31m# prediction on train data\u001b[0m\u001b[1;33m\u001b[0m\u001b[1;33m\u001b[0m\u001b[0m\n\u001b[0;32m     13\u001b[0m     \u001b[0my_test_pred\u001b[0m \u001b[1;33m=\u001b[0m \u001b[0mclf\u001b[0m\u001b[1;33m.\u001b[0m\u001b[0mpredict\u001b[0m\u001b[1;33m(\u001b[0m\u001b[0mx_test\u001b[0m\u001b[1;33m)\u001b[0m  \u001b[1;31m# prediction on test data\u001b[0m\u001b[1;33m\u001b[0m\u001b[1;33m\u001b[0m\u001b[0m\n",
      "\u001b[1;32m~\\anaconda3\\lib\\site-packages\\xgboost\\core.py\u001b[0m in \u001b[0;36minner_f\u001b[1;34m(*args, **kwargs)\u001b[0m\n\u001b[0;32m    504\u001b[0m         \u001b[1;32mfor\u001b[0m \u001b[0mk\u001b[0m\u001b[1;33m,\u001b[0m \u001b[0marg\u001b[0m \u001b[1;32min\u001b[0m \u001b[0mzip\u001b[0m\u001b[1;33m(\u001b[0m\u001b[0msig\u001b[0m\u001b[1;33m.\u001b[0m\u001b[0mparameters\u001b[0m\u001b[1;33m,\u001b[0m \u001b[0margs\u001b[0m\u001b[1;33m)\u001b[0m\u001b[1;33m:\u001b[0m\u001b[1;33m\u001b[0m\u001b[1;33m\u001b[0m\u001b[0m\n\u001b[0;32m    505\u001b[0m             \u001b[0mkwargs\u001b[0m\u001b[1;33m[\u001b[0m\u001b[0mk\u001b[0m\u001b[1;33m]\u001b[0m \u001b[1;33m=\u001b[0m \u001b[0marg\u001b[0m\u001b[1;33m\u001b[0m\u001b[1;33m\u001b[0m\u001b[0m\n\u001b[1;32m--> 506\u001b[1;33m         \u001b[1;32mreturn\u001b[0m \u001b[0mf\u001b[0m\u001b[1;33m(\u001b[0m\u001b[1;33m**\u001b[0m\u001b[0mkwargs\u001b[0m\u001b[1;33m)\u001b[0m\u001b[1;33m\u001b[0m\u001b[1;33m\u001b[0m\u001b[0m\n\u001b[0m\u001b[0;32m    507\u001b[0m \u001b[1;33m\u001b[0m\u001b[0m\n\u001b[0;32m    508\u001b[0m     \u001b[1;32mreturn\u001b[0m \u001b[0minner_f\u001b[0m\u001b[1;33m\u001b[0m\u001b[1;33m\u001b[0m\u001b[0m\n",
      "\u001b[1;32m~\\anaconda3\\lib\\site-packages\\xgboost\\sklearn.py\u001b[0m in \u001b[0;36mfit\u001b[1;34m(self, X, y, sample_weight, base_margin, eval_set, eval_metric, early_stopping_rounds, verbose, xgb_model, sample_weight_eval_set, base_margin_eval_set, feature_weights, callbacks)\u001b[0m\n\u001b[0;32m   1248\u001b[0m         )\n\u001b[0;32m   1249\u001b[0m \u001b[1;33m\u001b[0m\u001b[0m\n\u001b[1;32m-> 1250\u001b[1;33m         self._Booster = train(\n\u001b[0m\u001b[0;32m   1251\u001b[0m             \u001b[0mparams\u001b[0m\u001b[1;33m,\u001b[0m\u001b[1;33m\u001b[0m\u001b[1;33m\u001b[0m\u001b[0m\n\u001b[0;32m   1252\u001b[0m             \u001b[0mtrain_dmatrix\u001b[0m\u001b[1;33m,\u001b[0m\u001b[1;33m\u001b[0m\u001b[1;33m\u001b[0m\u001b[0m\n",
      "\u001b[1;32m~\\anaconda3\\lib\\site-packages\\xgboost\\training.py\u001b[0m in \u001b[0;36mtrain\u001b[1;34m(params, dtrain, num_boost_round, evals, obj, feval, maximize, early_stopping_rounds, evals_result, verbose_eval, xgb_model, callbacks)\u001b[0m\n\u001b[0;32m    186\u001b[0m     \u001b[0mBooster\u001b[0m \u001b[1;33m:\u001b[0m \u001b[0ma\u001b[0m \u001b[0mtrained\u001b[0m \u001b[0mbooster\u001b[0m \u001b[0mmodel\u001b[0m\u001b[1;33m\u001b[0m\u001b[1;33m\u001b[0m\u001b[0m\n\u001b[0;32m    187\u001b[0m     \"\"\"\n\u001b[1;32m--> 188\u001b[1;33m     bst = _train_internal(params, dtrain,\n\u001b[0m\u001b[0;32m    189\u001b[0m                           \u001b[0mnum_boost_round\u001b[0m\u001b[1;33m=\u001b[0m\u001b[0mnum_boost_round\u001b[0m\u001b[1;33m,\u001b[0m\u001b[1;33m\u001b[0m\u001b[1;33m\u001b[0m\u001b[0m\n\u001b[0;32m    190\u001b[0m                           \u001b[0mevals\u001b[0m\u001b[1;33m=\u001b[0m\u001b[0mevals\u001b[0m\u001b[1;33m,\u001b[0m\u001b[1;33m\u001b[0m\u001b[1;33m\u001b[0m\u001b[0m\n",
      "\u001b[1;32m~\\anaconda3\\lib\\site-packages\\xgboost\\training.py\u001b[0m in \u001b[0;36m_train_internal\u001b[1;34m(params, dtrain, num_boost_round, evals, obj, feval, xgb_model, callbacks, evals_result, maximize, verbose_eval, early_stopping_rounds)\u001b[0m\n\u001b[0;32m     79\u001b[0m         \u001b[1;32mif\u001b[0m \u001b[0mcallbacks\u001b[0m\u001b[1;33m.\u001b[0m\u001b[0mbefore_iteration\u001b[0m\u001b[1;33m(\u001b[0m\u001b[0mbst\u001b[0m\u001b[1;33m,\u001b[0m \u001b[0mi\u001b[0m\u001b[1;33m,\u001b[0m \u001b[0mdtrain\u001b[0m\u001b[1;33m,\u001b[0m \u001b[0mevals\u001b[0m\u001b[1;33m)\u001b[0m\u001b[1;33m:\u001b[0m\u001b[1;33m\u001b[0m\u001b[1;33m\u001b[0m\u001b[0m\n\u001b[0;32m     80\u001b[0m             \u001b[1;32mbreak\u001b[0m\u001b[1;33m\u001b[0m\u001b[1;33m\u001b[0m\u001b[0m\n\u001b[1;32m---> 81\u001b[1;33m         \u001b[0mbst\u001b[0m\u001b[1;33m.\u001b[0m\u001b[0mupdate\u001b[0m\u001b[1;33m(\u001b[0m\u001b[0mdtrain\u001b[0m\u001b[1;33m,\u001b[0m \u001b[0mi\u001b[0m\u001b[1;33m,\u001b[0m \u001b[0mobj\u001b[0m\u001b[1;33m)\u001b[0m\u001b[1;33m\u001b[0m\u001b[1;33m\u001b[0m\u001b[0m\n\u001b[0m\u001b[0;32m     82\u001b[0m         \u001b[1;32mif\u001b[0m \u001b[0mcallbacks\u001b[0m\u001b[1;33m.\u001b[0m\u001b[0mafter_iteration\u001b[0m\u001b[1;33m(\u001b[0m\u001b[0mbst\u001b[0m\u001b[1;33m,\u001b[0m \u001b[0mi\u001b[0m\u001b[1;33m,\u001b[0m \u001b[0mdtrain\u001b[0m\u001b[1;33m,\u001b[0m \u001b[0mevals\u001b[0m\u001b[1;33m)\u001b[0m\u001b[1;33m:\u001b[0m\u001b[1;33m\u001b[0m\u001b[1;33m\u001b[0m\u001b[0m\n\u001b[0;32m     83\u001b[0m             \u001b[1;32mbreak\u001b[0m\u001b[1;33m\u001b[0m\u001b[1;33m\u001b[0m\u001b[0m\n",
      "\u001b[1;32m~\\anaconda3\\lib\\site-packages\\xgboost\\core.py\u001b[0m in \u001b[0;36mupdate\u001b[1;34m(self, dtrain, iteration, fobj)\u001b[0m\n\u001b[0;32m   1678\u001b[0m \u001b[1;33m\u001b[0m\u001b[0m\n\u001b[0;32m   1679\u001b[0m         \u001b[1;32mif\u001b[0m \u001b[0mfobj\u001b[0m \u001b[1;32mis\u001b[0m \u001b[1;32mNone\u001b[0m\u001b[1;33m:\u001b[0m\u001b[1;33m\u001b[0m\u001b[1;33m\u001b[0m\u001b[0m\n\u001b[1;32m-> 1680\u001b[1;33m             _check_call(_LIB.XGBoosterUpdateOneIter(self.handle,\n\u001b[0m\u001b[0;32m   1681\u001b[0m                                                     \u001b[0mctypes\u001b[0m\u001b[1;33m.\u001b[0m\u001b[0mc_int\u001b[0m\u001b[1;33m(\u001b[0m\u001b[0miteration\u001b[0m\u001b[1;33m)\u001b[0m\u001b[1;33m,\u001b[0m\u001b[1;33m\u001b[0m\u001b[1;33m\u001b[0m\u001b[0m\n\u001b[0;32m   1682\u001b[0m                                                     dtrain.handle))\n",
      "\u001b[1;31mKeyboardInterrupt\u001b[0m: "
     ]
    }
   ],
   "source": [
    "best_params = {'n_estimators':400,\n",
    "               'max_depth':12,\n",
    "               'learning_rate':0.1,\n",
    "               'colsample_bylevel':0.5,\n",
    "               'subsample':0.1,\n",
    "               'n_jobs':-1}\n",
    "\n",
    "xgb_bst_clf = xgb.XGBClassifier(**best_params)\n",
    "xgb_clf, xgb_auc, xgb_f1, xgb_far = evaluate_result(xgb_bst_clf, x_train_new_csr, y_train, x_test_csr, y_test, 'XGB')"
   ]
  },
  {
   "cell_type": "code",
   "execution_count": 78,
   "id": "845c37a0",
   "metadata": {},
   "outputs": [],
   "source": [
    "pickle.dump(xgb_clf, open(file_path+'/xgb_clf.pkl', 'wb'))"
   ]
  },
  {
   "cell_type": "code",
   "execution_count": 79,
   "id": "abfb8e94",
   "metadata": {},
   "outputs": [],
   "source": [
    "result_dict = pickle.load(open(file_path+'/final_result_dict.pkl', 'rb'))"
   ]
  },
  {
   "cell_type": "code",
   "execution_count": 80,
   "id": "16f069b4",
   "metadata": {},
   "outputs": [
    {
     "data": {
      "text/html": [
       "<div>\n",
       "<style scoped>\n",
       "    .dataframe tbody tr th:only-of-type {\n",
       "        vertical-align: middle;\n",
       "    }\n",
       "\n",
       "    .dataframe tbody tr th {\n",
       "        vertical-align: top;\n",
       "    }\n",
       "\n",
       "    .dataframe thead th {\n",
       "        text-align: right;\n",
       "    }\n",
       "</style>\n",
       "<table border=\"1\" class=\"dataframe\">\n",
       "  <thead>\n",
       "    <tr style=\"text-align: right;\">\n",
       "      <th></th>\n",
       "      <th>name</th>\n",
       "      <th>auc</th>\n",
       "      <th>f1</th>\n",
       "      <th>far</th>\n",
       "    </tr>\n",
       "  </thead>\n",
       "  <tbody>\n",
       "    <tr>\n",
       "      <th>0</th>\n",
       "      <td>LR</td>\n",
       "      <td>0.970084</td>\n",
       "      <td>0.954978</td>\n",
       "      <td>0.029916</td>\n",
       "    </tr>\n",
       "    <tr>\n",
       "      <th>1</th>\n",
       "      <td>SVM</td>\n",
       "      <td>0.990037</td>\n",
       "      <td>0.955338</td>\n",
       "      <td>0.009963</td>\n",
       "    </tr>\n",
       "    <tr>\n",
       "      <th>2</th>\n",
       "      <td>RF</td>\n",
       "      <td>0.985477</td>\n",
       "      <td>0.976750</td>\n",
       "      <td>0.014523</td>\n",
       "    </tr>\n",
       "  </tbody>\n",
       "</table>\n",
       "</div>"
      ],
      "text/plain": [
       "  name       auc        f1       far\n",
       "0   LR  0.970084  0.954978  0.029916\n",
       "1  SVM  0.990037  0.955338  0.009963\n",
       "2   RF  0.985477  0.976750  0.014523"
      ]
     },
     "execution_count": 80,
     "metadata": {},
     "output_type": "execute_result"
    }
   ],
   "source": [
    "pd.DataFrame(result_dict)[['name', 'auc', 'f1', 'far']]"
   ]
  },
  {
   "cell_type": "markdown",
   "id": "cad0cff1",
   "metadata": {},
   "source": [
    "Observation\n",
    "\n",
    "1.Tuning lots of parameters for this classifier with appropriate values.\n",
    "\n",
    "2.Performance is mostly dependent on \"learning_rate\" somewhat on \"max_depth\" and \"n_estimators\" and less dependent on other 2 params.\n",
    "\n",
    "3.Best parameters for the model- 'n_estimators':400, 'max_depth':12, 'learning_rate':0.1, 'colsample_bylevel':0.5, 'subsample':0.1, 'n_jobs':-1\n",
    "\n",
    "4.Train and Test score is close but compared to above models there is a gap between train and test score. So it is overfitting on train data if wwe compare with above models. But the gap is very low so not much of overfitting.\n",
    "\n",
    "5.In train data FAR is very very low, but in test there is still almost equal FN and FP"
   ]
  },
  {
   "cell_type": "code",
   "execution_count": 81,
   "id": "f6c11486",
   "metadata": {},
   "outputs": [],
   "source": [
    "pickle.dump(result_dict, open('result_dict.pkl', 'wb'))"
   ]
  },
  {
   "cell_type": "code",
   "execution_count": 82,
   "id": "0109e3c7",
   "metadata": {},
   "outputs": [],
   "source": [
    "XGB_clf = pickle.load(open(file_path+'/xgb_clf.pkl', 'rb'))"
   ]
  },
  {
   "cell_type": "markdown",
   "id": "bb161f01",
   "metadata": {},
   "source": [
    "### Getting Important features"
   ]
  },
  {
   "cell_type": "code",
   "execution_count": 83,
   "id": "bade565f",
   "metadata": {},
   "outputs": [
    {
     "ename": "NotFittedError",
     "evalue": "need to call fit or load_model beforehand",
     "output_type": "error",
     "traceback": [
      "\u001b[1;31m---------------------------------------------------------------------------\u001b[0m",
      "\u001b[1;31mNotFittedError\u001b[0m                            Traceback (most recent call last)",
      "\u001b[1;32m~\\AppData\\Local\\Temp/ipykernel_96972/1224925667.py\u001b[0m in \u001b[0;36m<module>\u001b[1;34m\u001b[0m\n\u001b[0;32m      1\u001b[0m \u001b[1;31m# Totol features with some importance\u001b[0m\u001b[1;33m\u001b[0m\u001b[1;33m\u001b[0m\u001b[1;33m\u001b[0m\u001b[0m\n\u001b[1;32m----> 2\u001b[1;33m \u001b[0mnp\u001b[0m\u001b[1;33m.\u001b[0m\u001b[0mcount_nonzero\u001b[0m\u001b[1;33m(\u001b[0m\u001b[0mXGB_clf\u001b[0m\u001b[1;33m.\u001b[0m\u001b[0mfeature_importances_\u001b[0m\u001b[1;33m)\u001b[0m\u001b[1;33m\u001b[0m\u001b[1;33m\u001b[0m\u001b[0m\n\u001b[0m",
      "\u001b[1;32m~\\anaconda3\\lib\\site-packages\\xgboost\\sklearn.py\u001b[0m in \u001b[0;36mfeature_importances_\u001b[1;34m(self)\u001b[0m\n\u001b[0;32m   1027\u001b[0m \u001b[1;33m\u001b[0m\u001b[0m\n\u001b[0;32m   1028\u001b[0m         \"\"\"\n\u001b[1;32m-> 1029\u001b[1;33m         \u001b[0mb\u001b[0m\u001b[1;33m:\u001b[0m \u001b[0mBooster\u001b[0m \u001b[1;33m=\u001b[0m \u001b[0mself\u001b[0m\u001b[1;33m.\u001b[0m\u001b[0mget_booster\u001b[0m\u001b[1;33m(\u001b[0m\u001b[1;33m)\u001b[0m\u001b[1;33m\u001b[0m\u001b[1;33m\u001b[0m\u001b[0m\n\u001b[0m\u001b[0;32m   1030\u001b[0m \u001b[1;33m\u001b[0m\u001b[0m\n\u001b[0;32m   1031\u001b[0m         \u001b[1;32mdef\u001b[0m \u001b[0mdft\u001b[0m\u001b[1;33m(\u001b[0m\u001b[1;33m)\u001b[0m \u001b[1;33m->\u001b[0m \u001b[0mstr\u001b[0m\u001b[1;33m:\u001b[0m\u001b[1;33m\u001b[0m\u001b[1;33m\u001b[0m\u001b[0m\n",
      "\u001b[1;32m~\\anaconda3\\lib\\site-packages\\xgboost\\sklearn.py\u001b[0m in \u001b[0;36mget_booster\u001b[1;34m(self)\u001b[0m\n\u001b[0;32m    457\u001b[0m         \u001b[1;32mif\u001b[0m \u001b[1;32mnot\u001b[0m \u001b[0mself\u001b[0m\u001b[1;33m.\u001b[0m\u001b[0m__sklearn_is_fitted__\u001b[0m\u001b[1;33m(\u001b[0m\u001b[1;33m)\u001b[0m\u001b[1;33m:\u001b[0m\u001b[1;33m\u001b[0m\u001b[1;33m\u001b[0m\u001b[0m\n\u001b[0;32m    458\u001b[0m             \u001b[1;32mfrom\u001b[0m \u001b[0msklearn\u001b[0m\u001b[1;33m.\u001b[0m\u001b[0mexceptions\u001b[0m \u001b[1;32mimport\u001b[0m \u001b[0mNotFittedError\u001b[0m\u001b[1;33m\u001b[0m\u001b[1;33m\u001b[0m\u001b[0m\n\u001b[1;32m--> 459\u001b[1;33m             \u001b[1;32mraise\u001b[0m \u001b[0mNotFittedError\u001b[0m\u001b[1;33m(\u001b[0m\u001b[1;34m'need to call fit or load_model beforehand'\u001b[0m\u001b[1;33m)\u001b[0m\u001b[1;33m\u001b[0m\u001b[1;33m\u001b[0m\u001b[0m\n\u001b[0m\u001b[0;32m    460\u001b[0m         \u001b[1;32mreturn\u001b[0m \u001b[0mself\u001b[0m\u001b[1;33m.\u001b[0m\u001b[0m_Booster\u001b[0m\u001b[1;33m\u001b[0m\u001b[1;33m\u001b[0m\u001b[0m\n\u001b[0;32m    461\u001b[0m \u001b[1;33m\u001b[0m\u001b[0m\n",
      "\u001b[1;31mNotFittedError\u001b[0m: need to call fit or load_model beforehand"
     ]
    }
   ],
   "source": [
    "# Totol features with some importance\n",
    "np.count_nonzero(XGB_clf.feature_importances_)"
   ]
  },
  {
   "cell_type": "code",
   "execution_count": 97,
   "id": "a097aa1b",
   "metadata": {},
   "outputs": [
    {
     "ename": "NotFittedError",
     "evalue": "need to call fit or load_model beforehand",
     "output_type": "error",
     "traceback": [
      "\u001b[1;31m---------------------------------------------------------------------------\u001b[0m",
      "\u001b[1;31mNotFittedError\u001b[0m                            Traceback (most recent call last)",
      "\u001b[1;32m~\\AppData\\Local\\Temp/ipykernel_96972/3089589946.py\u001b[0m in \u001b[0;36m<module>\u001b[1;34m\u001b[0m\n\u001b[0;32m      1\u001b[0m \u001b[1;31m# Getting the indices of the features sorted in descending order\u001b[0m\u001b[1;33m\u001b[0m\u001b[1;33m\u001b[0m\u001b[1;33m\u001b[0m\u001b[0m\n\u001b[1;32m----> 2\u001b[1;33m \u001b[0mindices\u001b[0m \u001b[1;33m=\u001b[0m \u001b[0mnp\u001b[0m\u001b[1;33m.\u001b[0m\u001b[0margsort\u001b[0m\u001b[1;33m(\u001b[0m\u001b[1;33m-\u001b[0m\u001b[1;36m1\u001b[0m \u001b[1;33m*\u001b[0m \u001b[0mabs\u001b[0m\u001b[1;33m(\u001b[0m\u001b[0mxgb_clf\u001b[0m\u001b[1;33m.\u001b[0m\u001b[0mfeature_importances_\u001b[0m\u001b[1;33m)\u001b[0m\u001b[1;33m)\u001b[0m\u001b[1;33m[\u001b[0m\u001b[1;33m:\u001b[0m\u001b[1;36m55\u001b[0m\u001b[1;33m]\u001b[0m\u001b[1;33m\u001b[0m\u001b[1;33m\u001b[0m\u001b[0m\n\u001b[0m",
      "\u001b[1;32m~\\anaconda3\\lib\\site-packages\\xgboost\\sklearn.py\u001b[0m in \u001b[0;36mfeature_importances_\u001b[1;34m(self)\u001b[0m\n\u001b[0;32m   1027\u001b[0m \u001b[1;33m\u001b[0m\u001b[0m\n\u001b[0;32m   1028\u001b[0m         \"\"\"\n\u001b[1;32m-> 1029\u001b[1;33m         \u001b[0mb\u001b[0m\u001b[1;33m:\u001b[0m \u001b[0mBooster\u001b[0m \u001b[1;33m=\u001b[0m \u001b[0mself\u001b[0m\u001b[1;33m.\u001b[0m\u001b[0mget_booster\u001b[0m\u001b[1;33m(\u001b[0m\u001b[1;33m)\u001b[0m\u001b[1;33m\u001b[0m\u001b[1;33m\u001b[0m\u001b[0m\n\u001b[0m\u001b[0;32m   1030\u001b[0m \u001b[1;33m\u001b[0m\u001b[0m\n\u001b[0;32m   1031\u001b[0m         \u001b[1;32mdef\u001b[0m \u001b[0mdft\u001b[0m\u001b[1;33m(\u001b[0m\u001b[1;33m)\u001b[0m \u001b[1;33m->\u001b[0m \u001b[0mstr\u001b[0m\u001b[1;33m:\u001b[0m\u001b[1;33m\u001b[0m\u001b[1;33m\u001b[0m\u001b[0m\n",
      "\u001b[1;32m~\\anaconda3\\lib\\site-packages\\xgboost\\sklearn.py\u001b[0m in \u001b[0;36mget_booster\u001b[1;34m(self)\u001b[0m\n\u001b[0;32m    457\u001b[0m         \u001b[1;32mif\u001b[0m \u001b[1;32mnot\u001b[0m \u001b[0mself\u001b[0m\u001b[1;33m.\u001b[0m\u001b[0m__sklearn_is_fitted__\u001b[0m\u001b[1;33m(\u001b[0m\u001b[1;33m)\u001b[0m\u001b[1;33m:\u001b[0m\u001b[1;33m\u001b[0m\u001b[1;33m\u001b[0m\u001b[0m\n\u001b[0;32m    458\u001b[0m             \u001b[1;32mfrom\u001b[0m \u001b[0msklearn\u001b[0m\u001b[1;33m.\u001b[0m\u001b[0mexceptions\u001b[0m \u001b[1;32mimport\u001b[0m \u001b[0mNotFittedError\u001b[0m\u001b[1;33m\u001b[0m\u001b[1;33m\u001b[0m\u001b[0m\n\u001b[1;32m--> 459\u001b[1;33m             \u001b[1;32mraise\u001b[0m \u001b[0mNotFittedError\u001b[0m\u001b[1;33m(\u001b[0m\u001b[1;34m'need to call fit or load_model beforehand'\u001b[0m\u001b[1;33m)\u001b[0m\u001b[1;33m\u001b[0m\u001b[1;33m\u001b[0m\u001b[0m\n\u001b[0m\u001b[0;32m    460\u001b[0m         \u001b[1;32mreturn\u001b[0m \u001b[0mself\u001b[0m\u001b[1;33m.\u001b[0m\u001b[0m_Booster\u001b[0m\u001b[1;33m\u001b[0m\u001b[1;33m\u001b[0m\u001b[0m\n\u001b[0;32m    461\u001b[0m \u001b[1;33m\u001b[0m\u001b[0m\n",
      "\u001b[1;31mNotFittedError\u001b[0m: need to call fit or load_model beforehand"
     ]
    }
   ],
   "source": [
    "# Getting the indices of the features sorted in descending order\n",
    "indices = np.argsort(-1 * abs(xgb_clf.feature_importances_))[:55]"
   ]
  },
  {
   "cell_type": "code",
   "execution_count": null,
   "id": "2fd6b756",
   "metadata": {},
   "outputs": [],
   "source": [
    "# Saving for later use\n",
    "saved_dict['imp_indices'] = indices"
   ]
  },
  {
   "cell_type": "code",
   "execution_count": null,
   "id": "f4e74b08",
   "metadata": {},
   "outputs": [],
   "source": [
    "pickle.dump(saved_dict, open(file_path+'/saved_dict.pkl', 'wb'))"
   ]
  },
  {
   "cell_type": "code",
   "execution_count": null,
   "id": "a4a2966d",
   "metadata": {},
   "outputs": [],
   "source": [
    "x_train_new_csr[:,indices].shape"
   ]
  },
  {
   "cell_type": "markdown",
   "id": "bc750412",
   "metadata": {},
   "source": [
    "### Plotting Features and their Importance"
   ]
  },
  {
   "cell_type": "code",
   "execution_count": 98,
   "id": "7398d712",
   "metadata": {},
   "outputs": [
    {
     "ename": "NameError",
     "evalue": "name 'indices' is not defined",
     "output_type": "error",
     "traceback": [
      "\u001b[1;31m---------------------------------------------------------------------------\u001b[0m",
      "\u001b[1;31mNameError\u001b[0m                                 Traceback (most recent call last)",
      "\u001b[1;32m~\\AppData\\Local\\Temp/ipykernel_96972/2087311363.py\u001b[0m in \u001b[0;36m<module>\u001b[1;34m\u001b[0m\n\u001b[0;32m      1\u001b[0m \u001b[0mplt\u001b[0m\u001b[1;33m.\u001b[0m\u001b[0mfigure\u001b[0m\u001b[1;33m(\u001b[0m\u001b[0mfigsize\u001b[0m\u001b[1;33m=\u001b[0m\u001b[1;33m(\u001b[0m\u001b[1;36m20\u001b[0m\u001b[1;33m,\u001b[0m\u001b[1;36m8\u001b[0m\u001b[1;33m)\u001b[0m\u001b[1;33m)\u001b[0m\u001b[1;33m\u001b[0m\u001b[1;33m\u001b[0m\u001b[0m\n\u001b[1;32m----> 2\u001b[1;33m \u001b[0mplt\u001b[0m\u001b[1;33m.\u001b[0m\u001b[0mbar\u001b[0m\u001b[1;33m(\u001b[0m\u001b[0mx_train\u001b[0m\u001b[1;33m.\u001b[0m\u001b[0mcolumns\u001b[0m\u001b[1;33m[\u001b[0m\u001b[0mindices\u001b[0m\u001b[1;33m]\u001b[0m\u001b[1;33m,\u001b[0m \u001b[0mabs\u001b[0m\u001b[1;33m(\u001b[0m\u001b[0mxgb_clf\u001b[0m\u001b[1;33m.\u001b[0m\u001b[0mfeature_importances_\u001b[0m\u001b[1;33m[\u001b[0m\u001b[0mindices\u001b[0m\u001b[1;33m]\u001b[0m\u001b[1;33m)\u001b[0m\u001b[1;33m)\u001b[0m\u001b[1;33m\u001b[0m\u001b[1;33m\u001b[0m\u001b[0m\n\u001b[0m\u001b[0;32m      3\u001b[0m \u001b[0mplt\u001b[0m\u001b[1;33m.\u001b[0m\u001b[0mxticks\u001b[0m\u001b[1;33m(\u001b[0m\u001b[0mrotation\u001b[0m\u001b[1;33m=\u001b[0m\u001b[1;36m90\u001b[0m\u001b[1;33m)\u001b[0m\u001b[1;33m\u001b[0m\u001b[1;33m\u001b[0m\u001b[0m\n\u001b[0;32m      4\u001b[0m \u001b[0mplt\u001b[0m\u001b[1;33m.\u001b[0m\u001b[0mxlabel\u001b[0m\u001b[1;33m(\u001b[0m\u001b[1;34m\"Features\"\u001b[0m\u001b[1;33m)\u001b[0m\u001b[1;33m\u001b[0m\u001b[1;33m\u001b[0m\u001b[0m\n\u001b[0;32m      5\u001b[0m \u001b[0mplt\u001b[0m\u001b[1;33m.\u001b[0m\u001b[0mylabel\u001b[0m\u001b[1;33m(\u001b[0m\u001b[1;34m\"Importance\"\u001b[0m\u001b[1;33m)\u001b[0m\u001b[1;33m\u001b[0m\u001b[1;33m\u001b[0m\u001b[0m\n",
      "\u001b[1;31mNameError\u001b[0m: name 'indices' is not defined"
     ]
    },
    {
     "data": {
      "text/plain": [
       "<Figure size 1440x576 with 0 Axes>"
      ]
     },
     "metadata": {},
     "output_type": "display_data"
    }
   ],
   "source": [
    "plt.figure(figsize=(20,8))\n",
    "plt.bar(x_train.columns[indices], abs(xgb_clf.feature_importances_[indices]))\n",
    "plt.xticks(rotation=90)\n",
    "plt.xlabel(\"Features\")\n",
    "plt.ylabel(\"Importance\")\n",
    "plt.title(\"Plot of features and its importance\")\n",
    "plt.grid()\n",
    "plt.show()"
   ]
  },
  {
   "cell_type": "markdown",
   "id": "57d3599b",
   "metadata": {},
   "source": [
    "### Models on Important features"
   ]
  },
  {
   "cell_type": "markdown",
   "id": "d07f5a0c",
   "metadata": {},
   "source": [
    "Again Training few models from above and then compare the result of model with all parameters and only important parameters."
   ]
  },
  {
   "cell_type": "code",
   "execution_count": 99,
   "id": "1f9dc9e7",
   "metadata": {},
   "outputs": [
    {
     "ename": "NameError",
     "evalue": "name 'indices' is not defined",
     "output_type": "error",
     "traceback": [
      "\u001b[1;31m---------------------------------------------------------------------------\u001b[0m",
      "\u001b[1;31mNameError\u001b[0m                                 Traceback (most recent call last)",
      "\u001b[1;32m~\\AppData\\Local\\Temp/ipykernel_96972/1694950900.py\u001b[0m in \u001b[0;36m<module>\u001b[1;34m\u001b[0m\n\u001b[0;32m      1\u001b[0m \u001b[0mdt_clf_imp\u001b[0m \u001b[1;33m=\u001b[0m \u001b[0mDecisionTreeClassifier\u001b[0m\u001b[1;33m(\u001b[0m\u001b[0mmax_depth\u001b[0m\u001b[1;33m=\u001b[0m\u001b[1;36m10\u001b[0m\u001b[1;33m,\u001b[0m \u001b[0mmin_samples_split\u001b[0m\u001b[1;33m=\u001b[0m\u001b[1;36m6\u001b[0m\u001b[1;33m,\u001b[0m \u001b[0mmin_samples_leaf\u001b[0m\u001b[1;33m=\u001b[0m\u001b[1;36m9\u001b[0m\u001b[1;33m)\u001b[0m\u001b[1;33m\u001b[0m\u001b[1;33m\u001b[0m\u001b[0m\n\u001b[1;32m----> 2\u001b[1;33m \u001b[0mdt_clf_imp\u001b[0m\u001b[1;33m,\u001b[0m \u001b[0mdt_fi_auc\u001b[0m\u001b[1;33m,\u001b[0m \u001b[0mdt_fi_f1\u001b[0m\u001b[1;33m,\u001b[0m \u001b[0mdt_fi_far\u001b[0m \u001b[1;33m=\u001b[0m \u001b[0mevaluate_result\u001b[0m\u001b[1;33m(\u001b[0m\u001b[0mdt_clf_imp\u001b[0m\u001b[1;33m,\u001b[0m \u001b[0mx_train_new_csr\u001b[0m\u001b[1;33m[\u001b[0m\u001b[1;33m:\u001b[0m\u001b[1;33m,\u001b[0m\u001b[0mindices\u001b[0m\u001b[1;33m]\u001b[0m\u001b[1;33m,\u001b[0m \u001b[0my_train\u001b[0m\u001b[1;33m,\u001b[0m \u001b[0mx_test_csr\u001b[0m\u001b[1;33m[\u001b[0m\u001b[1;33m:\u001b[0m\u001b[1;33m,\u001b[0m\u001b[0mindices\u001b[0m\u001b[1;33m]\u001b[0m\u001b[1;33m,\u001b[0m \u001b[0my_test\u001b[0m\u001b[1;33m,\u001b[0m \u001b[1;34m'DT_FI'\u001b[0m\u001b[1;33m)\u001b[0m\u001b[1;33m\u001b[0m\u001b[1;33m\u001b[0m\u001b[0m\n\u001b[0m",
      "\u001b[1;31mNameError\u001b[0m: name 'indices' is not defined"
     ]
    }
   ],
   "source": [
    "dt_clf_imp = DecisionTreeClassifier(max_depth=10, min_samples_split=6, min_samples_leaf=9)\n",
    "dt_clf_imp, dt_fi_auc, dt_fi_f1, dt_fi_far = evaluate_result(dt_clf_imp, x_train_new_csr[:,indices], y_train, x_test_csr[:,indices], y_test, 'DT_FI')"
   ]
  },
  {
   "cell_type": "code",
   "execution_count": 100,
   "id": "4a13741b",
   "metadata": {},
   "outputs": [
    {
     "ename": "NameError",
     "evalue": "name 'dt_fi_auc' is not defined",
     "output_type": "error",
     "traceback": [
      "\u001b[1;31m---------------------------------------------------------------------------\u001b[0m",
      "\u001b[1;31mNameError\u001b[0m                                 Traceback (most recent call last)",
      "\u001b[1;32m~\\AppData\\Local\\Temp/ipykernel_96972/1847391697.py\u001b[0m in \u001b[0;36m<module>\u001b[1;34m\u001b[0m\n\u001b[0;32m      2\u001b[0m \u001b[1;33m\u001b[0m\u001b[0m\n\u001b[0;32m      3\u001b[0m \u001b[0mresult_dict\u001b[0m\u001b[1;33m[\u001b[0m\u001b[1;34m'name'\u001b[0m\u001b[1;33m]\u001b[0m\u001b[1;33m.\u001b[0m\u001b[0mappend\u001b[0m\u001b[1;33m(\u001b[0m\u001b[1;34m'DT_FI'\u001b[0m\u001b[1;33m)\u001b[0m\u001b[1;33m\u001b[0m\u001b[1;33m\u001b[0m\u001b[0m\n\u001b[1;32m----> 4\u001b[1;33m \u001b[0mresult_dict\u001b[0m\u001b[1;33m[\u001b[0m\u001b[1;34m'auc'\u001b[0m\u001b[1;33m]\u001b[0m\u001b[1;33m.\u001b[0m\u001b[0mappend\u001b[0m\u001b[1;33m(\u001b[0m\u001b[0mdt_fi_auc\u001b[0m\u001b[1;33m)\u001b[0m\u001b[1;33m\u001b[0m\u001b[1;33m\u001b[0m\u001b[0m\n\u001b[0m\u001b[0;32m      5\u001b[0m \u001b[0mresult_dict\u001b[0m\u001b[1;33m[\u001b[0m\u001b[1;34m'f1'\u001b[0m\u001b[1;33m]\u001b[0m\u001b[1;33m.\u001b[0m\u001b[0mappend\u001b[0m\u001b[1;33m(\u001b[0m\u001b[0mdt_fi_f1\u001b[0m\u001b[1;33m)\u001b[0m\u001b[1;33m\u001b[0m\u001b[1;33m\u001b[0m\u001b[0m\n\u001b[0;32m      6\u001b[0m \u001b[0mresult_dict\u001b[0m\u001b[1;33m[\u001b[0m\u001b[1;34m'far'\u001b[0m\u001b[1;33m]\u001b[0m\u001b[1;33m.\u001b[0m\u001b[0mappend\u001b[0m\u001b[1;33m(\u001b[0m\u001b[0mdt_fi_far\u001b[0m\u001b[1;33m)\u001b[0m\u001b[1;33m\u001b[0m\u001b[1;33m\u001b[0m\u001b[0m\n",
      "\u001b[1;31mNameError\u001b[0m: name 'dt_fi_auc' is not defined"
     ]
    }
   ],
   "source": [
    "#result_dict = pickle.load(open('result_dict.pkl', 'rb'))\n",
    "\n",
    "result_dict['name'].append('DT_FI')\n",
    "result_dict['auc'].append(dt_fi_auc)\n",
    "result_dict['f1'].append(dt_fi_f1)\n",
    "result_dict['far'].append(dt_fi_far)"
   ]
  },
  {
   "cell_type": "code",
   "execution_count": null,
   "id": "0652c71b",
   "metadata": {},
   "outputs": [],
   "source": [
    "pd.DataFrame(result_dict)"
   ]
  },
  {
   "cell_type": "markdown",
   "id": "2e2558fe",
   "metadata": {},
   "source": [
    "Observations\n",
    "\n",
    "1.Retraining the best Decision Tree model with data containing only important features.\n",
    "\n",
    "2.From observing the result we can see that there is not much difference in scores, but yes they have reduced very little."
   ]
  },
  {
   "cell_type": "code",
   "execution_count": null,
   "id": "21c1e913",
   "metadata": {},
   "outputs": [],
   "source": [
    "pickle.dump(dt_clf_imp, open(file_path+'/dt_clf_imp.pkl', 'wb'))"
   ]
  },
  {
   "cell_type": "markdown",
   "id": "cdb04716",
   "metadata": {},
   "source": [
    "### RF with Imp Params"
   ]
  },
  {
   "cell_type": "code",
   "execution_count": null,
   "id": "5a56d0ce",
   "metadata": {},
   "outputs": [],
   "source": [
    "rf_clf_imp = RandomForestClassifier(criterion='gini', max_depth=22, min_samples_split=6, n_estimators=300, n_jobs=-1)\n",
    "rf_clf_imp, rf_fi_auc, rf_fi_f1, rf_fi_far = evaluate_result(rf_clf_imp, x_train_new_csr[:,indices], y_train, x_test_csr[:,indices], y_test, 'RF_FI')"
   ]
  },
  {
   "cell_type": "code",
   "execution_count": null,
   "id": "3384ea6c",
   "metadata": {},
   "outputs": [],
   "source": [
    "pickle.dump(rf_clf_imp, open(file_path+'/rf_clf_imp.pkl', 'wb'))"
   ]
  },
  {
   "cell_type": "code",
   "execution_count": null,
   "id": "34e0c1af",
   "metadata": {},
   "outputs": [],
   "source": [
    "for i,j in zip(result_dict.keys(), [\"RF_FI\", rf_fi_auc, rf_fi_f1, rf_fi_far]):\n",
    "    result_dict[i].append(j)"
   ]
  },
  {
   "cell_type": "code",
   "execution_count": null,
   "id": "e5b5bc6a",
   "metadata": {},
   "outputs": [],
   "source": [
    "pd.DataFrame(result_dict)"
   ]
  },
  {
   "cell_type": "markdown",
   "id": "20e040d5",
   "metadata": {},
   "source": [
    "Observations\n",
    "\n",
    "1.Training the best Random Forest model again with only important features\n",
    "\n",
    "2.We can see that the performance has increased\n",
    "\n",
    "3.This model is giving the highest scores amongst all the models we have trained till now"
   ]
  },
  {
   "cell_type": "code",
   "execution_count": null,
   "id": "9f88eb3d",
   "metadata": {},
   "outputs": [],
   "source": [
    "# Re-creating data with imp feat\n",
    "\n",
    "x_train = x_train_new_csr[:, indices]\n",
    "x_cv = x_cv_csr[:, indices]\n",
    "x_test = x_test_csr[:, indices]"
   ]
  },
  {
   "cell_type": "code",
   "execution_count": null,
   "id": "7853737e",
   "metadata": {},
   "outputs": [],
   "source": [
    "x_train.shape, x_cv.shape, x_test.shape"
   ]
  },
  {
   "cell_type": "markdown",
   "id": "4a7b1be5",
   "metadata": {},
   "source": [
    "### Ensembles"
   ]
  },
  {
   "cell_type": "markdown",
   "id": "cab33e50",
   "metadata": {},
   "source": [
    "#### Voting Classifier Model"
   ]
  },
  {
   "cell_type": "markdown",
   "id": "5decdb47",
   "metadata": {},
   "source": [
    "Trining a ensemble model using voting classifier, Taking 3 classifiers DecisionTree, RandomForest and XGBClassifier"
   ]
  },
  {
   "cell_type": "code",
   "execution_count": null,
   "id": "bb1c9a43",
   "metadata": {},
   "outputs": [],
   "source": [
    "from sklearn.ensemble import VotingClassifier"
   ]
  },
  {
   "cell_type": "code",
   "execution_count": null,
   "id": "2e07e777",
   "metadata": {},
   "outputs": [],
   "source": [
    "# Initializing all the 3 classifiers with best found parameters\n",
    "dt_clf = DecisionTreeClassifier(max_depth=10, min_samples_split=6, min_samples_leaf=9)\n",
    "rf_clf = RandomForestClassifier(criterion='gini', max_depth=22, min_samples_split=6, n_estimators=300, n_jobs=-1)\n",
    "xgb_clf = xgb.XGBClassifier(n_estimators=400, max_depth=12, learning_rate=0.1, colsample_bylevel=0.5, subsample=0.1, n_jobs=-1)"
   ]
  },
  {
   "cell_type": "code",
   "execution_count": null,
   "id": "954b2e01",
   "metadata": {},
   "outputs": [],
   "source": [
    "# Result with voting classifier\n",
    "v_clf = VotingClassifier(estimators=[('dt', dt_clf), ('rf', rf_clf), ('xgb', xgb_clf)], voting='soft', n_jobs=-1)\n",
    "v_clf, v_auc, v_f1, v_far = evaluate_result(v_clf, x_train, y_train, x_test, y_test, \"Voting Clf\")"
   ]
  },
  {
   "cell_type": "code",
   "execution_count": null,
   "id": "f9a76eef",
   "metadata": {},
   "outputs": [],
   "source": [
    "pickle.dump(v_clf, open(file_path+'/v_clf.pkl', 'wb'))"
   ]
  },
  {
   "cell_type": "code",
   "execution_count": null,
   "id": "a7b83ddf",
   "metadata": {},
   "outputs": [],
   "source": [
    "for i,j in zip(result_dict.keys(), [\"Voting\", v_auc, v_f1, v_far]):\n",
    "    result_dict[i].append(j)"
   ]
  },
  {
   "cell_type": "code",
   "execution_count": null,
   "id": "41529159",
   "metadata": {},
   "outputs": [],
   "source": [
    "pd.DataFrame(result_dict)"
   ]
  },
  {
   "cell_type": "markdown",
   "id": "5001c2e7",
   "metadata": {},
   "source": [
    "Observations\n",
    "\n",
    "1.Training this model using 3 model best Dt, best RF and best XGB.\n",
    "\n",
    "2.The auc score of this model is higher than any other model.\n",
    "\n",
    "3.There is a gap in train and test auc and higher gap in train and test f1 and FAR\n",
    "\n",
    "4.In train the FAR is very very low but in test there are still few FP and FN and they are almost equal in number"
   ]
  },
  {
   "cell_type": "code",
   "execution_count": null,
   "id": "83f29c92",
   "metadata": {},
   "outputs": [],
   "source": [
    "pickle.dump(result_dict, open(file_path+'/final_result_dict.pkl', 'wb'))"
   ]
  },
  {
   "cell_type": "code",
   "execution_count": null,
   "id": "a4f71dfe",
   "metadata": {},
   "outputs": [],
   "source": [
    "best_model = pickle.load(open(file_path+'/rf_clf_imp.pkl', 'rb'))"
   ]
  },
  {
   "cell_type": "code",
   "execution_count": null,
   "id": "e17b8046",
   "metadata": {},
   "outputs": [],
   "source": [
    "f1_score(y_test, best_model.predict(x_test_csr[:, indices]))"
   ]
  }
 ],
 "metadata": {
  "kernelspec": {
   "display_name": "Python 3 (ipykernel)",
   "language": "python",
   "name": "python3"
  },
  "language_info": {
   "codemirror_mode": {
    "name": "ipython",
    "version": 3
   },
   "file_extension": ".py",
   "mimetype": "text/x-python",
   "name": "python",
   "nbconvert_exporter": "python",
   "pygments_lexer": "ipython3",
   "version": "3.8.12"
  }
 },
 "nbformat": 4,
 "nbformat_minor": 5
}
